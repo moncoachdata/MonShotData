{
 "cells": [
  {
   "cell_type": "markdown",
   "id": "c4a7f157-99ad-4d8c-b1ab-596923be7293",
   "metadata": {},
   "source": [
    "# Modifier le type de données de plusieurs colonnes à la fois"
   ]
  },
  {
   "cell_type": "code",
   "execution_count": 1,
   "id": "a80134eb-ab43-4251-8969-0af22ee2c03d",
   "metadata": {},
   "outputs": [],
   "source": [
    "import pandas as pd\n",
    "import numpy as np"
   ]
  },
  {
   "cell_type": "code",
   "execution_count": 8,
   "id": "5eebcc9d-e415-4ab3-befb-1740378d60f1",
   "metadata": {},
   "outputs": [],
   "source": [
    "df = pd.DataFrame([[8, 17, \"4\", \"A\"], \n",
    "                   [3, 3, \"11\", \"B\"], \n",
    "                   [1, 6, \"10\", \"C\"], \n",
    "                   [15, 9, \"1\", \"E\"], \n",
    "                   [10, 12, \"9\", \"D\"]], \n",
    "                  columns = [\"col1\",\"col2\",\"col3\",\"col4\"])"
   ]
  },
  {
   "cell_type": "code",
   "execution_count": 9,
   "id": "0a7cc42b-1655-4b9e-a885-a001f3f5544c",
   "metadata": {},
   "outputs": [
    {
     "name": "stdout",
     "output_type": "stream",
     "text": [
      "   col1  col2 col3 col4\n",
      "0     8    17    4    A\n",
      "1     3     3   11    B\n",
      "2     1     6   10    C\n",
      "3    15     9    1    E\n",
      "4    10    12    9    D\n"
     ]
    }
   ],
   "source": [
    "print(df)"
   ]
  },
  {
   "cell_type": "markdown",
   "id": "bdc425c8-8b59-4580-bb08-649427e740be",
   "metadata": {},
   "source": [
    "## Une colonne à la fois"
   ]
  },
  {
   "cell_type": "code",
   "execution_count": 4,
   "id": "7889ca84-7036-4bab-8929-cc6d00575554",
   "metadata": {},
   "outputs": [],
   "source": [
    "df[\"col1\"] = df.col1.astype(np.int32)\n",
    "df[\"col2\"] = df.col2.astype(np.int16)\n",
    "df[\"col3\"] = df.col3.astype(np.float16)"
   ]
  },
  {
   "cell_type": "markdown",
   "id": "5f057e80-ff97-4582-84ec-4bdceabcb8b3",
   "metadata": {},
   "source": [
    "## Plusieurs colonnes à la fois"
   ]
  },
  {
   "cell_type": "code",
   "execution_count": 5,
   "id": "a26cd8b6-fb79-4052-8d89-a2122931054a",
   "metadata": {},
   "outputs": [],
   "source": [
    "df = pd.DataFrame([[8, 17, \"4\", \"A\"], \n",
    "                   [3, 3, \"11\", \"B\"], \n",
    "                   [1, 6, \"10\", \"C\"], \n",
    "                   [15, 9, \"1\", \"E\"], \n",
    "                   [10, 12, \"9\", \"D\"]], \n",
    "                  columns = [\"col1\",\"col2\",\"col3\",\"col4\"])"
   ]
  },
  {
   "cell_type": "code",
   "execution_count": 6,
   "id": "ff62fbef-0034-4d87-856e-0afddde66148",
   "metadata": {},
   "outputs": [],
   "source": [
    "df = df.astype({\"col1\":np.int32, \n",
    "                \"col2\":np.int16, \n",
    "                \"col3\":np.float16})"
   ]
  }
 ],
 "metadata": {
  "kernelspec": {
   "display_name": "Python 3 (ipykernel)",
   "language": "python",
   "name": "python3"
  },
  "language_info": {
   "codemirror_mode": {
    "name": "ipython",
    "version": 3
   },
   "file_extension": ".py",
   "mimetype": "text/x-python",
   "name": "python",
   "nbconvert_exporter": "python",
   "pygments_lexer": "ipython3",
   "version": "3.10.14"
  }
 },
 "nbformat": 4,
 "nbformat_minor": 5
}
