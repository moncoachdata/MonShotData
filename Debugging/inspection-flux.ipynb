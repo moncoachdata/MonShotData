{
 "cells": [
  {
   "cell_type": "markdown",
   "id": "f4cd4efe-0def-49f9-8cf7-302a9d8bd81b",
   "metadata": {},
   "source": [
    "# Inspecter le flux de programmes avec IceCream"
   ]
  },
  {
   "cell_type": "markdown",
   "id": "ae4e02be-8f4a-4fc0-ac14-3ba62f2fdb8a",
   "metadata": {},
   "source": [
    "## Avec print()"
   ]
  },
  {
   "cell_type": "code",
   "execution_count": 1,
   "id": "4dc76ad9-2d38-4694-95c4-ce48c4ec4461",
   "metadata": {},
   "outputs": [
    {
     "name": "stdout",
     "output_type": "stream",
     "text": [
      "0\n",
      "1\n"
     ]
    }
   ],
   "source": [
    "def func(number):\n",
    "    print(0)\n",
    "    ...\n",
    "    \n",
    "    if number:\n",
    "        print(1)\n",
    "        ...\n",
    "    else:\n",
    "        print(2)\n",
    "        ...\n",
    "        \n",
    "func(2)"
   ]
  },
  {
   "cell_type": "markdown",
   "id": "a35df452-9d5b-4f2a-b5d3-8d2285a2384c",
   "metadata": {},
   "source": [
    "## Avec IceCream"
   ]
  },
  {
   "cell_type": "code",
   "execution_count": null,
   "id": "0eb73e4a-44bf-4899-8be8-65b1670241dd",
   "metadata": {},
   "outputs": [],
   "source": [
    "!pip install icecream"
   ]
  },
  {
   "cell_type": "code",
   "execution_count": 2,
   "id": "73d49c11-c631-4894-9e83-ab969e8ff0f6",
   "metadata": {},
   "outputs": [],
   "source": [
    "from icecream import ic"
   ]
  },
  {
   "cell_type": "code",
   "execution_count": 3,
   "id": "87bc2d26-e8d0-4106-aec8-0920df0c4cc5",
   "metadata": {},
   "outputs": [
    {
     "name": "stderr",
     "output_type": "stream",
     "text": [
      "ic| 1996313497.py:2 in func() at 22:02:48.356\n",
      "ic| 1996313497.py:6 in func() at 22:02:48.373\n"
     ]
    }
   ],
   "source": [
    "def func(number):\n",
    "    ic()\n",
    "    ...\n",
    "    \n",
    "    if number:\n",
    "        ic()\n",
    "        ...\n",
    "    else:\n",
    "        ic()\n",
    "        ...\n",
    "        \n",
    "func(2)"
   ]
  }
 ],
 "metadata": {
  "kernelspec": {
   "display_name": "Python 3 (ipykernel)",
   "language": "python",
   "name": "python3"
  },
  "language_info": {
   "codemirror_mode": {
    "name": "ipython",
    "version": 3
   },
   "file_extension": ".py",
   "mimetype": "text/x-python",
   "name": "python",
   "nbconvert_exporter": "python",
   "pygments_lexer": "ipython3",
   "version": "3.10.14"
  }
 },
 "nbformat": 4,
 "nbformat_minor": 5
}
