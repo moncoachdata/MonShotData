{
 "cells": [
  {
   "cell_type": "markdown",
   "id": "5eb2ce08-bcb8-4ba2-8e4c-a7eedd5ddfa8",
   "metadata": {},
   "source": [
    "# Le débogage facilité par PySnooper"
   ]
  },
  {
   "cell_type": "code",
   "execution_count": null,
   "id": "acef1589-509b-4a3f-81b5-916d90a58815",
   "metadata": {},
   "outputs": [],
   "source": [
    "!pip install PySnooper"
   ]
  },
  {
   "cell_type": "code",
   "execution_count": 1,
   "id": "5263936b-9c10-45c4-ad09-3a4d60306ff0",
   "metadata": {},
   "outputs": [
    {
     "name": "stdout",
     "output_type": "stream",
     "text": [
      "import pysnooper\n",
      "\n",
      "@pysnooper.snoop()\n",
      "def add_sub(a, b):\n",
      "    \n",
      "    add = a+b\n",
      "    sub = a-b\n",
      "    \n",
      "    return (add, sub)\n",
      "    \n",
      "add_sub(18, 10)"
     ]
    }
   ],
   "source": [
    "!cat pysnooper_expt.py"
   ]
  },
  {
   "cell_type": "code",
   "execution_count": 3,
   "id": "655414d8-532c-48f2-ad42-dca64fb04363",
   "metadata": {},
   "outputs": [
    {
     "name": "stdout",
     "output_type": "stream",
     "text": [
      "\u001b[33m\u001b[2mSource path:... \u001b[22m/Users/rod/Desktop/pysnooper_expt.py\u001b[0m\n",
      "\u001b[32m\u001b[2mStarting var:.. \u001b[22ma = 18\u001b[0m\n",
      "\u001b[32m\u001b[2mStarting var:.. \u001b[22mb = 10\u001b[0m\n",
      "\u001b[2m00:58:56.112032 call         4\u001b[0m def add_sub(a, b):\n",
      "\u001b[2m00:58:56.112571 line         6\u001b[0m     add = a+b\n",
      "\u001b[32m\u001b[2mNew var:....... \u001b[22madd = 28\u001b[0m\n",
      "\u001b[2m00:58:56.112613 line         7\u001b[0m     sub = a-b\n",
      "\u001b[32m\u001b[2mNew var:....... \u001b[22msub = 8\u001b[0m\n",
      "\u001b[2m00:58:56.112654 line         9\u001b[0m     return (add, sub)\n",
      "\u001b[2m00:58:56.112695 return       9\u001b[0m     return (add, sub)\n",
      "\u001b[36m\u001b[2mReturn value:.. \u001b[22m(28, 8)\u001b[0m\n",
      "\u001b[33m\u001b[2mElapsed time: \u001b[22m00:00:00.000731\u001b[0m\n"
     ]
    }
   ],
   "source": [
    "!python pysnooper_expt.py"
   ]
  }
 ],
 "metadata": {
  "kernelspec": {
   "display_name": "Python 3 (ipykernel)",
   "language": "python",
   "name": "python3"
  },
  "language_info": {
   "codemirror_mode": {
    "name": "ipython",
    "version": 3
   },
   "file_extension": ".py",
   "mimetype": "text/x-python",
   "name": "python",
   "nbconvert_exporter": "python",
   "pygments_lexer": "ipython3",
   "version": "3.11.7"
  }
 },
 "nbformat": 4,
 "nbformat_minor": 5
}
