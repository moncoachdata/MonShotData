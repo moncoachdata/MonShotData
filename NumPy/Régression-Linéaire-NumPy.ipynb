{
 "cells": [
  {
   "cell_type": "markdown",
   "id": "e419e00e-e400-43b5-8a8a-fa99fb3cbd4a",
   "metadata": {},
   "source": [
    "# Régression linéaire polynomiale avec NumPy"
   ]
  },
  {
   "cell_type": "code",
   "execution_count": 1,
   "id": "5dbafa8a-2b0a-4415-b78c-eb27d39608ee",
   "metadata": {},
   "outputs": [],
   "source": [
    "import numpy as np\n",
    "from sklearn.linear_model import LinearRegression"
   ]
  },
  {
   "cell_type": "markdown",
   "id": "c4070c8e-97dd-471b-9f8f-f2d9226c78ce",
   "metadata": {},
   "source": [
    "## Sklearn"
   ]
  },
  {
   "cell_type": "code",
   "execution_count": 2,
   "id": "2e23b5c2-efbe-4f15-8be5-abcf6a50a893",
   "metadata": {},
   "outputs": [],
   "source": [
    "## Entraînement\n",
    "\n",
    "## x\n",
    "x = np.array([8, 13, 14, 15, 15, 20, 25, 30, 38, 40]).reshape(-1, 1)\n",
    "\n",
    "## Création de features\n",
    "x = np.hstack((x, x**2))\n",
    "\n",
    "## y\n",
    "y = np.array([5, 4, 18, 14, 20, 24, 28, 33, 30, 37]).reshape(-1, 1)\n",
    "\n",
    "## Modèle\n",
    "model = LinearRegression().fit(x, y)"
   ]
  },
  {
   "cell_type": "code",
   "execution_count": 3,
   "id": "3d95da16-a161-40ab-8107-d694ca45f45f",
   "metadata": {},
   "outputs": [
    {
     "data": {
      "text/plain": [
       "array([[-10.4187261]])"
      ]
     },
     "execution_count": 3,
     "metadata": {},
     "output_type": "execute_result"
    }
   ],
   "source": [
    "## Test\n",
    "\n",
    "x = 2\n",
    "\n",
    "## Création encore de features\n",
    "inp = np.array([[x, x**2]])\n",
    "\n",
    "## Prédiction\n",
    "model.predict(inp)"
   ]
  },
  {
   "cell_type": "markdown",
   "id": "c8b2c26c-3cac-49c6-9b1d-35f504740a34",
   "metadata": {},
   "source": [
    "## NumPy"
   ]
  },
  {
   "cell_type": "code",
   "execution_count": 4,
   "id": "41d1c574-ad45-4dd7-b842-e7d7150d7df1",
   "metadata": {},
   "outputs": [],
   "source": [
    "## x et y\n",
    "x = np.array([8, 13, 14, 15, 15, 20, 25, 30, 38, 40])\n",
    "y = np.array([5, 4, 18, 14, 20, 24, 28, 33, 30, 37])\n",
    "\n",
    "coeff = np.polyfit(x, y, deg = 2)    ## préciser le degré"
   ]
  },
  {
   "cell_type": "code",
   "execution_count": 5,
   "id": "1df7273d-f782-4fd6-a894-b53596721155",
   "metadata": {},
   "outputs": [
    {
     "data": {
      "text/plain": [
       "array([ -0.03417752,   2.60449633, -15.49100871])"
      ]
     },
     "execution_count": 5,
     "metadata": {},
     "output_type": "execute_result"
    }
   ],
   "source": [
    "coeff"
   ]
  },
  {
   "cell_type": "code",
   "execution_count": 6,
   "id": "9b609f9f-4278-47f6-88c5-defa2b36384b",
   "metadata": {},
   "outputs": [],
   "source": [
    "model = np.poly1d(coeff)"
   ]
  },
  {
   "cell_type": "code",
   "execution_count": 7,
   "id": "2ce39d73-2645-453b-b133-73ef043d72c6",
   "metadata": {},
   "outputs": [
    {
     "data": {
      "text/plain": [
       "poly1d([ -0.03417752,   2.60449633, -15.49100871])"
      ]
     },
     "execution_count": 7,
     "metadata": {},
     "output_type": "execute_result"
    }
   ],
   "source": [
    "model"
   ]
  },
  {
   "cell_type": "code",
   "execution_count": 8,
   "id": "b61a3134-bc72-42bd-839e-0184fc640341",
   "metadata": {},
   "outputs": [
    {
     "data": {
      "text/plain": [
       "-10.418726101325248"
      ]
     },
     "execution_count": 8,
     "metadata": {},
     "output_type": "execute_result"
    }
   ],
   "source": [
    "inp = 2 \n",
    "model(inp)   ## cela crée les features"
   ]
  }
 ],
 "metadata": {
  "kernelspec": {
   "display_name": "Python 3 (ipykernel)",
   "language": "python",
   "name": "python3"
  },
  "language_info": {
   "codemirror_mode": {
    "name": "ipython",
    "version": 3
   },
   "file_extension": ".py",
   "mimetype": "text/x-python",
   "name": "python",
   "nbconvert_exporter": "python",
   "pygments_lexer": "ipython3",
   "version": "3.10.14"
  }
 },
 "nbformat": 4,
 "nbformat_minor": 5
}
