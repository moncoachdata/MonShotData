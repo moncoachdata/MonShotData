{
 "cells": [
  {
   "cell_type": "markdown",
   "id": "b095dc41-a88f-4ecd-b416-8e9ca2380b4a",
   "metadata": {},
   "source": [
    "# Accélérer les méthodes NumPy avec Bottleneck"
   ]
  },
  {
   "cell_type": "code",
   "execution_count": null,
   "id": "5b346188-3bcb-4b89-8230-5fcece23fb8d",
   "metadata": {},
   "outputs": [],
   "source": [
    "!pip install bottleneck"
   ]
  },
  {
   "cell_type": "code",
   "execution_count": 1,
   "id": "553ac568-3ad5-4b8f-9220-dd18a8fb78da",
   "metadata": {},
   "outputs": [],
   "source": [
    "import numpy as np\n",
    "import bottleneck as bn"
   ]
  },
  {
   "cell_type": "code",
   "execution_count": 2,
   "id": "46e7c857-297a-42ab-b8f2-7132d6b804d3",
   "metadata": {},
   "outputs": [],
   "source": [
    "arr = np.random.random((1000,))"
   ]
  },
  {
   "cell_type": "code",
   "execution_count": 3,
   "id": "e3c65a6d-3869-4522-ab53-69f9ed00eb11",
   "metadata": {},
   "outputs": [
    {
     "name": "stdout",
     "output_type": "stream",
     "text": [
      "CPU times: user 156 μs, sys: 125 μs, total: 281 μs\n",
      "Wall time: 171 μs\n"
     ]
    },
    {
     "data": {
      "text/plain": [
       "0.4793034964968868"
      ]
     },
     "execution_count": 3,
     "metadata": {},
     "output_type": "execute_result"
    }
   ],
   "source": [
    "%%time\n",
    "np.mean(arr)"
   ]
  },
  {
   "cell_type": "code",
   "execution_count": 4,
   "id": "c5b61edf-bad0-435a-ae09-ba532da37b77",
   "metadata": {},
   "outputs": [
    {
     "name": "stdout",
     "output_type": "stream",
     "text": [
      "CPU times: user 13 μs, sys: 13 μs, total: 26 μs\n",
      "Wall time: 29.1 μs\n"
     ]
    },
    {
     "data": {
      "text/plain": [
       "0.4793034964968868"
      ]
     },
     "execution_count": 4,
     "metadata": {},
     "output_type": "execute_result"
    }
   ],
   "source": [
    "%%time\n",
    "bn.nanmean(arr)"
   ]
  },
  {
   "cell_type": "code",
   "execution_count": 5,
   "id": "4437d671-5770-44cd-8a37-0c03d5cd6605",
   "metadata": {},
   "outputs": [
    {
     "name": "stdout",
     "output_type": "stream",
     "text": [
      "CPU times: user 84 μs, sys: 34 μs, total: 118 μs\n",
      "Wall time: 103 μs\n"
     ]
    },
    {
     "data": {
      "text/plain": [
       "479.3034964968868"
      ]
     },
     "execution_count": 5,
     "metadata": {},
     "output_type": "execute_result"
    }
   ],
   "source": [
    "%%time\n",
    "np.sum(arr)"
   ]
  },
  {
   "cell_type": "code",
   "execution_count": 6,
   "id": "1aec064a-e079-4e35-9014-a5548a9279c3",
   "metadata": {},
   "outputs": [
    {
     "name": "stdout",
     "output_type": "stream",
     "text": [
      "CPU times: user 8 μs, sys: 4 μs, total: 12 μs\n",
      "Wall time: 13.8 μs\n"
     ]
    },
    {
     "data": {
      "text/plain": [
       "479.3034964968868"
      ]
     },
     "execution_count": 6,
     "metadata": {},
     "output_type": "execute_result"
    }
   ],
   "source": [
    "%%time\n",
    "bn.nansum(arr)"
   ]
  },
  {
   "cell_type": "code",
   "execution_count": 7,
   "id": "ec47f363-8487-42b8-bb07-44d810030a71",
   "metadata": {},
   "outputs": [
    {
     "name": "stdout",
     "output_type": "stream",
     "text": [
      "CPU times: user 372 μs, sys: 160 μs, total: 532 μs\n",
      "Wall time: 787 μs\n"
     ]
    },
    {
     "data": {
      "text/plain": [
       "0.28855804539834573"
      ]
     },
     "execution_count": 7,
     "metadata": {},
     "output_type": "execute_result"
    }
   ],
   "source": [
    "%%time\n",
    "np.std(arr)"
   ]
  },
  {
   "cell_type": "code",
   "execution_count": 8,
   "id": "bc93ad10-2dd6-4963-ac34-7a6895019485",
   "metadata": {},
   "outputs": [
    {
     "name": "stdout",
     "output_type": "stream",
     "text": [
      "CPU times: user 12 μs, sys: 8 μs, total: 20 μs\n",
      "Wall time: 23.6 μs\n"
     ]
    },
    {
     "data": {
      "text/plain": [
       "0.2885580453983458"
      ]
     },
     "execution_count": 8,
     "metadata": {},
     "output_type": "execute_result"
    }
   ],
   "source": [
    "%%time\n",
    "bn.nanstd(arr)"
   ]
  },
  {
   "cell_type": "code",
   "execution_count": 9,
   "id": "f71d26de-cf11-4eea-9c86-ce5702a0bb03",
   "metadata": {},
   "outputs": [
    {
     "name": "stdout",
     "output_type": "stream",
     "text": [
      "CPU times: user 482 μs, sys: 315 μs, total: 797 μs\n",
      "Wall time: 1.25 ms\n"
     ]
    },
    {
     "data": {
      "text/plain": [
       "0.4713434363553014"
      ]
     },
     "execution_count": 9,
     "metadata": {},
     "output_type": "execute_result"
    }
   ],
   "source": [
    "%%time\n",
    "np.median(arr)"
   ]
  },
  {
   "cell_type": "code",
   "execution_count": 10,
   "id": "806c3b84-7e38-4215-99ee-0777e8145bb2",
   "metadata": {},
   "outputs": [
    {
     "name": "stdout",
     "output_type": "stream",
     "text": [
      "CPU times: user 196 μs, sys: 71 μs, total: 267 μs\n",
      "Wall time: 259 μs\n"
     ]
    },
    {
     "data": {
      "text/plain": [
       "0.4713434363553014"
      ]
     },
     "execution_count": 10,
     "metadata": {},
     "output_type": "execute_result"
    }
   ],
   "source": [
    "%%time\n",
    "bn.nanmedian(arr)"
   ]
  },
  {
   "cell_type": "code",
   "execution_count": 11,
   "id": "81706876-5142-4aae-b96c-fb68a1a85758",
   "metadata": {},
   "outputs": [
    {
     "name": "stdout",
     "output_type": "stream",
     "text": [
      "CPU times: user 55 μs, sys: 22 μs, total: 77 μs\n",
      "Wall time: 72.2 μs\n"
     ]
    },
    {
     "data": {
      "text/plain": [
       "0.9998308654203629"
      ]
     },
     "execution_count": 11,
     "metadata": {},
     "output_type": "execute_result"
    }
   ],
   "source": [
    "%%time\n",
    "np.max(arr)"
   ]
  },
  {
   "cell_type": "code",
   "execution_count": 12,
   "id": "e9dd8c27-f714-4144-9c77-a4cb64b49461",
   "metadata": {},
   "outputs": [
    {
     "name": "stdout",
     "output_type": "stream",
     "text": [
      "CPU times: user 17 μs, sys: 15 μs, total: 32 μs\n",
      "Wall time: 36.2 μs\n"
     ]
    },
    {
     "data": {
      "text/plain": [
       "0.9998308654203629"
      ]
     },
     "execution_count": 12,
     "metadata": {},
     "output_type": "execute_result"
    }
   ],
   "source": [
    "%%time\n",
    "bn.nanmax(arr)"
   ]
  }
 ],
 "metadata": {
  "kernelspec": {
   "display_name": "Python 3 (ipykernel)",
   "language": "python",
   "name": "python3"
  },
  "language_info": {
   "codemirror_mode": {
    "name": "ipython",
    "version": 3
   },
   "file_extension": ".py",
   "mimetype": "text/x-python",
   "name": "python",
   "nbconvert_exporter": "python",
   "pygments_lexer": "ipython3",
   "version": "3.12.4"
  }
 },
 "nbformat": 4,
 "nbformat_minor": 5
}
