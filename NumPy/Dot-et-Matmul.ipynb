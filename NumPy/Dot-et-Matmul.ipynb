{
 "cells": [
  {
   "cell_type": "markdown",
   "id": "b9b36818-3cf1-4d48-9aab-b727195ee9e8",
   "metadata": {},
   "source": [
    "# Différence entre Dot et Matmul en NumPy"
   ]
  },
  {
   "cell_type": "code",
   "execution_count": 2,
   "id": "592e29d3-d41b-4073-bff1-64e2dc680f4d",
   "metadata": {},
   "outputs": [],
   "source": [
    "import numpy as np"
   ]
  },
  {
   "cell_type": "markdown",
   "id": "518601d7-f7b1-4ece-93d0-729be823ce1e",
   "metadata": {},
   "source": [
    "## Dot"
   ]
  },
  {
   "cell_type": "code",
   "execution_count": 4,
   "id": "170a19b9-da5a-4109-9a2e-a8f43b04f08e",
   "metadata": {},
   "outputs": [],
   "source": [
    "a = np.random.rand(4,5,3,4)\n",
    "b = np.random.rand(2,6,4,6)"
   ]
  },
  {
   "cell_type": "code",
   "execution_count": 5,
   "id": "c5c671ec-9435-429a-9485-06f5cac8207a",
   "metadata": {},
   "outputs": [
    {
     "data": {
      "text/plain": [
       "(4, 5, 3, 2, 6, 6)"
      ]
     },
     "execution_count": 5,
     "metadata": {},
     "output_type": "execute_result"
    }
   ],
   "source": [
    "np.dot(a, b).shape"
   ]
  },
  {
   "cell_type": "markdown",
   "id": "5143f127-d749-4338-ab06-602267d4e5f3",
   "metadata": {},
   "source": [
    "## Matmul"
   ]
  },
  {
   "cell_type": "code",
   "execution_count": 7,
   "id": "c71ba25c-8280-47f9-90f1-7ea54dac58e6",
   "metadata": {},
   "outputs": [],
   "source": [
    "a = np.random.rand(4,5,3,4)\n",
    "b = np.random.rand(4,5,4,6)"
   ]
  },
  {
   "cell_type": "code",
   "execution_count": 8,
   "id": "56a00592-2b94-4611-9456-c0c82643e2e0",
   "metadata": {},
   "outputs": [
    {
     "data": {
      "text/plain": [
       "(4, 5, 3, 6)"
      ]
     },
     "execution_count": 8,
     "metadata": {},
     "output_type": "execute_result"
    }
   ],
   "source": [
    "np.matmul(a, b).shape"
   ]
  }
 ],
 "metadata": {
  "kernelspec": {
   "display_name": "Python 3 (ipykernel)",
   "language": "python",
   "name": "python3"
  },
  "language_info": {
   "codemirror_mode": {
    "name": "ipython",
    "version": 3
   },
   "file_extension": ".py",
   "mimetype": "text/x-python",
   "name": "python",
   "nbconvert_exporter": "python",
   "pygments_lexer": "ipython3",
   "version": "3.11.7"
  }
 },
 "nbformat": 4,
 "nbformat_minor": 5
}
