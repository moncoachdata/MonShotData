{
 "cells": [
  {
   "cell_type": "markdown",
   "id": "34397abb-f1f9-4174-a557-1172a182acb3",
   "metadata": {},
   "source": [
    "# Une façon élégante d'effectuer la multiplication matricielle"
   ]
  },
  {
   "cell_type": "code",
   "execution_count": 2,
   "id": "482af5a3-43ed-499c-81b4-d00de4bb3142",
   "metadata": {},
   "outputs": [],
   "source": [
    "import numpy as np"
   ]
  },
  {
   "cell_type": "code",
   "execution_count": 4,
   "id": "cd372c26-7914-4007-8edc-a10c734d600e",
   "metadata": {},
   "outputs": [],
   "source": [
    "a = np.random.random((10, 4))\n",
    "b = np.random.random((4, 5))\n",
    "c = np.random.random((5, 6))"
   ]
  },
  {
   "cell_type": "code",
   "execution_count": 6,
   "id": "65eeb18d-17e7-4d31-b3e5-aefbf05f47f3",
   "metadata": {},
   "outputs": [
    {
     "data": {
      "text/plain": [
       "(10, 6)"
      ]
     },
     "execution_count": 6,
     "metadata": {},
     "output_type": "execute_result"
    }
   ],
   "source": [
    "np.matmul(a, np.matmul(b, c)).shape"
   ]
  },
  {
   "cell_type": "code",
   "execution_count": 8,
   "id": "d649299f-069a-4c61-ae27-4d0bccbe4a92",
   "metadata": {},
   "outputs": [
    {
     "data": {
      "text/plain": [
       "(10, 6)"
      ]
     },
     "execution_count": 8,
     "metadata": {},
     "output_type": "execute_result"
    }
   ],
   "source": [
    "(a @ b @ c).shape"
   ]
  }
 ],
 "metadata": {
  "kernelspec": {
   "display_name": "Python 3 (ipykernel)",
   "language": "python",
   "name": "python3"
  },
  "language_info": {
   "codemirror_mode": {
    "name": "ipython",
    "version": 3
   },
   "file_extension": ".py",
   "mimetype": "text/x-python",
   "name": "python",
   "nbconvert_exporter": "python",
   "pygments_lexer": "ipython3",
   "version": "3.11.7"
  }
 },
 "nbformat": 4,
 "nbformat_minor": 5
}
