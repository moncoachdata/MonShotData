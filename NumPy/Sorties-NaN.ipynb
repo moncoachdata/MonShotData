{
 "cells": [
  {
   "cell_type": "markdown",
   "id": "0378c23a-cb62-4603-b586-0e1e90b90d44",
   "metadata": {},
   "source": [
    "# NumPy : le piège caché des valeurs NaN\n",
    "\n",
    "[Lien du post MonShotData](https://www.monshotdata.com/p/numpy-le-piege-cache-des-valeurs-nan)"
   ]
  },
  {
   "cell_type": "code",
   "execution_count": 1,
   "id": "c84d277a-3f16-4aac-a9cb-30d2b85468d8",
   "metadata": {},
   "outputs": [],
   "source": [
    "import numpy as np"
   ]
  },
  {
   "cell_type": "code",
   "execution_count": 2,
   "id": "35a11d98-b097-44a0-b6a2-d8ef0e4b1e83",
   "metadata": {},
   "outputs": [],
   "source": [
    "arr = np.array([1, 2, 3, np.nan])"
   ]
  },
  {
   "cell_type": "code",
   "execution_count": 3,
   "id": "10b97c15-2892-4df9-9376-97b0e12ec4d2",
   "metadata": {},
   "outputs": [
    {
     "data": {
      "text/plain": [
       "array([ 1.,  2.,  3., nan])"
      ]
     },
     "execution_count": 3,
     "metadata": {},
     "output_type": "execute_result"
    }
   ],
   "source": [
    "arr"
   ]
  },
  {
   "cell_type": "markdown",
   "id": "a2fc0473-15b8-4357-992f-835460bcbce4",
   "metadata": {},
   "source": [
    "### Méthodes sensibles aux valeurs NaN"
   ]
  },
  {
   "cell_type": "code",
   "execution_count": 4,
   "id": "455dfa12-8789-4234-8df1-ac3d65c0e9c5",
   "metadata": {},
   "outputs": [
    {
     "name": "stdout",
     "output_type": "stream",
     "text": [
      "nan\n"
     ]
    }
   ],
   "source": [
    "print(np.sum(arr))"
   ]
  },
  {
   "cell_type": "code",
   "execution_count": 5,
   "id": "0be65321-c429-44e8-9f82-02bd9ac58055",
   "metadata": {},
   "outputs": [
    {
     "name": "stdout",
     "output_type": "stream",
     "text": [
      "nan\n"
     ]
    }
   ],
   "source": [
    "print(np.mean(arr))"
   ]
  },
  {
   "cell_type": "code",
   "execution_count": 6,
   "id": "fef4367e-75d8-4784-a6c6-a23afaf8a034",
   "metadata": {},
   "outputs": [
    {
     "name": "stdout",
     "output_type": "stream",
     "text": [
      "nan\n"
     ]
    }
   ],
   "source": [
    "print(np.max(arr))"
   ]
  },
  {
   "cell_type": "code",
   "execution_count": 7,
   "id": "ab13aa1b-d8cd-4955-8a13-c2fb34e6c9e1",
   "metadata": {},
   "outputs": [
    {
     "name": "stdout",
     "output_type": "stream",
     "text": [
      "nan\n"
     ]
    }
   ],
   "source": [
    "print(np.min(arr))"
   ]
  },
  {
   "cell_type": "code",
   "execution_count": 8,
   "id": "664304e9-e5d5-46ce-96d0-e08f15ecd825",
   "metadata": {},
   "outputs": [
    {
     "name": "stdout",
     "output_type": "stream",
     "text": [
      "[ 1.  3.  6. nan]\n"
     ]
    }
   ],
   "source": [
    "print(np.cumsum(arr))"
   ]
  },
  {
   "cell_type": "markdown",
   "id": "7be3e87e-4fe7-4db3-88d2-4d1f3a5e740d",
   "metadata": {},
   "source": [
    "### Méthodes insensibles aux valeurs NaN"
   ]
  },
  {
   "cell_type": "code",
   "execution_count": 9,
   "id": "b53adeac-e572-4f56-9658-701acce20dbf",
   "metadata": {},
   "outputs": [
    {
     "name": "stdout",
     "output_type": "stream",
     "text": [
      "6.0\n"
     ]
    }
   ],
   "source": [
    "print(np.nansum(arr))"
   ]
  },
  {
   "cell_type": "code",
   "execution_count": 10,
   "id": "d398a21a-3860-4b5a-9ec6-75d555f69f61",
   "metadata": {},
   "outputs": [
    {
     "name": "stdout",
     "output_type": "stream",
     "text": [
      "2.0\n"
     ]
    }
   ],
   "source": [
    "print(np.nanmean(arr))"
   ]
  },
  {
   "cell_type": "code",
   "execution_count": 11,
   "id": "347b6d49-0365-4c0f-a959-ac5598bd6a6f",
   "metadata": {},
   "outputs": [
    {
     "name": "stdout",
     "output_type": "stream",
     "text": [
      "3.0\n"
     ]
    }
   ],
   "source": [
    "print(np.nanmax(arr))"
   ]
  },
  {
   "cell_type": "code",
   "execution_count": 12,
   "id": "4bfc6b79-4682-4352-8053-a8b0f916e3b1",
   "metadata": {},
   "outputs": [
    {
     "name": "stdout",
     "output_type": "stream",
     "text": [
      "1.0\n"
     ]
    }
   ],
   "source": [
    "print(np.nanmin(arr))"
   ]
  },
  {
   "cell_type": "code",
   "execution_count": 13,
   "id": "c18c48ce-5b8f-43bb-9b89-2a34bf50604e",
   "metadata": {},
   "outputs": [
    {
     "name": "stdout",
     "output_type": "stream",
     "text": [
      "[1. 3. 6. 6.]\n"
     ]
    }
   ],
   "source": [
    "print(np.nancumsum(arr))"
   ]
  }
 ],
 "metadata": {
  "kernelspec": {
   "display_name": "Python 3 (ipykernel)",
   "language": "python",
   "name": "python3"
  },
  "language_info": {
   "codemirror_mode": {
    "name": "ipython",
    "version": 3
   },
   "file_extension": ".py",
   "mimetype": "text/x-python",
   "name": "python",
   "nbconvert_exporter": "python",
   "pygments_lexer": "ipython3",
   "version": "3.12.4"
  }
 },
 "nbformat": 4,
 "nbformat_minor": 5
}
