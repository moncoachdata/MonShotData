{
 "cells": [
  {
   "cell_type": "markdown",
   "id": "22c6207b-8579-45ad-a6bc-ec40a2419c22",
   "metadata": {},
   "source": [
    "# Pandas et NumPy renvoient des valeurs différentes pour l'écart-type. Pourquoi ?"
   ]
  },
  {
   "cell_type": "code",
   "execution_count": 1,
   "id": "848f0e47-5903-418c-9901-f343d9e7d206",
   "metadata": {},
   "outputs": [],
   "source": [
    "import numpy as np\n",
    "import pandas as pd"
   ]
  },
  {
   "cell_type": "code",
   "execution_count": 2,
   "id": "09f2a334-d065-4afb-b37c-176290fb9721",
   "metadata": {},
   "outputs": [],
   "source": [
    "X = np.arange(20)\n",
    "df = pd.DataFrame(X)"
   ]
  },
  {
   "cell_type": "code",
   "execution_count": 3,
   "id": "dbdc2d09-07bf-4f0d-b9aa-1caf9ebaa306",
   "metadata": {},
   "outputs": [
    {
     "name": "stdout",
     "output_type": "stream",
     "text": [
      "NumPy : 5.766281297335398\n",
      "Pandas : 0    5.91608\n",
      "dtype: float64\n"
     ]
    }
   ],
   "source": [
    "print(f\"NumPy : {np.std(X)}\")\n",
    "print(f\"Pandas : {df.std()}\")"
   ]
  }
 ],
 "metadata": {
  "kernelspec": {
   "display_name": "Python 3 (ipykernel)",
   "language": "python",
   "name": "python3"
  },
  "language_info": {
   "codemirror_mode": {
    "name": "ipython",
    "version": 3
   },
   "file_extension": ".py",
   "mimetype": "text/x-python",
   "name": "python",
   "nbconvert_exporter": "python",
   "pygments_lexer": "ipython3",
   "version": "3.12.4"
  }
 },
 "nbformat": 4,
 "nbformat_minor": 5
}
