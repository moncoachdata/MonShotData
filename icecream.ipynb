{
 "cells": [
  {
   "cell_type": "markdown",
   "id": "08ce2476-1757-460f-b88e-7729525751c1",
   "metadata": {},
   "source": [
    "# N'utilise plus print() pour déboguer ton code"
   ]
  },
  {
   "cell_type": "code",
   "execution_count": null,
   "id": "17d09e03-c658-4022-886a-ad175b295a9b",
   "metadata": {},
   "outputs": [],
   "source": [
    "!pip install icecream"
   ]
  },
  {
   "cell_type": "markdown",
   "id": "b1686e01-6f34-4f23-97cb-d3c2e9eadcda",
   "metadata": {},
   "source": [
    "## Print()"
   ]
  },
  {
   "cell_type": "code",
   "execution_count": 1,
   "id": "2a12c349-3c12-474c-b38e-0cde392bec32",
   "metadata": {},
   "outputs": [
    {
     "name": "stdout",
     "output_type": "stream",
     "text": [
      "arr = [1, 2, 3] n = 2\n"
     ]
    }
   ],
   "source": [
    "def func(arr, n):\n",
    "    print(\"arr =\", arr, \"n =\", n)\n",
    "\n",
    "func([1,2,3], 2)"
   ]
  },
  {
   "cell_type": "markdown",
   "id": "bde864f9-712f-41d4-95f2-99b7d73b0757",
   "metadata": {},
   "source": [
    "## Icecream"
   ]
  },
  {
   "cell_type": "code",
   "execution_count": 2,
   "id": "d31d1268-71f6-4fa7-b668-add41292355d",
   "metadata": {},
   "outputs": [
    {
     "name": "stderr",
     "output_type": "stream",
     "text": [
      "ic| arr: [1, 2, 3], n: 2\n"
     ]
    }
   ],
   "source": [
    "from icecream import ic\n",
    "\n",
    "def func(arr, n):\n",
    "    ic(arr, n)\n",
    "\n",
    "func([1,2,3], 2)"
   ]
  }
 ],
 "metadata": {
  "kernelspec": {
   "display_name": "Python 3 (ipykernel)",
   "language": "python",
   "name": "python3"
  },
  "language_info": {
   "codemirror_mode": {
    "name": "ipython",
    "version": 3
   },
   "file_extension": ".py",
   "mimetype": "text/x-python",
   "name": "python",
   "nbconvert_exporter": "python",
   "pygments_lexer": "ipython3",
   "version": "3.10.14"
  }
 },
 "nbformat": 4,
 "nbformat_minor": 5
}
