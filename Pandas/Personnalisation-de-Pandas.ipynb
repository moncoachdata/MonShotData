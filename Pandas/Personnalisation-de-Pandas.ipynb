{
 "cells": [
  {
   "cell_type": "markdown",
   "id": "f6b2bbc4-e5ac-4d6f-8ac2-ef594d61ff1c",
   "metadata": {},
   "source": [
    "# Personnalise ta propre espèce de Pandas"
   ]
  },
  {
   "cell_type": "code",
   "execution_count": null,
   "id": "afb472bb-034e-4441-bcb5-809de15752e4",
   "metadata": {},
   "outputs": [],
   "source": [
    "!pip install pandas-flavor"
   ]
  },
  {
   "cell_type": "code",
   "execution_count": 1,
   "id": "410ff6a8-6c23-41ee-b9ad-277c410687ba",
   "metadata": {},
   "outputs": [],
   "source": [
    "import pandas as pd\n",
    "import pandas_flavor as pf"
   ]
  },
  {
   "cell_type": "code",
   "execution_count": 2,
   "id": "38dd6ed6-6e55-4572-9e35-cc9d89c2f0bf",
   "metadata": {},
   "outputs": [],
   "source": [
    "df = pd.DataFrame([[\"Mercure\", 1],\n",
    "                   [\"Venus\", 2]], \n",
    "                  columns = [\"Planets\", \"Position\"])"
   ]
  },
  {
   "cell_type": "code",
   "execution_count": 3,
   "id": "4dec7570-d22f-4724-b4f2-6b0f542e1c09",
   "metadata": {},
   "outputs": [
    {
     "data": {
      "text/html": [
       "<div>\n",
       "<style scoped>\n",
       "    .dataframe tbody tr th:only-of-type {\n",
       "        vertical-align: middle;\n",
       "    }\n",
       "\n",
       "    .dataframe tbody tr th {\n",
       "        vertical-align: top;\n",
       "    }\n",
       "\n",
       "    .dataframe thead th {\n",
       "        text-align: right;\n",
       "    }\n",
       "</style>\n",
       "<table border=\"1\" class=\"dataframe\">\n",
       "  <thead>\n",
       "    <tr style=\"text-align: right;\">\n",
       "      <th></th>\n",
       "      <th>Planets</th>\n",
       "      <th>Position</th>\n",
       "    </tr>\n",
       "  </thead>\n",
       "  <tbody>\n",
       "    <tr>\n",
       "      <th>0</th>\n",
       "      <td>Mercure</td>\n",
       "      <td>1</td>\n",
       "    </tr>\n",
       "    <tr>\n",
       "      <th>1</th>\n",
       "      <td>Venus</td>\n",
       "      <td>2</td>\n",
       "    </tr>\n",
       "  </tbody>\n",
       "</table>\n",
       "</div>"
      ],
      "text/plain": [
       "   Planets  Position\n",
       "0  Mercure         1\n",
       "1    Venus         2"
      ]
     },
     "execution_count": 3,
     "metadata": {},
     "output_type": "execute_result"
    }
   ],
   "source": [
    "df"
   ]
  },
  {
   "cell_type": "code",
   "execution_count": 4,
   "id": "aff023e6-694a-4708-b47d-9cc0db485aa7",
   "metadata": {},
   "outputs": [],
   "source": [
    "@pf.register_dataframe_method\n",
    "def add_rows(df, rows):\n",
    "\n",
    "    for row in rows:\n",
    "        df.loc[df.shape[0]] = row"
   ]
  },
  {
   "cell_type": "code",
   "execution_count": 5,
   "id": "c80b2ab9-f153-4e73-a226-bd532179aa6e",
   "metadata": {},
   "outputs": [],
   "source": [
    "new_rows = [[\"Terre\", 3], \n",
    "            [\"Mars\" , 4]]"
   ]
  },
  {
   "cell_type": "code",
   "execution_count": 6,
   "id": "22b4db77-05c8-47e9-a147-6d680beaf9a1",
   "metadata": {},
   "outputs": [],
   "source": [
    "df.add_rows(new_rows)"
   ]
  },
  {
   "cell_type": "code",
   "execution_count": 7,
   "id": "16ddf211-feaa-4929-b7cb-9ec9d11eae8a",
   "metadata": {},
   "outputs": [
    {
     "data": {
      "text/html": [
       "<div>\n",
       "<style scoped>\n",
       "    .dataframe tbody tr th:only-of-type {\n",
       "        vertical-align: middle;\n",
       "    }\n",
       "\n",
       "    .dataframe tbody tr th {\n",
       "        vertical-align: top;\n",
       "    }\n",
       "\n",
       "    .dataframe thead th {\n",
       "        text-align: right;\n",
       "    }\n",
       "</style>\n",
       "<table border=\"1\" class=\"dataframe\">\n",
       "  <thead>\n",
       "    <tr style=\"text-align: right;\">\n",
       "      <th></th>\n",
       "      <th>Planets</th>\n",
       "      <th>Position</th>\n",
       "    </tr>\n",
       "  </thead>\n",
       "  <tbody>\n",
       "    <tr>\n",
       "      <th>0</th>\n",
       "      <td>Mercure</td>\n",
       "      <td>1</td>\n",
       "    </tr>\n",
       "    <tr>\n",
       "      <th>1</th>\n",
       "      <td>Venus</td>\n",
       "      <td>2</td>\n",
       "    </tr>\n",
       "    <tr>\n",
       "      <th>2</th>\n",
       "      <td>Terre</td>\n",
       "      <td>3</td>\n",
       "    </tr>\n",
       "    <tr>\n",
       "      <th>3</th>\n",
       "      <td>Mars</td>\n",
       "      <td>4</td>\n",
       "    </tr>\n",
       "  </tbody>\n",
       "</table>\n",
       "</div>"
      ],
      "text/plain": [
       "   Planets  Position\n",
       "0  Mercure         1\n",
       "1    Venus         2\n",
       "2    Terre         3\n",
       "3     Mars         4"
      ]
     },
     "execution_count": 7,
     "metadata": {},
     "output_type": "execute_result"
    }
   ],
   "source": [
    "df"
   ]
  }
 ],
 "metadata": {
  "kernelspec": {
   "display_name": "Python 3 (ipykernel)",
   "language": "python",
   "name": "python3"
  },
  "language_info": {
   "codemirror_mode": {
    "name": "ipython",
    "version": 3
   },
   "file_extension": ".py",
   "mimetype": "text/x-python",
   "name": "python",
   "nbconvert_exporter": "python",
   "pygments_lexer": "ipython3",
   "version": "3.11.7"
  }
 },
 "nbformat": 4,
 "nbformat_minor": 5
}
