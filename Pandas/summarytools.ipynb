{
 "cells": [
  {
   "cell_type": "markdown",
   "id": "73637f8c-a1b2-4709-b9cd-603d47b70432",
   "metadata": {},
   "source": [
    "# Arrête d'utiliser la méthode Describe de Pandas. Utilise plutôt Summarytools !"
   ]
  },
  {
   "cell_type": "code",
   "execution_count": null,
   "id": "33e61bc7-5a2f-46b7-a1ea-0a4dfd717b98",
   "metadata": {},
   "outputs": [],
   "source": [
    "!pip install jupyter-summarytools"
   ]
  },
  {
   "cell_type": "code",
   "execution_count": 1,
   "id": "646f362c-55a1-43c6-8f03-ccd69b79a8a2",
   "metadata": {},
   "outputs": [],
   "source": [
    "import seaborn as sns\n",
    "iris = sns.load_dataset('iris')"
   ]
  },
  {
   "cell_type": "code",
   "execution_count": 2,
   "id": "aca74e7f-72c4-4a36-a8f3-00402c7bd987",
   "metadata": {},
   "outputs": [
    {
     "data": {
      "text/html": [
       "<style type=\"text/css\">\n",
       "#T_e29e7 thead>tr>th {\n",
       "  text-align: left;\n",
       "}\n",
       "#T_e29e7_row0_col0, #T_e29e7_row1_col0, #T_e29e7_row2_col0, #T_e29e7_row3_col0, #T_e29e7_row4_col0 {\n",
       "  text-align: left;\n",
       "  font-size: 12px;\n",
       "  vertical-align: middle;\n",
       "  width: 5%;\n",
       "  max-width: 50px;\n",
       "  min-width: 20px;\n",
       "}\n",
       "#T_e29e7_row0_col1, #T_e29e7_row1_col1, #T_e29e7_row2_col1, #T_e29e7_row3_col1, #T_e29e7_row4_col1 {\n",
       "  text-align: left;\n",
       "  font-size: 12px;\n",
       "  vertical-align: middle;\n",
       "  width: 15%;\n",
       "  max-width: 200px;\n",
       "  min-width: 100px;\n",
       "  word-break: break-word;\n",
       "}\n",
       "#T_e29e7_row0_col2, #T_e29e7_row1_col2, #T_e29e7_row2_col2, #T_e29e7_row3_col2, #T_e29e7_row4_col2 {\n",
       "  text-align: left;\n",
       "  font-size: 12px;\n",
       "  vertical-align: middle;\n",
       "  width: 30%;\n",
       "  min-width: 100px;\n",
       "}\n",
       "#T_e29e7_row0_col3, #T_e29e7_row1_col3, #T_e29e7_row2_col3, #T_e29e7_row3_col3, #T_e29e7_row4_col3 {\n",
       "  text-align: left;\n",
       "  font-size: 12px;\n",
       "  vertical-align: middle;\n",
       "  width: 25%;\n",
       "  min-width: 100px;\n",
       "}\n",
       "#T_e29e7_row0_col4, #T_e29e7_row1_col4, #T_e29e7_row2_col4, #T_e29e7_row3_col4, #T_e29e7_row4_col4 {\n",
       "  text-align: left;\n",
       "  font-size: 12px;\n",
       "  vertical-align: middle;\n",
       "  width: 20%;\n",
       "  min-width: 150px;\n",
       "}\n",
       "#T_e29e7_row0_col5, #T_e29e7_row1_col5, #T_e29e7_row2_col5, #T_e29e7_row3_col5, #T_e29e7_row4_col5 {\n",
       "  text-align: left;\n",
       "  font-size: 12px;\n",
       "  vertical-align: middle;\n",
       "  width: 10%;\n",
       "}\n",
       "</style>\n",
       "<table id=\"T_e29e7\">\n",
       "  <caption><strong>Data Frame Summary</strong><br>iris<br>Dimensions: 150 x 5<br>Duplicates: 1</caption>\n",
       "  <thead>\n",
       "    <tr>\n",
       "      <th id=\"T_e29e7_level0_col0\" class=\"col_heading level0 col0\" >No</th>\n",
       "      <th id=\"T_e29e7_level0_col1\" class=\"col_heading level0 col1\" >Variable</th>\n",
       "      <th id=\"T_e29e7_level0_col2\" class=\"col_heading level0 col2\" >Stats / Values</th>\n",
       "      <th id=\"T_e29e7_level0_col3\" class=\"col_heading level0 col3\" >Freqs / (% of Valid)</th>\n",
       "      <th id=\"T_e29e7_level0_col4\" class=\"col_heading level0 col4\" >Graph</th>\n",
       "      <th id=\"T_e29e7_level0_col5\" class=\"col_heading level0 col5\" >Missing</th>\n",
       "    </tr>\n",
       "  </thead>\n",
       "  <tbody>\n",
       "    <tr>\n",
       "      <td id=\"T_e29e7_row0_col0\" class=\"data row0 col0\" >1</td>\n",
       "      <td id=\"T_e29e7_row0_col1\" class=\"data row0 col1\" ><strong>sepal_length</strong><br>[float64]</td>\n",
       "      <td id=\"T_e29e7_row0_col2\" class=\"data row0 col2\" >Mean (sd) : 5.8 (0.8)<br>min < med < max:<br>4.3 < 5.8 < 7.9<br>IQR (CV) : 1.3 (7.1)</td>\n",
       "      <td id=\"T_e29e7_row0_col3\" class=\"data row0 col3\" >35 distinct values</td>\n",
       "      <td id=\"T_e29e7_row0_col4\" class=\"data row0 col4\" ><img src = \"data:image/png;base64, iVBORw0KGgoAAAANSUhEUgAAAKoAAABGCAYAAABc8A97AAAAOXRFWHRTb2Z0d2FyZQBNYXRwbG90bGliIHZlcnNpb24zLjkuMiwgaHR0cHM6Ly9tYXRwbG90bGliLm9yZy8hTgPZAAAACXBIWXMAAA9hAAAPYQGoP6dpAAACtElEQVR4nO3dTYriQBiA4a/GVqJCggi68wIDs3DpIeawc4RZeAJv4E6QEDHTwZhkVg09je1PVTLWV/0++/wsXuRLUl1tmqYRwHffnn0DwD1enn0DXTHGDEVk4HCKU9M0r23dD9wEGaoxZjidTn/GcTyxPcfhcEiNMb+I1Q9BhioigziOJ6vV6jVJkuLRg7Msi9br9WS/3w9EhFA9EGqoIiKSJEkxm83+WB4+tL2u49jByHFB0KE+g+vYwchxGaG2z3rsYOT4HKF2xGHssB45QsZ7VKhAqFCBUKFCpzMqX4fQls5C5esQ2tTlLypfh9Cazl9PPevrEMLCwxRUIFSoQKhQgVChAqFCBUKFCoQKFQgVKhAqVGDhtGeqquqLSGyMsT1FkAt5CNUjeZ73y7L8sVgser1e7+H1ESLhLuQhVI+cTqeXKIpGy+WymM/n6aPHh7yQh1A9NB6PWcjzAaF+wmFWjOu67ndwS18aoV7gMiuWZRlVVfW9KIrfImL7q4gPCPUCl1lxu91ONpvN6Hw+97q6v6+IUK+wmRXTNA1yRnw2XvhDBa9/UXmgwRtvQ+WBBu95GyoPNHjP21Df8EADER6moAShQgVChQqEChUIFSoQKlQgVKhAqFCBUKHCzS9TDtubszAErbkaqsv25iwMQZtu/aJab2/OwhC06a5FKTbbm7MwBG3iYQoqECpUIFSo4P3CaTzGcZM1pw3WHP9T49VrE2pAXDdZc9lgzfU/Nd66NqEGxOXvzFrYYM36VeY91ybUANluslZVVSz2Y0Nc13U/SZLUcoO3q68zCRUi4j42dP0lklAhIu57s3b9JZJQ8Q/bsaHrL5G8R4UKhAoVCBUqECpUIFSoQKhQgVChAqFChbte+GdZFj164uPxGImI5Hke7Xa70f88Xuu1td636/H39PUXZ5y8xRUXT9kAAAAASUVORK5CYII=\"></img></td>\n",
       "      <td id=\"T_e29e7_row0_col5\" class=\"data row0 col5\" >0<br>(0.0%)</td>\n",
       "    </tr>\n",
       "    <tr>\n",
       "      <td id=\"T_e29e7_row1_col0\" class=\"data row1 col0\" >2</td>\n",
       "      <td id=\"T_e29e7_row1_col1\" class=\"data row1 col1\" ><strong>sepal_width</strong><br>[float64]</td>\n",
       "      <td id=\"T_e29e7_row1_col2\" class=\"data row1 col2\" >Mean (sd) : 3.1 (0.4)<br>min < med < max:<br>2.0 < 3.0 < 4.4<br>IQR (CV) : 0.5 (7.0)</td>\n",
       "      <td id=\"T_e29e7_row1_col3\" class=\"data row1 col3\" >23 distinct values</td>\n",
       "      <td id=\"T_e29e7_row1_col4\" class=\"data row1 col4\" ><img src = \"data:image/png;base64, iVBORw0KGgoAAAANSUhEUgAAAKoAAABGCAYAAABc8A97AAAAOXRFWHRTb2Z0d2FyZQBNYXRwbG90bGliIHZlcnNpb24zLjkuMiwgaHR0cHM6Ly9tYXRwbG90bGliLm9yZy8hTgPZAAAACXBIWXMAAA9hAAAPYQGoP6dpAAACxUlEQVR4nO3dvY7aQBRA4TuwgPmRLYQCHU3KSCkoeYg8bB5hC55gi21S0SEhBMJZhLFJEaWIwgL2jLNzh/P1I1wcYdkznjHn81kA3zU++gKAezx99AX4yhjTFZF2xeHH8/n85vJ6Hh2hXmCM6Y5Go29xHA+rjN/tdhtjzHdidYdQL2vHcTycz+dvSZIcygzcbrfRYrEYrtfrtogQqiOEekWSJIfxePyzwtCu84t5cDxMQQVChQqEChUIFSoQKlQgVKhAqFCB96g1yPO8JSKxMabKcKZfLyBUx9I0bWVZ9nU6nTabzWapWS0Rpl/fQ6iOHY/HpyiKerPZ7DCZTDZlxjL9+j5CrUm/32f61SEepqACoUIFQoUKhAoVCBUqECpUIFSoQKhQgVChQrAzU5bf5cdFUbRcXg/sBBmq7Xf5WZZFeZ5/ORwOzyJSZRoUjgUZqlh8ly8islwuhy8vL73T6dSs4+JQntehWty+46IoWkmSbKosDNlsNiwM8Yy3odrcvrl1h8fbUMXi9s2tOzw+hyoi1bbV4dYdHt6jQgVChQqEChUIFSoQKlQgVKhAqFCBUKECoUIFQoUKhAoVCBUqECpUIFSoQKhQgVChgvcLp1FOqMe3E2pAQj6+nVA9Y3miSjwYDMbz+XwX2vHthOoR2xNV/nx92+l0nkM7P4BQPWJzoopI2F/fEqqHqp6oEvLXt7yeggq1/qOyox5cqS1UdtSDS3X+o7KjHpyp/WGqypY8ImE/GKA8HqagAqFChZu3ftvNdCuMA/5xNVQ204Uvbv2jspkuvHDXUz+b6T4Gy5VbIr+feYqKY6+uhWWuHyJiv3Irz/NWmqafB4PBj0ajkZUdf2stLKFCRJyt3Po0m81ey46/Zy0soeIvtiu3qo6XG2th7wp1u91GZX91v99HIiJpmkar1ar3P8dr/W2t1207/p6+fgFn6pgB3UdKUAAAAABJRU5ErkJggg==\"></img></td>\n",
       "      <td id=\"T_e29e7_row1_col5\" class=\"data row1 col5\" >0<br>(0.0%)</td>\n",
       "    </tr>\n",
       "    <tr>\n",
       "      <td id=\"T_e29e7_row2_col0\" class=\"data row2 col0\" >3</td>\n",
       "      <td id=\"T_e29e7_row2_col1\" class=\"data row2 col1\" ><strong>petal_length</strong><br>[float64]</td>\n",
       "      <td id=\"T_e29e7_row2_col2\" class=\"data row2 col2\" >Mean (sd) : 3.8 (1.8)<br>min < med < max:<br>1.0 < 4.3 < 6.9<br>IQR (CV) : 3.5 (2.1)</td>\n",
       "      <td id=\"T_e29e7_row2_col3\" class=\"data row2 col3\" >43 distinct values</td>\n",
       "      <td id=\"T_e29e7_row2_col4\" class=\"data row2 col4\" ><img src = \"data:image/png;base64, iVBORw0KGgoAAAANSUhEUgAAAKoAAABGCAYAAABc8A97AAAAOXRFWHRTb2Z0d2FyZQBNYXRwbG90bGliIHZlcnNpb24zLjkuMiwgaHR0cHM6Ly9tYXRwbG90bGliLm9yZy8hTgPZAAAACXBIWXMAAA9hAAAPYQGoP6dpAAACp0lEQVR4nO3dTYriQBjG8afGD6JCRATdeYGBWbj0EHPYOcIsPIE3cCeIRMy0qNHZDQzT02pVYtdb/H/rrhjohyTvm6qKu91uAmL35bNPAHhE+94fOOd6krqexz/dbrc3z7HAHx8G1TnXG4/H3/M8H/kcfL/f75xzPwgrQt27onbzPB8tFou34XB4fObARVFky+VytN1uu5IIKoLcvfVL0nA4PE4mk18ex+95jAH+QTEFEwgqTCCoMIGgwgSCChMIKkwgqDCBoMIEggoTCCpMIKgw4aF3/XidwGmVUqJTKwlqREKnVUrpTq0kqHHxnlYppT21kqBGKGBapZTo1EqKKZjAFbUBAQVRfr1eO3WfTwoIas1CCqLz+ZxVVfX1eDz+lOR7608SQa2fd0G0Xq9Hq9Wqf7lcWk2dnFUEtSE+BdFut0uyEKoDxRRMIKgwgaDCBIIKEwgqTCCoMIGgwgSCChMIKkwgqDCBoMIE3vUnpqqqjqTcOeczPNr1VgQ1IWVZds7n87fZbNZqtVpPL2WJeb0VQU3I6XRqZ1nWn8/nx+l0untmbOzrrQhqggaDQXJb2VNMwQSCChMIKkwgqDCBoMKERqv+wOazFHEDGq/VWFBDm89S3A1ovFZjQQ1pPkvxN6DxWo03/AOaz1LEDegUxfyoxpspSIr/UY2gQlL8j2oEFX+J9VGNPipMIKgwgVv/f7AZb1wI6jvYjDc+BPV9bMYbGYL6ATbjjQfFFEzgioraNLlUm6CiFk0v1SaoqEXTS7UJKmrV1FLtZIMa+DlxmvaRSTKooZ8Tp2kfnySDqsDPidO0j0+qQZXk/zlxmvbxoeEPEx66ohZFkT174MPhkElSWZbZZrPpPzu+KIqsqqq2/BrI+fV6bfuctxR27p811vJvP/J/+g3LcowOEmBq9gAAAABJRU5ErkJggg==\"></img></td>\n",
       "      <td id=\"T_e29e7_row2_col5\" class=\"data row2 col5\" >0<br>(0.0%)</td>\n",
       "    </tr>\n",
       "    <tr>\n",
       "      <td id=\"T_e29e7_row3_col0\" class=\"data row3 col0\" >4</td>\n",
       "      <td id=\"T_e29e7_row3_col1\" class=\"data row3 col1\" ><strong>petal_width</strong><br>[float64]</td>\n",
       "      <td id=\"T_e29e7_row3_col2\" class=\"data row3 col2\" >Mean (sd) : 1.2 (0.8)<br>min < med < max:<br>0.1 < 1.3 < 2.5<br>IQR (CV) : 1.5 (1.6)</td>\n",
       "      <td id=\"T_e29e7_row3_col3\" class=\"data row3 col3\" >22 distinct values</td>\n",
       "      <td id=\"T_e29e7_row3_col4\" class=\"data row3 col4\" ><img src = \"data:image/png;base64, iVBORw0KGgoAAAANSUhEUgAAAKoAAABGCAYAAABc8A97AAAAOXRFWHRTb2Z0d2FyZQBNYXRwbG90bGliIHZlcnNpb24zLjkuMiwgaHR0cHM6Ly9tYXRwbG90bGliLm9yZy8hTgPZAAAACXBIWXMAAA9hAAAPYQGoP6dpAAACvUlEQVR4nO3bu47aQBSA4TNhAXORASFBR0sRKQUlD5GHzSNswRPQUtEhLjLCWYdrmoQmyoI9Htln+L96x7j4Pct4BnO73QQouy9F3wDwjLdHf2CMaYhILeP1j7fb7SPjWODu01CNMY1+v/89DMNelovv9/udMeYHscLWoxm1FoZhbzqdfnQ6nSTNhaMoCmazWW+z2dREhFBh5eG/fhGRTqeTDAaDnxmu38gwBvgHiymoQKhQgVChAqFCBUKFCoQKFQgVKhAqVCBUqPDUzhTS4SBP/gg1ZxzkcYNQ88dBHgcI1REO8uSLxRRUIFSoQKhQgVChAqFCBUKFCoQKFQgVKhAqVCBUqECoUIFQoQKhQgVOT3nG10PbhOoRnw9tE6pfvD20Tage8vHQNospqECoUIFQoQKhQgVChQqEChUIFSoQKlQgVKhAqFCBLVTkxuXJLUJFLlyf3CJU5MXpyS1CRa5cndxiMQUVCBUqECpUIFSowGIKd5fLpSoioTEmy/Dwer1Wc76lO0KFiIjEcVw9nU7fRqNRpVKppHq9JCJyOp2Cy+XyNUmSdxHJsur/lNNQLZ9QkQJ/Z26xy+J0ZnHleDy+BUHQnEwmyXA43KUdv1wue/P5vHk+nysu7s9ZqLZPqEhxvzO32WVxPbO41mq1Mr0H3e12Tn/B6ixU2yfU9nfmlvvOYbvdHkyn033aXRbXM8urcv4dNesT+kemp9R23/nvrFiv19/T3rvtzFLmBU2RfF1MZd53FiluViz7gqZIvoYqItn3nV1/3/qfsi9oiuR1qFqVdUFTJHamoAKhQgVChQqEChVKvZiyeKfo7fvEV1XaUG3eKfr8PvFVPRVqFEVB2gsfDodARCSO42C1WjXTjt9ut+0gCJrj8dh0u91facau1+tgsVg0oyhqrVarY9rPtrn3osZq/uxn+voNGCSXKAOFnKMAAAAASUVORK5CYII=\"></img></td>\n",
       "      <td id=\"T_e29e7_row3_col5\" class=\"data row3 col5\" >0<br>(0.0%)</td>\n",
       "    </tr>\n",
       "    <tr>\n",
       "      <td id=\"T_e29e7_row4_col0\" class=\"data row4 col0\" >5</td>\n",
       "      <td id=\"T_e29e7_row4_col1\" class=\"data row4 col1\" ><strong>species</strong><br>[object]</td>\n",
       "      <td id=\"T_e29e7_row4_col2\" class=\"data row4 col2\" >1. setosa<br>2. versicolor<br>3. virginica</td>\n",
       "      <td id=\"T_e29e7_row4_col3\" class=\"data row4 col3\" >50 (33.3%)<br>50 (33.3%)<br>50 (33.3%)</td>\n",
       "      <td id=\"T_e29e7_row4_col4\" class=\"data row4 col4\" ><img src = \"data:image/png;base64, iVBORw0KGgoAAAANSUhEUgAAAJsAAABFCAYAAABdVZTTAAAAOXRFWHRTb2Z0d2FyZQBNYXRwbG90bGliIHZlcnNpb24zLjkuMiwgaHR0cHM6Ly9tYXRwbG90bGliLm9yZy8hTgPZAAAACXBIWXMAAA9hAAAPYQGoP6dpAAABZUlEQVR4nO3bQWrCYBSF0ZcSSp0kBMHFuIgutovIbkT8B23pJB10aGeV+4s9ZwVP+FAiucO2bQUJT70P4P8YqmpXVc+9D7mhr23bPnofwbVxv9+/TtO09D7kVlpr52EY3gR3f8Zpmpbj8fgxz/Nn72P+6nK5vKzrupxOp+eqEtudGauq5nn+PBwO772PuZFd7wP4nQcEYsRGjNiIERsxYiNGbMSIjRixESM2YsRGjNiIERsxYiNGbMSMVT/vgfU+5BYe5XM8qrG1dl7XdakHeQ+stXauqq/ed3DNBoGYwZSPFN9sxFhXEWNdRYx1FTH+1CVGbMSIjRixESM2YsRGjNiIERsxYiNGbMSIjRixESM2YsRGjHUVMdZVxNggEGNdRYwHBGL8jBJjykeMKR8xpnzEeEAgRmzEiI0YsREjNmLERozYiBEbMWIjRmzEiI0YsREjNmLERowpHzGmfMTYIBBjykfMN77xo0reSBZ8AAAAAElFTkSuQmCC\"></img></td>\n",
       "      <td id=\"T_e29e7_row4_col5\" class=\"data row4 col5\" >0<br>(0.0%)</td>\n",
       "    </tr>\n",
       "  </tbody>\n",
       "</table>\n"
      ],
      "text/plain": [
       "<pandas.io.formats.style.Styler at 0x138de4200>"
      ]
     },
     "execution_count": 2,
     "metadata": {},
     "output_type": "execute_result"
    }
   ],
   "source": [
    "from summarytools import dfSummary\n",
    "dfSummary(iris)"
   ]
  }
 ],
 "metadata": {
  "kernelspec": {
   "display_name": "Python 3 (ipykernel)",
   "language": "python",
   "name": "python3"
  },
  "language_info": {
   "codemirror_mode": {
    "name": "ipython",
    "version": 3
   },
   "file_extension": ".py",
   "mimetype": "text/x-python",
   "name": "python",
   "nbconvert_exporter": "python",
   "pygments_lexer": "ipython3",
   "version": "3.12.4"
  }
 },
 "nbformat": 4,
 "nbformat_minor": 5
}
