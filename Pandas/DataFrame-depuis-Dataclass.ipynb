{
 "cells": [
  {
   "cell_type": "markdown",
   "id": "83a28866-b7f0-471c-8b4b-8ebcf43ae538",
   "metadata": {},
   "source": [
    "# Créer un DataFrame Pandas à partir d'une classe de données"
   ]
  },
  {
   "cell_type": "code",
   "execution_count": 2,
   "id": "100c4348-d553-4272-858c-f7091b139d57",
   "metadata": {},
   "outputs": [],
   "source": [
    "import pandas as pd\n",
    "from dataclasses import dataclass"
   ]
  },
  {
   "cell_type": "code",
   "execution_count": 3,
   "id": "d8ae6e24-6ecc-476d-9c66-d95fa043b9db",
   "metadata": {},
   "outputs": [],
   "source": [
    "@dataclass\n",
    "class Point:\n",
    "    x_loc:int\n",
    "    y_loc:int"
   ]
  },
  {
   "cell_type": "code",
   "execution_count": 9,
   "id": "48d04cbd-9075-4542-8ffe-ae564a1a2135",
   "metadata": {},
   "outputs": [
    {
     "name": "stdout",
     "output_type": "stream",
     "text": [
      "   x_loc  y_loc\n",
      "0      0      0\n",
      "1      0      3\n",
      "2      2      3\n"
     ]
    }
   ],
   "source": [
    "points = [Point(0, 0), Point(0, 3), Point(2, 3)]\n",
    "\n",
    "print(pd.DataFrame(points))"
   ]
  },
  {
   "cell_type": "code",
   "execution_count": null,
   "id": "33826191-75ab-41dd-bef3-97149ae878a5",
   "metadata": {},
   "outputs": [],
   "source": []
  }
 ],
 "metadata": {
  "kernelspec": {
   "display_name": "Python 3 (ipykernel)",
   "language": "python",
   "name": "python3"
  },
  "language_info": {
   "codemirror_mode": {
    "name": "ipython",
    "version": 3
   },
   "file_extension": ".py",
   "mimetype": "text/x-python",
   "name": "python",
   "nbconvert_exporter": "python",
   "pygments_lexer": "ipython3",
   "version": "3.11.7"
  }
 },
 "nbformat": 4,
 "nbformat_minor": 5
}
