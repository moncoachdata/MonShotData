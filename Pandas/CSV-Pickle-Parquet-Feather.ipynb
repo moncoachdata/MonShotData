{
 "cells": [
  {
   "cell_type": "markdown",
   "id": "0219aaf5-8513-4eed-b90e-4fca832f4121",
   "metadata": {},
   "source": [
    "# Le meilleur format de fichier pour stocker un DataFrame Pandas"
   ]
  },
  {
   "cell_type": "code",
   "execution_count": 2,
   "id": "31939931-170f-4e16-a010-633ec303e0ff",
   "metadata": {},
   "outputs": [],
   "source": [
    "import pandas as pd\n",
    "import os"
   ]
  },
  {
   "cell_type": "code",
   "execution_count": 4,
   "id": "dce4dcf7-53a0-4f5e-a833-a671a4956a0d",
   "metadata": {},
   "outputs": [],
   "source": [
    "df = pd.read_csv(\"../_datasets/employee_dataset.csv\")"
   ]
  },
  {
   "cell_type": "code",
   "execution_count": 6,
   "id": "802417bd-993e-4d9a-87fe-34ef23bd5248",
   "metadata": {},
   "outputs": [
    {
     "data": {
      "text/html": [
       "<div>\n",
       "<style scoped>\n",
       "    .dataframe tbody tr th:only-of-type {\n",
       "        vertical-align: middle;\n",
       "    }\n",
       "\n",
       "    .dataframe tbody tr th {\n",
       "        vertical-align: top;\n",
       "    }\n",
       "\n",
       "    .dataframe thead th {\n",
       "        text-align: right;\n",
       "    }\n",
       "</style>\n",
       "<table border=\"1\" class=\"dataframe\">\n",
       "  <thead>\n",
       "    <tr style=\"text-align: right;\">\n",
       "      <th></th>\n",
       "      <th>Name</th>\n",
       "      <th>Company_Name</th>\n",
       "      <th>Employee_Job_Title</th>\n",
       "      <th>Employee_City</th>\n",
       "      <th>Employee_Country</th>\n",
       "      <th>Employee_Salary</th>\n",
       "      <th>Employment_Status</th>\n",
       "      <th>Employee_Rating</th>\n",
       "      <th>Credits</th>\n",
       "    </tr>\n",
       "  </thead>\n",
       "  <tbody>\n",
       "    <tr>\n",
       "      <th>0</th>\n",
       "      <td>Johnny Maynard</td>\n",
       "      <td>White, Mcclain and Cobb</td>\n",
       "      <td>Equities trader</td>\n",
       "      <td>New Cindychester</td>\n",
       "      <td>Mongolia</td>\n",
       "      <td>764340</td>\n",
       "      <td>Full Time</td>\n",
       "      <td>3.3</td>\n",
       "      <td>1</td>\n",
       "    </tr>\n",
       "    <tr>\n",
       "      <th>1</th>\n",
       "      <td>Michael Williams</td>\n",
       "      <td>Scott Inc</td>\n",
       "      <td>Patent examiner</td>\n",
       "      <td>Ricardomouth</td>\n",
       "      <td>Guinea-Bissau</td>\n",
       "      <td>929230</td>\n",
       "      <td>Full Time</td>\n",
       "      <td>4.6</td>\n",
       "      <td>4</td>\n",
       "    </tr>\n",
       "    <tr>\n",
       "      <th>2</th>\n",
       "      <td>Laura Flynn</td>\n",
       "      <td>Andrade LLC</td>\n",
       "      <td>Equities trader</td>\n",
       "      <td>North Melissafurt</td>\n",
       "      <td>Tonga</td>\n",
       "      <td>606900</td>\n",
       "      <td>Intern</td>\n",
       "      <td>0.3</td>\n",
       "      <td>3</td>\n",
       "    </tr>\n",
       "    <tr>\n",
       "      <th>3</th>\n",
       "      <td>Stefanie Archer</td>\n",
       "      <td>James and Sons</td>\n",
       "      <td>Retail merchandiser</td>\n",
       "      <td>Ricardomouth</td>\n",
       "      <td>San Marino</td>\n",
       "      <td>775380</td>\n",
       "      <td>Full Time</td>\n",
       "      <td>2.8</td>\n",
       "      <td>5</td>\n",
       "    </tr>\n",
       "    <tr>\n",
       "      <th>4</th>\n",
       "      <td>Sierra Garcia</td>\n",
       "      <td>Matthews Inc</td>\n",
       "      <td>Armed forces logistics/support/administrative ...</td>\n",
       "      <td>Whitakerbury</td>\n",
       "      <td>Nepal</td>\n",
       "      <td>944480</td>\n",
       "      <td>Full Time</td>\n",
       "      <td>4.5</td>\n",
       "      <td>4</td>\n",
       "    </tr>\n",
       "  </tbody>\n",
       "</table>\n",
       "</div>"
      ],
      "text/plain": [
       "               Name             Company_Name  \\\n",
       "0    Johnny Maynard  White, Mcclain and Cobb   \n",
       "1  Michael Williams                Scott Inc   \n",
       "2       Laura Flynn              Andrade LLC   \n",
       "3   Stefanie Archer           James and Sons   \n",
       "4     Sierra Garcia             Matthews Inc   \n",
       "\n",
       "                                  Employee_Job_Title      Employee_City  \\\n",
       "0                                    Equities trader   New Cindychester   \n",
       "1                                    Patent examiner       Ricardomouth   \n",
       "2                                    Equities trader  North Melissafurt   \n",
       "3                                Retail merchandiser       Ricardomouth   \n",
       "4  Armed forces logistics/support/administrative ...       Whitakerbury   \n",
       "\n",
       "  Employee_Country  Employee_Salary Employment_Status  Employee_Rating  \\\n",
       "0         Mongolia           764340         Full Time              3.3   \n",
       "1    Guinea-Bissau           929230         Full Time              4.6   \n",
       "2            Tonga           606900            Intern              0.3   \n",
       "3       San Marino           775380         Full Time              2.8   \n",
       "4            Nepal           944480         Full Time              4.5   \n",
       "\n",
       "   Credits  \n",
       "0        1  \n",
       "1        4  \n",
       "2        3  \n",
       "3        5  \n",
       "4        4  "
      ]
     },
     "execution_count": 6,
     "metadata": {},
     "output_type": "execute_result"
    }
   ],
   "source": [
    "df.head()"
   ]
  },
  {
   "cell_type": "code",
   "execution_count": 8,
   "id": "7c234d6e-c32f-4df0-86ea-eadc55a0180e",
   "metadata": {},
   "outputs": [
    {
     "name": "stdout",
     "output_type": "stream",
     "text": [
      "(2000, 9)\n",
      "(4000, 9)\n",
      "(8000, 9)\n",
      "(16000, 9)\n",
      "(32000, 9)\n",
      "(64000, 9)\n",
      "(128000, 9)\n",
      "(256000, 9)\n",
      "(512000, 9)\n",
      "(1024000, 9)\n",
      "(2048000, 9)\n",
      "(4096000, 9)\n",
      "(8192000, 9)\n"
     ]
    }
   ],
   "source": [
    "for i in range(13):\n",
    "    df = pd.concat((df, df))\n",
    "    print(df.shape)\n",
    "    \n",
    "df.reset_index(drop = True, inplace = True)"
   ]
  },
  {
   "cell_type": "markdown",
   "id": "8d3f8257-ea30-4b6a-8a02-9a0c98d566cc",
   "metadata": {},
   "source": [
    "## Dump to CSV"
   ]
  },
  {
   "cell_type": "code",
   "execution_count": 11,
   "id": "fc8a770e-a49a-4763-8505-7ce0979653f4",
   "metadata": {},
   "outputs": [
    {
     "name": "stdout",
     "output_type": "stream",
     "text": [
      "CPU times: user 37.9 s, sys: 2.94 s, total: 40.8 s\n",
      "Wall time: 44 s\n"
     ]
    }
   ],
   "source": [
    "%time df.to_csv(\"../_datasets/dump_to_csv.csv\")"
   ]
  },
  {
   "cell_type": "code",
   "execution_count": 13,
   "id": "4c362024-d6d2-496d-8486-166ad069825d",
   "metadata": {},
   "outputs": [
    {
     "name": "stdout",
     "output_type": "stream",
     "text": [
      "La taille du fichier est de 862.112359046936 Mo\n"
     ]
    }
   ],
   "source": [
    "file_size = os.path.getsize('../_datasets/dump_to_csv.csv')\n",
    "print(f\"La taille du fichier est de {file_size/(1024**2)} Mo\")"
   ]
  },
  {
   "cell_type": "code",
   "execution_count": 15,
   "id": "b8cbf0e1-c9fd-4020-a892-7acdce3daaa7",
   "metadata": {},
   "outputs": [],
   "source": [
    "!rm ../_datasets/dump_to_csv.csv"
   ]
  },
  {
   "cell_type": "markdown",
   "id": "aa8bc532-1a6f-4ea4-8326-00f54c324c75",
   "metadata": {},
   "source": [
    "## Dump to Pickle"
   ]
  },
  {
   "cell_type": "code",
   "execution_count": 18,
   "id": "cf2f77c5-6a32-41ec-9bc6-f78cdc1df190",
   "metadata": {},
   "outputs": [
    {
     "name": "stdout",
     "output_type": "stream",
     "text": [
      "CPU times: user 1.74 s, sys: 1.1 s, total: 2.84 s\n",
      "Wall time: 3.2 s\n"
     ]
    }
   ],
   "source": [
    "%time df.to_pickle(\"../_datasets/dump_to_pickle.pickle\")"
   ]
  },
  {
   "cell_type": "code",
   "execution_count": 20,
   "id": "3f9ef005-b806-4951-ac9c-6f6aced82bef",
   "metadata": {},
   "outputs": [
    {
     "name": "stdout",
     "output_type": "stream",
     "text": [
      "La taille du fichier est de 416.6713104248047 Mo\n"
     ]
    }
   ],
   "source": [
    "file_size = os.path.getsize('../_datasets/dump_to_pickle.pickle')\n",
    "print(f\"La taille du fichier est de {file_size/(1024**2)} Mo\")"
   ]
  },
  {
   "cell_type": "code",
   "execution_count": 22,
   "id": "9b469187-3470-4412-af62-e01408cf963d",
   "metadata": {},
   "outputs": [],
   "source": [
    "!rm ../_datasets/dump_to_pickle.pickle"
   ]
  },
  {
   "cell_type": "markdown",
   "id": "3ee2e6b0-d761-43b3-9db9-ccdebec91410",
   "metadata": {},
   "source": [
    "## Dump to Parquet"
   ]
  },
  {
   "cell_type": "code",
   "execution_count": 25,
   "id": "f0a200e7-7888-4f2f-bb13-96ddafb7b93a",
   "metadata": {},
   "outputs": [
    {
     "name": "stdout",
     "output_type": "stream",
     "text": [
      "CPU times: user 5.97 s, sys: 2.88 s, total: 8.84 s\n",
      "Wall time: 13.8 s\n"
     ]
    }
   ],
   "source": [
    "%time df.to_parquet(\"../_datasets/dump_to_parquet.parquet\")"
   ]
  },
  {
   "cell_type": "code",
   "execution_count": 27,
   "id": "4021ac6d-59ec-4766-a78f-2fca50387b38",
   "metadata": {},
   "outputs": [
    {
     "name": "stdout",
     "output_type": "stream",
     "text": [
      "La taille du fichier est de 4.1562957763671875 Mo\n"
     ]
    }
   ],
   "source": [
    "file_size = os.path.getsize('../_datasets/dump_to_parquet.parquet')\n",
    "print(f\"La taille du fichier est de {file_size/(1024**2)} Mo\")"
   ]
  },
  {
   "cell_type": "code",
   "execution_count": 29,
   "id": "8089bb22-c3c2-4850-b66a-94f69d3c5c28",
   "metadata": {},
   "outputs": [],
   "source": [
    "!rm ../_datasets/dump_to_parquet.parquet"
   ]
  },
  {
   "cell_type": "markdown",
   "id": "1e9acbb9-e249-4b16-a813-4d96feb1f58c",
   "metadata": {},
   "source": [
    "## Dump to Feather"
   ]
  },
  {
   "cell_type": "code",
   "execution_count": 32,
   "id": "ab0689ac-9d64-4e04-ba9d-315c3b695528",
   "metadata": {},
   "outputs": [
    {
     "name": "stdout",
     "output_type": "stream",
     "text": [
      "CPU times: user 3.36 s, sys: 2.49 s, total: 5.85 s\n",
      "Wall time: 6.48 s\n"
     ]
    }
   ],
   "source": [
    "%time df.to_feather(\"../_datasets/dump_to_feather.feather\")"
   ]
  },
  {
   "cell_type": "code",
   "execution_count": 34,
   "id": "8175b80a-229d-4573-a625-131cfa240802",
   "metadata": {},
   "outputs": [
    {
     "name": "stdout",
     "output_type": "stream",
     "text": [
      "La taille du fichier est de 282.39537239074707 Mo\n"
     ]
    }
   ],
   "source": [
    "file_size = os.path.getsize('../_datasets/dump_to_feather.feather')\n",
    "print(f\"La taille du fichier est de {file_size/(1024**2)} Mo\")"
   ]
  },
  {
   "cell_type": "code",
   "execution_count": 36,
   "id": "f52d5523-e573-4e6d-856b-794143538403",
   "metadata": {},
   "outputs": [],
   "source": [
    "!rm ../_datasets/dump_to_feather.feather"
   ]
  }
 ],
 "metadata": {
  "kernelspec": {
   "display_name": "Python 3 (ipykernel)",
   "language": "python",
   "name": "python3"
  },
  "language_info": {
   "codemirror_mode": {
    "name": "ipython",
    "version": 3
   },
   "file_extension": ".py",
   "mimetype": "text/x-python",
   "name": "python",
   "nbconvert_exporter": "python",
   "pygments_lexer": "ipython3",
   "version": "3.11.7"
  }
 },
 "nbformat": 4,
 "nbformat_minor": 5
}
