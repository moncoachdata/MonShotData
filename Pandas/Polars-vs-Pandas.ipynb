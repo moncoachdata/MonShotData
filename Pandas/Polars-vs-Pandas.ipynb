{
 "cells": [
  {
   "cell_type": "markdown",
   "id": "48fd54c2-463e-413d-bb2a-de524d7ae44f",
   "metadata": {},
   "source": [
    "# Pandas vs Polars : Comparaison des performances et de la mémoire\n",
    "\n",
    "[Lien du post MonShotData](https://www.monshotdata.com/p/pandas-vs-polars)"
   ]
  },
  {
   "cell_type": "code",
   "execution_count": null,
   "id": "e26334b6-ae18-46e8-8d34-3bdf8b676dd0",
   "metadata": {},
   "outputs": [],
   "source": [
    "!pip install polars"
   ]
  },
  {
   "cell_type": "code",
   "execution_count": 1,
   "id": "386cd7fa-01ec-43d3-a59f-b21d945a6ee4",
   "metadata": {},
   "outputs": [],
   "source": [
    "import polars as pl\n",
    "import pandas as pd"
   ]
  },
  {
   "cell_type": "markdown",
   "id": "9212a636-a47d-4163-bb36-d90a8a5794b0",
   "metadata": {},
   "source": [
    "Télécharger l'ensemble des données ici : [dataset.csv](https://drive.google.com/file/d/18dMgeRtL2SrXFY1At8dsNzURPcozN4lb/view?usp=sharing)"
   ]
  },
  {
   "cell_type": "markdown",
   "id": "0e0284e0-0019-4576-8500-04648f555645",
   "metadata": {},
   "source": [
    "## Lire le CSV"
   ]
  },
  {
   "cell_type": "code",
   "execution_count": 2,
   "id": "876f4667-20e5-474a-8840-e77d0b10f387",
   "metadata": {},
   "outputs": [
    {
     "name": "stdout",
     "output_type": "stream",
     "text": [
      "1.34 s ± 7.74 ms per loop (mean ± std. dev. of 7 runs, 1 loop each)\n"
     ]
    }
   ],
   "source": [
    "%timeit pd.read_csv(\"dataset.csv\")"
   ]
  },
  {
   "cell_type": "code",
   "execution_count": 3,
   "id": "06efe6cd-0fae-4bd2-adc8-6d57966a912f",
   "metadata": {},
   "outputs": [
    {
     "name": "stdout",
     "output_type": "stream",
     "text": [
      "57 ms ± 270 μs per loop (mean ± std. dev. of 7 runs, 10 loops each)\n"
     ]
    }
   ],
   "source": [
    "%timeit pl.read_csv(\"dataset.csv\")"
   ]
  },
  {
   "cell_type": "code",
   "execution_count": 4,
   "id": "242ffbc2-8d12-409f-a783-5e08abeb9186",
   "metadata": {},
   "outputs": [],
   "source": [
    "df_pd = pd.read_csv(\"dataset.csv\")\n",
    "df_pl = pl.read_csv(\"dataset.csv\")"
   ]
  },
  {
   "cell_type": "markdown",
   "id": "8971c7d1-5618-4828-a860-9ad63aeb2209",
   "metadata": {},
   "source": [
    "## Vers CSV"
   ]
  },
  {
   "cell_type": "code",
   "execution_count": 5,
   "id": "0aa59f3b-3282-402a-a773-ede69585b566",
   "metadata": {},
   "outputs": [
    {
     "name": "stdout",
     "output_type": "stream",
     "text": [
      "5.01 s ± 12.3 ms per loop (mean ± std. dev. of 7 runs, 1 loop each)\n"
     ]
    }
   ],
   "source": [
    "%timeit df_pd.to_csv(\"dataset_dummy_pandas.csv\")"
   ]
  },
  {
   "cell_type": "code",
   "execution_count": 6,
   "id": "c24bc8fb-50f8-470e-8ee4-37da9f310631",
   "metadata": {},
   "outputs": [
    {
     "name": "stdout",
     "output_type": "stream",
     "text": [
      "167 ms ± 2.36 ms per loop (mean ± std. dev. of 7 runs, 10 loops each)\n"
     ]
    }
   ],
   "source": [
    "%timeit df_pl.write_csv(\"dataset_dummy_polars.csv\")"
   ]
  },
  {
   "cell_type": "markdown",
   "id": "a995895c-d8dd-4d1e-8dff-2db904efdc81",
   "metadata": {},
   "source": [
    "## Utilisation de la mémoire"
   ]
  },
  {
   "cell_type": "code",
   "execution_count": 7,
   "id": "6bf302e6-c653-469d-86ea-d2e86ee8dee6",
   "metadata": {},
   "outputs": [
    {
     "data": {
      "text/plain": [
       "437379072"
      ]
     },
     "execution_count": 7,
     "metadata": {},
     "output_type": "execute_result"
    }
   ],
   "source": [
    "df_pl.estimated_size() # en octets"
   ]
  },
  {
   "cell_type": "code",
   "execution_count": 8,
   "id": "7cced724-a1ec-45a0-8b18-924dec8f1fa9",
   "metadata": {},
   "outputs": [
    {
     "name": "stdout",
     "output_type": "stream",
     "text": [
      "<class 'pandas.core.frame.DataFrame'>\n",
      "RangeIndex: 4096000 entries, 0 to 4095999\n",
      "Data columns (total 9 columns):\n",
      " #   Column              Dtype  \n",
      "---  ------              -----  \n",
      " 0   Name                object \n",
      " 1   Company_Name        object \n",
      " 2   Employee_Job_Title  object \n",
      " 3   Employee_City       object \n",
      " 4   Employee_Country    object \n",
      " 5   Employee_Salary     int64  \n",
      " 6   Employment_Status   object \n",
      " 7   Employee_Rating     float64\n",
      " 8   Credits             int64  \n",
      "dtypes: float64(1), int64(2), object(6)\n",
      "memory usage: 1.5 GB\n"
     ]
    }
   ],
   "source": [
    "df_pd.info(memory_usage=\"deep\")"
   ]
  },
  {
   "cell_type": "markdown",
   "id": "1e57aaeb-082d-4ae6-a862-965cb76e651d",
   "metadata": {},
   "source": [
    "## Sélection des colonnes"
   ]
  },
  {
   "cell_type": "code",
   "execution_count": 9,
   "id": "5ed974a5-0cc3-44c4-8780-8fbdd5d386b2",
   "metadata": {},
   "outputs": [
    {
     "name": "stdout",
     "output_type": "stream",
     "text": [
      "11 ms ± 207 μs per loop (mean ± std. dev. of 7 runs, 100 loops each)\n"
     ]
    }
   ],
   "source": [
    "%timeit df_pd[[\"Name\", \"Employee_Rating\"]]"
   ]
  },
  {
   "cell_type": "code",
   "execution_count": 10,
   "id": "5dcc77f9-13ac-4ed5-893f-c2e51255d456",
   "metadata": {},
   "outputs": [
    {
     "name": "stdout",
     "output_type": "stream",
     "text": [
      "3.41 μs ± 44.3 ns per loop (mean ± std. dev. of 7 runs, 100,000 loops each)\n"
     ]
    }
   ],
   "source": [
    "%timeit df_pl[[\"Name\", \"Employee_Rating\"]]"
   ]
  },
  {
   "cell_type": "markdown",
   "id": "e0b34bbb-9f57-41f7-bd8d-a14608ce878b",
   "metadata": {},
   "source": [
    "## Filtrage"
   ]
  },
  {
   "cell_type": "code",
   "execution_count": 11,
   "id": "c8157d93-8a6f-4165-a1fe-c740e70811fb",
   "metadata": {},
   "outputs": [
    {
     "name": "stdout",
     "output_type": "stream",
     "text": [
      "57 ms ± 130 μs per loop (mean ± std. dev. of 7 runs, 10 loops each)\n"
     ]
    }
   ],
   "source": [
    "%timeit df_pd[df_pd.Credits > 2]"
   ]
  },
  {
   "cell_type": "code",
   "execution_count": 12,
   "id": "138acb82-0986-46bf-8ce3-9a55359072c2",
   "metadata": {},
   "outputs": [
    {
     "name": "stdout",
     "output_type": "stream",
     "text": [
      "5.01 ms ± 386 μs per loop (mean ± std. dev. of 7 runs, 100 loops each)\n"
     ]
    }
   ],
   "source": [
    "%timeit df_pl.filter(pl.col('Credits') > 2)"
   ]
  },
  {
   "cell_type": "markdown",
   "id": "21e3314c-a65f-496a-a2bb-c4937f2bb7fb",
   "metadata": {},
   "source": [
    "## Regroupement"
   ]
  },
  {
   "cell_type": "code",
   "execution_count": 13,
   "id": "e1962583-0c2e-4130-98d8-033aaa382dee",
   "metadata": {},
   "outputs": [
    {
     "name": "stdout",
     "output_type": "stream",
     "text": [
      "102 ms ± 718 μs per loop (mean ± std. dev. of 7 runs, 10 loops each)\n"
     ]
    }
   ],
   "source": [
    "%timeit df_pd.groupby(\"Company_Name\").Employee_Salary.mean().reset_index()"
   ]
  },
  {
   "cell_type": "code",
   "execution_count": 14,
   "id": "1a79ef5f-167a-4e52-a978-fa532f62a06c",
   "metadata": {},
   "outputs": [
    {
     "name": "stdout",
     "output_type": "stream",
     "text": [
      "31.1 ms ± 570 μs per loop (mean ± std. dev. of 7 runs, 10 loops each)\n"
     ]
    }
   ],
   "source": [
    "%timeit df_pl.group_by(\"Company_Name\").agg([(\"Employee_Salary\", \"mean\")])"
   ]
  },
  {
   "cell_type": "markdown",
   "id": "ca1ed7e2-4604-40bd-8351-a585bd5bb8f1",
   "metadata": {},
   "source": [
    "## Tri"
   ]
  },
  {
   "cell_type": "code",
   "execution_count": 15,
   "id": "fba5210c-b691-4928-8cd9-81ead2477d93",
   "metadata": {},
   "outputs": [
    {
     "name": "stdout",
     "output_type": "stream",
     "text": [
      "348 ms ± 1.97 ms per loop (mean ± std. dev. of 7 runs, 1 loop each)\n"
     ]
    }
   ],
   "source": [
    "%timeit df_pd.sort_values(\"Employee_Salary\")"
   ]
  },
  {
   "cell_type": "code",
   "execution_count": 16,
   "id": "3059d779-0d2b-42cd-b50c-aa1c98aed22c",
   "metadata": {},
   "outputs": [
    {
     "name": "stdout",
     "output_type": "stream",
     "text": [
      "83.2 ms ± 2.72 ms per loop (mean ± std. dev. of 7 runs, 10 loops each)\n"
     ]
    }
   ],
   "source": [
    "%timeit df_pl.sort(\"Employee_Salary\")"
   ]
  }
 ],
 "metadata": {
  "kernelspec": {
   "display_name": "Python 3 (ipykernel)",
   "language": "python",
   "name": "python3"
  },
  "language_info": {
   "codemirror_mode": {
    "name": "ipython",
    "version": 3
   },
   "file_extension": ".py",
   "mimetype": "text/x-python",
   "name": "python",
   "nbconvert_exporter": "python",
   "pygments_lexer": "ipython3",
   "version": "3.12.9"
  }
 },
 "nbformat": 4,
 "nbformat_minor": 5
}
