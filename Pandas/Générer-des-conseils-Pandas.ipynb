{
 "cells": [
  {
   "cell_type": "markdown",
   "id": "5630f1ce-7b6b-423a-a432-11b2248be32c",
   "metadata": {},
   "source": [
    "# Générer des conseils utiles au fur et à mesure que tu écris du code Pandas"
   ]
  },
  {
   "cell_type": "code",
   "execution_count": null,
   "id": "2698a720-b2b5-4995-b143-f4873747215e",
   "metadata": {},
   "outputs": [],
   "source": [
    "!pip install dovpanda"
   ]
  },
  {
   "cell_type": "code",
   "execution_count": 1,
   "id": "d2bdc7fb-87fc-467d-8083-c932942538ee",
   "metadata": {},
   "outputs": [
    {
     "ename": "AttributeError",
     "evalue": "type object 'DataFrame' has no attribute 'append'",
     "output_type": "error",
     "traceback": [
      "\u001b[0;31m---------------------------------------------------------------------------\u001b[0m",
      "\u001b[0;31mAttributeError\u001b[0m                            Traceback (most recent call last)",
      "Cell \u001b[0;32mIn[1], line 2\u001b[0m\n\u001b[1;32m      1\u001b[0m \u001b[38;5;28;01mimport\u001b[39;00m \u001b[38;5;21;01mpandas\u001b[39;00m \u001b[38;5;28;01mas\u001b[39;00m \u001b[38;5;21;01mpd\u001b[39;00m\n\u001b[0;32m----> 2\u001b[0m \u001b[38;5;28;01mimport\u001b[39;00m \u001b[38;5;21;01mdovpanda\u001b[39;00m\n",
      "File \u001b[0;32m/opt/anaconda3/lib/python3.12/site-packages/dovpanda/__init__.py:32\u001b[0m\n\u001b[1;32m     28\u001b[0m     \u001b[38;5;28;01mreturn\u001b[39;00m tips\u001b[38;5;241m.\u001b[39mrandom_tip()\n\u001b[1;32m     31\u001b[0m \u001b[38;5;28;01mif\u001b[39;00m \u001b[38;5;124m'\u001b[39m\u001b[38;5;124mpandas\u001b[39m\u001b[38;5;124m'\u001b[39m \u001b[38;5;129;01min\u001b[39;00m sys\u001b[38;5;241m.\u001b[39mmodules\u001b[38;5;241m.\u001b[39mkeys():\n\u001b[0;32m---> 32\u001b[0m     start()\n\u001b[1;32m     33\u001b[0m \u001b[38;5;28;01melse\u001b[39;00m:\n\u001b[1;32m     34\u001b[0m     ledger\u001b[38;5;241m.\u001b[39mtell(\u001b[38;5;124m'\u001b[39m\u001b[38;5;124mPandas not imported\u001b[39m\u001b[38;5;124m'\u001b[39m)\n",
      "File \u001b[0;32m/opt/anaconda3/lib/python3.12/site-packages/dovpanda/__init__.py:16\u001b[0m, in \u001b[0;36mstart\u001b[0;34m()\u001b[0m\n\u001b[1;32m     14\u001b[0m \u001b[38;5;28;01mdef\u001b[39;00m \u001b[38;5;21mstart\u001b[39m():\n\u001b[1;32m     15\u001b[0m \u001b[38;5;250m    \u001b[39m\u001b[38;5;124;03m\"\"\"Startup `dovpanda`, in case it has been shut down. This is called when importing `dovpanda`\"\"\"\u001b[39;00m\n\u001b[0;32m---> 16\u001b[0m     ledger\u001b[38;5;241m.\u001b[39mregister_hints()\n",
      "File \u001b[0;32m/opt/anaconda3/lib/python3.12/site-packages/dovpanda/base.py:145\u001b[0m, in \u001b[0;36mLedger.register_hints\u001b[0;34m(self)\u001b[0m\n\u001b[1;32m    143\u001b[0m \u001b[38;5;28;01mdef\u001b[39;00m \u001b[38;5;21mregister_hints\u001b[39m(\u001b[38;5;28mself\u001b[39m):\n\u001b[1;32m    144\u001b[0m     \u001b[38;5;28;01mfor\u001b[39;00m original, func_hooks \u001b[38;5;129;01min\u001b[39;00m \u001b[38;5;28mself\u001b[39m\u001b[38;5;241m.\u001b[39mhints\u001b[38;5;241m.\u001b[39mitems():\n\u001b[0;32m--> 145\u001b[0m         \u001b[38;5;28mself\u001b[39m\u001b[38;5;241m.\u001b[39mreplace(original, func_hooks)\n",
      "File \u001b[0;32m/opt/anaconda3/lib/python3.12/site-packages/dovpanda/base.py:129\u001b[0m, in \u001b[0;36mLedger.replace\u001b[0;34m(self, original, func_hooks)\u001b[0m\n\u001b[1;32m    128\u001b[0m \u001b[38;5;28;01mdef\u001b[39;00m \u001b[38;5;21mreplace\u001b[39m(\u001b[38;5;28mself\u001b[39m, original, func_hooks):\n\u001b[0;32m--> 129\u001b[0m     g \u001b[38;5;241m=\u001b[39m rgetattr(sys\u001b[38;5;241m.\u001b[39mmodules[\u001b[38;5;124m'\u001b[39m\u001b[38;5;124mpandas\u001b[39m\u001b[38;5;124m'\u001b[39m], original)\n\u001b[1;32m    130\u001b[0m     \u001b[38;5;28mself\u001b[39m\u001b[38;5;241m.\u001b[39msave_original(original, g)\n\u001b[1;32m    131\u001b[0m     rsetattr(sys\u001b[38;5;241m.\u001b[39mmodules[\u001b[38;5;124m'\u001b[39m\u001b[38;5;124mpandas\u001b[39m\u001b[38;5;124m'\u001b[39m], original, \u001b[38;5;28mself\u001b[39m\u001b[38;5;241m.\u001b[39mattach_hooks(g, func_hooks))\n",
      "File \u001b[0;32m/opt/anaconda3/lib/python3.12/site-packages/dovpanda/base.py:239\u001b[0m, in \u001b[0;36mrgetattr\u001b[0;34m(obj, attr)\u001b[0m\n\u001b[1;32m    237\u001b[0m         obj \u001b[38;5;241m=\u001b[39m \u001b[38;5;28mgetattr\u001b[39m(obj, att)\n\u001b[1;32m    238\u001b[0m     \u001b[38;5;28;01mexcept\u001b[39;00m \u001b[38;5;167;01mAttributeError\u001b[39;00m \u001b[38;5;28;01mas\u001b[39;00m e:\n\u001b[0;32m--> 239\u001b[0m         \u001b[38;5;28;01mraise\u001b[39;00m e\n\u001b[1;32m    240\u001b[0m \u001b[38;5;28;01mreturn\u001b[39;00m obj\n",
      "File \u001b[0;32m/opt/anaconda3/lib/python3.12/site-packages/dovpanda/base.py:237\u001b[0m, in \u001b[0;36mrgetattr\u001b[0;34m(obj, attr)\u001b[0m\n\u001b[1;32m    235\u001b[0m \u001b[38;5;28;01mfor\u001b[39;00m att \u001b[38;5;129;01min\u001b[39;00m attributes:\n\u001b[1;32m    236\u001b[0m     \u001b[38;5;28;01mtry\u001b[39;00m:\n\u001b[0;32m--> 237\u001b[0m         obj \u001b[38;5;241m=\u001b[39m \u001b[38;5;28mgetattr\u001b[39m(obj, att)\n\u001b[1;32m    238\u001b[0m     \u001b[38;5;28;01mexcept\u001b[39;00m \u001b[38;5;167;01mAttributeError\u001b[39;00m \u001b[38;5;28;01mas\u001b[39;00m e:\n\u001b[1;32m    239\u001b[0m         \u001b[38;5;28;01mraise\u001b[39;00m e\n",
      "\u001b[0;31mAttributeError\u001b[0m: type object 'DataFrame' has no attribute 'append'"
     ]
    }
   ],
   "source": [
    "import pandas as pd\n",
    "import dovpanda"
   ]
  },
  {
   "cell_type": "code",
   "execution_count": 5,
   "id": "e0c25fe6-b0e7-4705-bd02-b6d99dd28d49",
   "metadata": {},
   "outputs": [],
   "source": [
    "df = pd.DataFrame([[1,2],[3,4]], columns = [\"A\",\"B\"])"
   ]
  },
  {
   "cell_type": "code",
   "execution_count": 6,
   "id": "ffc77614-fbb4-4367-a453-f8d32df4ae04",
   "metadata": {},
   "outputs": [],
   "source": [
    "def apply_func(row):\n",
    "    pass"
   ]
  },
  {
   "cell_type": "code",
   "execution_count": null,
   "id": "0a05710a-22f8-46d7-90b7-72d966c4ddd1",
   "metadata": {},
   "outputs": [],
   "source": [
    "import dovpanda"
   ]
  },
  {
   "cell_type": "code",
   "execution_count": 7,
   "id": "7141fe50-403a-43df-836b-4f882f03dc4d",
   "metadata": {},
   "outputs": [
    {
     "data": {
      "text/html": [
       "\n",
       "<div class=\"alert alert-info\" role=\"alert\">\n",
       "  <img src=\"data:image/png;base64,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\" alt=\"logo\" style=\"float:left; margin-right:10px\">\n",
       "  df.iterrows is not recommended. Essentially it is very similar to iterating the rows of the frames in a loop. In the majority of cases, there are better alternatives that utilize pandas' vector operation\n",
       "  <button type=\"button\" class=\"close\" data-dismiss=\"alert\" aria-label=\"Close\">\n",
       "    <span aria-hidden=\"true\">&times;</span>\n",
       "  </button>\n",
       "  <div style=\"font-size:0.7em;\">\n",
       "    Line 1: <code>iter_df = df.iterrows()</code>\n",
       "  </div>\n",
       "\n",
       "</div>\n"
      ],
      "text/plain": [
       "* =====(Line 1) df.iterrows is not recommended. Essentially it is very similar to iterating the rows of the frames in a loop. In the majority of cases, there are better alternatives that utilize pandas' vector operation ====="
      ]
     },
     "metadata": {},
     "output_type": "display_data"
    }
   ],
   "source": [
    "iter_df = df.iterrows()"
   ]
  },
  {
   "cell_type": "code",
   "execution_count": 8,
   "id": "78e387a4-fe04-481a-a3c8-9bb3c9f8179a",
   "metadata": {},
   "outputs": [
    {
     "data": {
      "text/html": [
       "\n",
       "<div class=\"alert alert-info\" role=\"alert\">\n",
       "  <img src=\"data:image/png;base64,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\" alt=\"logo\" style=\"float:left; margin-right:10px\">\n",
       "  df.apply is not recommended. Essentially it is very similar to iterating the rows of the frames in a loop. In the majority of cases, there are better alternatives that utilize pandas' vector operation\n",
       "  <button type=\"button\" class=\"close\" data-dismiss=\"alert\" aria-label=\"Close\">\n",
       "    <span aria-hidden=\"true\">&times;</span>\n",
       "  </button>\n",
       "  <div style=\"font-size:0.7em;\">\n",
       "    Line 1: <code>df[\"new_col\"] = df.apply(apply_func)</code>\n",
       "  </div>\n",
       "\n",
       "</div>\n"
      ],
      "text/plain": [
       "* =====(Line 1) df.apply is not recommended. Essentially it is very similar to iterating the rows of the frames in a loop. In the majority of cases, there are better alternatives that utilize pandas' vector operation ====="
      ]
     },
     "metadata": {},
     "output_type": "display_data"
    }
   ],
   "source": [
    "df[\"new_col\"] = df.apply(apply_func)"
   ]
  },
  {
   "cell_type": "code",
   "execution_count": 9,
   "id": "b1012e34-224c-4fc7-b316-b0024de8ac15",
   "metadata": {},
   "outputs": [
    {
     "data": {
      "text/html": [
       "\n",
       "<div class=\"alert alert-info\" role=\"alert\">\n",
       "  <img src=\"data:image/png;base64,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\" alt=\"logo\" style=\"float:left; margin-right:10px\">\n",
       "  All dataframes have the same columns and same number of rows. Pay attention, your axis is 0 which concatenates vertically\n",
       "  <button type=\"button\" class=\"close\" data-dismiss=\"alert\" aria-label=\"Close\">\n",
       "    <span aria-hidden=\"true\">&times;</span>\n",
       "  </button>\n",
       "  <div style=\"font-size:0.7em;\">\n",
       "    Line 1: <code>merged_df = pd.concat((df, df))</code>\n",
       "  </div>\n",
       "\n",
       "</div>\n"
      ],
      "text/plain": [
       "* =====(Line 1) All dataframes have the same columns and same number of rows. Pay attention, your axis is 0 which concatenates vertically ====="
      ]
     },
     "metadata": {},
     "output_type": "display_data"
    },
    {
     "data": {
      "text/html": [
       "\n",
       "<div class=\"alert alert-info\" role=\"alert\">\n",
       "  <img src=\"data:image/png;base64,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\" alt=\"logo\" style=\"float:left; margin-right:10px\">\n",
       "  After concatenation you have duplicated indices - pay attention\n",
       "  <button type=\"button\" class=\"close\" data-dismiss=\"alert\" aria-label=\"Close\">\n",
       "    <span aria-hidden=\"true\">&times;</span>\n",
       "  </button>\n",
       "  <div style=\"font-size:0.7em;\">\n",
       "    Line 1: <code>merged_df = pd.concat((df, df))</code>\n",
       "  </div>\n",
       "\n",
       "</div>\n"
      ],
      "text/plain": [
       "* =====(Line 1) After concatenation you have duplicated indices - pay attention ====="
      ]
     },
     "metadata": {},
     "output_type": "display_data"
    }
   ],
   "source": [
    "merged_df = pd.concat((df, df))"
   ]
  }
 ],
 "metadata": {
  "kernelspec": {
   "display_name": "Python 3 (ipykernel)",
   "language": "python",
   "name": "python3"
  },
  "language_info": {
   "codemirror_mode": {
    "name": "ipython",
    "version": 3
   },
   "file_extension": ".py",
   "mimetype": "text/x-python",
   "name": "python",
   "nbconvert_exporter": "python",
   "pygments_lexer": "ipython3",
   "version": "3.12.4"
  }
 },
 "nbformat": 4,
 "nbformat_minor": 5
}
