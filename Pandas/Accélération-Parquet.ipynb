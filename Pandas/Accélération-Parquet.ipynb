{
 "cells": [
  {
   "cell_type": "markdown",
   "id": "0be51aa4-ad7b-4a28-b426-c213e3a5dc74",
   "metadata": {},
   "source": [
    "# Accélérer de 5x l'I/O des fichiers Parquet de Pandas"
   ]
  },
  {
   "cell_type": "markdown",
   "id": "2526c440-e793-4879-918b-2046ab53b6a0",
   "metadata": {},
   "source": [
    "## Pandas"
   ]
  },
  {
   "cell_type": "code",
   "execution_count": 1,
   "id": "d0f82eaf-665a-4ac6-932f-ad08b18b4fb6",
   "metadata": {},
   "outputs": [],
   "source": [
    "import pandas as pd"
   ]
  },
  {
   "cell_type": "code",
   "execution_count": 2,
   "id": "2315583f-ab06-4cf4-9a28-f6062f3d2a23",
   "metadata": {},
   "outputs": [
    {
     "name": "stdout",
     "output_type": "stream",
     "text": [
      "CPU times: user 21.6 s, sys: 30 s, total: 51.6 s\n",
      "Wall time: 50.6 s\n"
     ]
    }
   ],
   "source": [
    "%%time \n",
    "\n",
    "df = pd.read_parquet(\"../_datasets/employee_dataset.parquet\")"
   ]
  },
  {
   "cell_type": "markdown",
   "id": "e6a7d880-de7c-41df-a8ab-2cdee3f5f7e1",
   "metadata": {},
   "source": [
    "## fastparquet"
   ]
  },
  {
   "cell_type": "code",
   "execution_count": null,
   "id": "4fbd6ecc-e0d9-440f-9695-50f9c8427c1d",
   "metadata": {},
   "outputs": [],
   "source": [
    "!pip install fastparquet"
   ]
  },
  {
   "cell_type": "code",
   "execution_count": 3,
   "id": "65d4e126-36f6-41dc-8465-120c27ac8b00",
   "metadata": {},
   "outputs": [],
   "source": [
    "from fastparquet import ParquetFile"
   ]
  },
  {
   "cell_type": "code",
   "execution_count": 4,
   "id": "7d2040f5-eef6-4eae-b5f8-79e6a3a0cf33",
   "metadata": {},
   "outputs": [
    {
     "name": "stdout",
     "output_type": "stream",
     "text": [
      "CPU times: user 5.8 s, sys: 4.21 s, total: 10 s\n",
      "Wall time: 12.3 s\n"
     ]
    }
   ],
   "source": [
    "%%time\n",
    "\n",
    "pf = ParquetFile(\"../_datasets/employee_dataset.parquet\")\n",
    "df = pf.to_pandas()"
   ]
  }
 ],
 "metadata": {
  "kernelspec": {
   "display_name": "Python 3 (ipykernel)",
   "language": "python",
   "name": "python3"
  },
  "language_info": {
   "codemirror_mode": {
    "name": "ipython",
    "version": 3
   },
   "file_extension": ".py",
   "mimetype": "text/x-python",
   "name": "python",
   "nbconvert_exporter": "python",
   "pygments_lexer": "ipython3",
   "version": "3.12.4"
  }
 },
 "nbformat": 4,
 "nbformat_minor": 5
}
