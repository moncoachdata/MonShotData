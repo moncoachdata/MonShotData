{
 "cells": [
  {
   "cell_type": "markdown",
   "id": "89ee2930-ca4d-4b0d-a009-a58d5c2733f0",
   "metadata": {},
   "source": [
    "# 3 astuces moins connues pour lire un fichier CSV avec Pandas"
   ]
  },
  {
   "cell_type": "code",
   "execution_count": 2,
   "id": "8da89050-0338-4256-977c-b412dae74d3b",
   "metadata": {},
   "outputs": [],
   "source": [
    "import pandas as pd"
   ]
  },
  {
   "cell_type": "code",
   "execution_count": 3,
   "id": "1a8a3019-b093-4855-8e5d-0f6e35a30300",
   "metadata": {},
   "outputs": [],
   "source": [
    "df = pd.read_csv(\"../_datasets/employee_dataset.csv\")"
   ]
  },
  {
   "cell_type": "code",
   "execution_count": 4,
   "id": "4b530f33-9d3e-462c-8b6a-8ff8b895bbc6",
   "metadata": {},
   "outputs": [
    {
     "data": {
      "text/plain": [
       "(1000, 9)"
      ]
     },
     "execution_count": 4,
     "metadata": {},
     "output_type": "execute_result"
    }
   ],
   "source": [
    "df.shape"
   ]
  },
  {
   "cell_type": "markdown",
   "id": "696707fb-0268-4ce5-bc2b-ae3139f34de8",
   "metadata": {},
   "source": [
    "## Lire les 10 premières lignes"
   ]
  },
  {
   "cell_type": "code",
   "execution_count": 6,
   "id": "5a894a4b-22b3-4ecb-a11d-aa47209402f6",
   "metadata": {},
   "outputs": [],
   "source": [
    "df = pd.read_csv(\"../_datasets/employee_dataset.csv\", nrows = 10)"
   ]
  },
  {
   "cell_type": "code",
   "execution_count": 7,
   "id": "fbaf2ca0-b1d1-44f1-aa70-2d76978d4195",
   "metadata": {},
   "outputs": [
    {
     "data": {
      "text/plain": [
       "(10, 9)"
      ]
     },
     "execution_count": 7,
     "metadata": {},
     "output_type": "execute_result"
    }
   ],
   "source": [
    "df.shape"
   ]
  },
  {
   "cell_type": "code",
   "execution_count": 8,
   "id": "d64e8238-7a42-4246-9386-043abeca4a08",
   "metadata": {},
   "outputs": [
    {
     "data": {
      "text/html": [
       "<div>\n",
       "<style scoped>\n",
       "    .dataframe tbody tr th:only-of-type {\n",
       "        vertical-align: middle;\n",
       "    }\n",
       "\n",
       "    .dataframe tbody tr th {\n",
       "        vertical-align: top;\n",
       "    }\n",
       "\n",
       "    .dataframe thead th {\n",
       "        text-align: right;\n",
       "    }\n",
       "</style>\n",
       "<table border=\"1\" class=\"dataframe\">\n",
       "  <thead>\n",
       "    <tr style=\"text-align: right;\">\n",
       "      <th></th>\n",
       "      <th>Name</th>\n",
       "      <th>Company_Name</th>\n",
       "      <th>Employee_Job_Title</th>\n",
       "      <th>Employee_City</th>\n",
       "      <th>Employee_Country</th>\n",
       "      <th>Employee_Salary</th>\n",
       "      <th>Employment_Status</th>\n",
       "      <th>Employee_Rating</th>\n",
       "      <th>Credits</th>\n",
       "    </tr>\n",
       "  </thead>\n",
       "  <tbody>\n",
       "    <tr>\n",
       "      <th>0</th>\n",
       "      <td>Johnny Maynard</td>\n",
       "      <td>White, Mcclain and Cobb</td>\n",
       "      <td>Equities trader</td>\n",
       "      <td>New Cindychester</td>\n",
       "      <td>Mongolia</td>\n",
       "      <td>764340</td>\n",
       "      <td>Full Time</td>\n",
       "      <td>3.3</td>\n",
       "      <td>1</td>\n",
       "    </tr>\n",
       "    <tr>\n",
       "      <th>1</th>\n",
       "      <td>Michael Williams</td>\n",
       "      <td>Scott Inc</td>\n",
       "      <td>Patent examiner</td>\n",
       "      <td>Ricardomouth</td>\n",
       "      <td>Guinea-Bissau</td>\n",
       "      <td>929230</td>\n",
       "      <td>Full Time</td>\n",
       "      <td>4.6</td>\n",
       "      <td>4</td>\n",
       "    </tr>\n",
       "    <tr>\n",
       "      <th>2</th>\n",
       "      <td>Laura Flynn</td>\n",
       "      <td>Andrade LLC</td>\n",
       "      <td>Equities trader</td>\n",
       "      <td>North Melissafurt</td>\n",
       "      <td>Tonga</td>\n",
       "      <td>606900</td>\n",
       "      <td>Intern</td>\n",
       "      <td>0.3</td>\n",
       "      <td>3</td>\n",
       "    </tr>\n",
       "    <tr>\n",
       "      <th>3</th>\n",
       "      <td>Stefanie Archer</td>\n",
       "      <td>James and Sons</td>\n",
       "      <td>Retail merchandiser</td>\n",
       "      <td>Ricardomouth</td>\n",
       "      <td>San Marino</td>\n",
       "      <td>775380</td>\n",
       "      <td>Full Time</td>\n",
       "      <td>2.8</td>\n",
       "      <td>5</td>\n",
       "    </tr>\n",
       "    <tr>\n",
       "      <th>4</th>\n",
       "      <td>Sierra Garcia</td>\n",
       "      <td>Matthews Inc</td>\n",
       "      <td>Armed forces logistics/support/administrative ...</td>\n",
       "      <td>Whitakerbury</td>\n",
       "      <td>Nepal</td>\n",
       "      <td>944480</td>\n",
       "      <td>Full Time</td>\n",
       "      <td>4.5</td>\n",
       "      <td>4</td>\n",
       "    </tr>\n",
       "    <tr>\n",
       "      <th>5</th>\n",
       "      <td>Donna Miller</td>\n",
       "      <td>Andrade LLC</td>\n",
       "      <td>Garment/textile technologist</td>\n",
       "      <td>West Jamesview</td>\n",
       "      <td>Tonga</td>\n",
       "      <td>428090</td>\n",
       "      <td>Intern</td>\n",
       "      <td>1.1</td>\n",
       "      <td>4</td>\n",
       "    </tr>\n",
       "    <tr>\n",
       "      <th>6</th>\n",
       "      <td>Linda Rodriguez</td>\n",
       "      <td>Marshall-Holloway</td>\n",
       "      <td>Optometrist</td>\n",
       "      <td>Whitakerbury</td>\n",
       "      <td>Portugal</td>\n",
       "      <td>645690</td>\n",
       "      <td>Full Time</td>\n",
       "      <td>4.7</td>\n",
       "      <td>5</td>\n",
       "    </tr>\n",
       "    <tr>\n",
       "      <th>7</th>\n",
       "      <td>Jonathan Gibson</td>\n",
       "      <td>Scott Inc</td>\n",
       "      <td>Naval architect</td>\n",
       "      <td>Whiteside</td>\n",
       "      <td>Libyan Arab Jamahiriya</td>\n",
       "      <td>483210</td>\n",
       "      <td>Intern</td>\n",
       "      <td>3.4</td>\n",
       "      <td>1</td>\n",
       "    </tr>\n",
       "    <tr>\n",
       "      <th>8</th>\n",
       "      <td>Karl Henry</td>\n",
       "      <td>Campos, Reynolds and Mccormick</td>\n",
       "      <td>Radiographer, therapeutic</td>\n",
       "      <td>Whiteside</td>\n",
       "      <td>Kyrgyz Republic</td>\n",
       "      <td>586480</td>\n",
       "      <td>Full Time</td>\n",
       "      <td>3.7</td>\n",
       "      <td>2</td>\n",
       "    </tr>\n",
       "    <tr>\n",
       "      <th>9</th>\n",
       "      <td>Katherine Sims</td>\n",
       "      <td>Baker, Allen and Edwards</td>\n",
       "      <td>Regulatory affairs officer</td>\n",
       "      <td>Kristaburgh</td>\n",
       "      <td>Haiti</td>\n",
       "      <td>712320</td>\n",
       "      <td>Full Time</td>\n",
       "      <td>3.0</td>\n",
       "      <td>2</td>\n",
       "    </tr>\n",
       "  </tbody>\n",
       "</table>\n",
       "</div>"
      ],
      "text/plain": [
       "               Name                    Company_Name  \\\n",
       "0    Johnny Maynard         White, Mcclain and Cobb   \n",
       "1  Michael Williams                       Scott Inc   \n",
       "2       Laura Flynn                     Andrade LLC   \n",
       "3   Stefanie Archer                  James and Sons   \n",
       "4     Sierra Garcia                    Matthews Inc   \n",
       "5      Donna Miller                     Andrade LLC   \n",
       "6   Linda Rodriguez               Marshall-Holloway   \n",
       "7   Jonathan Gibson                       Scott Inc   \n",
       "8        Karl Henry  Campos, Reynolds and Mccormick   \n",
       "9    Katherine Sims        Baker, Allen and Edwards   \n",
       "\n",
       "                                  Employee_Job_Title      Employee_City  \\\n",
       "0                                    Equities trader   New Cindychester   \n",
       "1                                    Patent examiner       Ricardomouth   \n",
       "2                                    Equities trader  North Melissafurt   \n",
       "3                                Retail merchandiser       Ricardomouth   \n",
       "4  Armed forces logistics/support/administrative ...       Whitakerbury   \n",
       "5                       Garment/textile technologist     West Jamesview   \n",
       "6                                        Optometrist       Whitakerbury   \n",
       "7                                    Naval architect          Whiteside   \n",
       "8                          Radiographer, therapeutic          Whiteside   \n",
       "9                         Regulatory affairs officer        Kristaburgh   \n",
       "\n",
       "         Employee_Country  Employee_Salary Employment_Status  Employee_Rating  \\\n",
       "0                Mongolia           764340         Full Time              3.3   \n",
       "1           Guinea-Bissau           929230         Full Time              4.6   \n",
       "2                   Tonga           606900            Intern              0.3   \n",
       "3              San Marino           775380         Full Time              2.8   \n",
       "4                   Nepal           944480         Full Time              4.5   \n",
       "5                   Tonga           428090            Intern              1.1   \n",
       "6                Portugal           645690         Full Time              4.7   \n",
       "7  Libyan Arab Jamahiriya           483210            Intern              3.4   \n",
       "8         Kyrgyz Republic           586480         Full Time              3.7   \n",
       "9                   Haiti           712320         Full Time              3.0   \n",
       "\n",
       "   Credits  \n",
       "0        1  \n",
       "1        4  \n",
       "2        3  \n",
       "3        5  \n",
       "4        4  \n",
       "5        4  \n",
       "6        5  \n",
       "7        1  \n",
       "8        2  \n",
       "9        2  "
      ]
     },
     "execution_count": 8,
     "metadata": {},
     "output_type": "execute_result"
    }
   ],
   "source": [
    "df"
   ]
  },
  {
   "cell_type": "markdown",
   "id": "6043a93d-6e39-4312-910b-159f88ac9d4d",
   "metadata": {},
   "source": [
    "## Lire quelques colonnes"
   ]
  },
  {
   "cell_type": "code",
   "execution_count": 10,
   "id": "92439e8d-e4b3-42da-b7f5-b0dc05dad9a2",
   "metadata": {},
   "outputs": [],
   "source": [
    "df = pd.read_csv(\"../_datasets/employee_dataset.csv\", usecols = [\"Name\", \"Employee_Rating\"])"
   ]
  },
  {
   "cell_type": "code",
   "execution_count": 11,
   "id": "b8a040fc-74f0-40bf-bd6d-b164757e3c1e",
   "metadata": {},
   "outputs": [
    {
     "data": {
      "text/plain": [
       "(1000, 2)"
      ]
     },
     "execution_count": 11,
     "metadata": {},
     "output_type": "execute_result"
    }
   ],
   "source": [
    "df.shape"
   ]
  },
  {
   "cell_type": "code",
   "execution_count": 12,
   "id": "311f5341-2440-45ae-b7e0-346bfbbaf2dc",
   "metadata": {},
   "outputs": [
    {
     "data": {
      "text/html": [
       "<div>\n",
       "<style scoped>\n",
       "    .dataframe tbody tr th:only-of-type {\n",
       "        vertical-align: middle;\n",
       "    }\n",
       "\n",
       "    .dataframe tbody tr th {\n",
       "        vertical-align: top;\n",
       "    }\n",
       "\n",
       "    .dataframe thead th {\n",
       "        text-align: right;\n",
       "    }\n",
       "</style>\n",
       "<table border=\"1\" class=\"dataframe\">\n",
       "  <thead>\n",
       "    <tr style=\"text-align: right;\">\n",
       "      <th></th>\n",
       "      <th>Name</th>\n",
       "      <th>Employee_Rating</th>\n",
       "    </tr>\n",
       "  </thead>\n",
       "  <tbody>\n",
       "    <tr>\n",
       "      <th>0</th>\n",
       "      <td>Johnny Maynard</td>\n",
       "      <td>3.3</td>\n",
       "    </tr>\n",
       "    <tr>\n",
       "      <th>1</th>\n",
       "      <td>Michael Williams</td>\n",
       "      <td>4.6</td>\n",
       "    </tr>\n",
       "    <tr>\n",
       "      <th>2</th>\n",
       "      <td>Laura Flynn</td>\n",
       "      <td>0.3</td>\n",
       "    </tr>\n",
       "    <tr>\n",
       "      <th>3</th>\n",
       "      <td>Stefanie Archer</td>\n",
       "      <td>2.8</td>\n",
       "    </tr>\n",
       "    <tr>\n",
       "      <th>4</th>\n",
       "      <td>Sierra Garcia</td>\n",
       "      <td>4.5</td>\n",
       "    </tr>\n",
       "  </tbody>\n",
       "</table>\n",
       "</div>"
      ],
      "text/plain": [
       "               Name  Employee_Rating\n",
       "0    Johnny Maynard              3.3\n",
       "1  Michael Williams              4.6\n",
       "2       Laura Flynn              0.3\n",
       "3   Stefanie Archer              2.8\n",
       "4     Sierra Garcia              4.5"
      ]
     },
     "execution_count": 12,
     "metadata": {},
     "output_type": "execute_result"
    }
   ],
   "source": [
    "df.head()"
   ]
  },
  {
   "cell_type": "markdown",
   "id": "452a560e-2273-4de9-9ff6-cac70a6537ff",
   "metadata": {},
   "source": [
    "## Sauter les 5 premières lignes"
   ]
  },
  {
   "cell_type": "code",
   "execution_count": 14,
   "id": "96ba4740-5707-4183-859b-663e45c7dcf6",
   "metadata": {},
   "outputs": [],
   "source": [
    "df = pd.read_csv(\"../_datasets/employee_dataset.csv\", skiprows = 5)"
   ]
  },
  {
   "cell_type": "code",
   "execution_count": 15,
   "id": "6bb446d9-69b9-41b6-a873-e8aa59767459",
   "metadata": {},
   "outputs": [
    {
     "data": {
      "text/plain": [
       "(995, 9)"
      ]
     },
     "execution_count": 15,
     "metadata": {},
     "output_type": "execute_result"
    }
   ],
   "source": [
    "df.shape"
   ]
  },
  {
   "cell_type": "markdown",
   "id": "cb97d567-0c59-477e-8d5d-9853d9d4fcc8",
   "metadata": {},
   "source": [
    "## Sauter les 1ère et 5ème lignes"
   ]
  },
  {
   "cell_type": "code",
   "execution_count": 17,
   "id": "404e4383-2642-42e3-8972-77b83e2d32bb",
   "metadata": {},
   "outputs": [],
   "source": [
    "df = pd.read_csv(\"../_datasets/employee_dataset.csv\", skiprows = [1,5])"
   ]
  },
  {
   "cell_type": "code",
   "execution_count": 18,
   "id": "348508c4-03b2-4551-854b-4e696e469b40",
   "metadata": {},
   "outputs": [
    {
     "data": {
      "text/plain": [
       "(998, 9)"
      ]
     },
     "execution_count": 18,
     "metadata": {},
     "output_type": "execute_result"
    }
   ],
   "source": [
    "df.shape"
   ]
  }
 ],
 "metadata": {
  "kernelspec": {
   "display_name": "Python 3 (ipykernel)",
   "language": "python",
   "name": "python3"
  },
  "language_info": {
   "codemirror_mode": {
    "name": "ipython",
    "version": 3
   },
   "file_extension": ".py",
   "mimetype": "text/x-python",
   "name": "python",
   "nbconvert_exporter": "python",
   "pygments_lexer": "ipython3",
   "version": "3.11.7"
  }
 },
 "nbformat": 4,
 "nbformat_minor": 5
}
