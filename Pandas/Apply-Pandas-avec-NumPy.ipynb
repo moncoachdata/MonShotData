{
 "cells": [
  {
   "cell_type": "markdown",
   "id": "1757b26a-4a9f-41f8-91e3-06dbf8e2cf6f",
   "metadata": {},
   "source": [
    "# Accélérer 5x la vitesse de Apply Pandas avec NumPy"
   ]
  },
  {
   "cell_type": "code",
   "execution_count": 2,
   "id": "13e72674-ac23-4f0a-b85d-30ca0dc83dc0",
   "metadata": {},
   "outputs": [],
   "source": [
    "import pandas as pd\n",
    "import numpy as np"
   ]
  },
  {
   "cell_type": "code",
   "execution_count": 3,
   "id": "4566f7df-4ccb-4a18-bfb0-2a64387553ee",
   "metadata": {},
   "outputs": [],
   "source": [
    "df = pd.DataFrame(np.random.randint(1, 100, (10**7, 4)), columns = list(\"ABCD\"))"
   ]
  },
  {
   "cell_type": "code",
   "execution_count": 4,
   "id": "7f4ecd1c-4040-4e82-b6cd-8c6dcb3812c6",
   "metadata": {},
   "outputs": [
    {
     "data": {
      "text/html": [
       "<div>\n",
       "<style scoped>\n",
       "    .dataframe tbody tr th:only-of-type {\n",
       "        vertical-align: middle;\n",
       "    }\n",
       "\n",
       "    .dataframe tbody tr th {\n",
       "        vertical-align: top;\n",
       "    }\n",
       "\n",
       "    .dataframe thead th {\n",
       "        text-align: right;\n",
       "    }\n",
       "</style>\n",
       "<table border=\"1\" class=\"dataframe\">\n",
       "  <thead>\n",
       "    <tr style=\"text-align: right;\">\n",
       "      <th></th>\n",
       "      <th>A</th>\n",
       "      <th>B</th>\n",
       "      <th>C</th>\n",
       "      <th>D</th>\n",
       "    </tr>\n",
       "  </thead>\n",
       "  <tbody>\n",
       "    <tr>\n",
       "      <th>0</th>\n",
       "      <td>22</td>\n",
       "      <td>51</td>\n",
       "      <td>59</td>\n",
       "      <td>14</td>\n",
       "    </tr>\n",
       "    <tr>\n",
       "      <th>1</th>\n",
       "      <td>16</td>\n",
       "      <td>48</td>\n",
       "      <td>96</td>\n",
       "      <td>15</td>\n",
       "    </tr>\n",
       "    <tr>\n",
       "      <th>2</th>\n",
       "      <td>63</td>\n",
       "      <td>22</td>\n",
       "      <td>77</td>\n",
       "      <td>93</td>\n",
       "    </tr>\n",
       "    <tr>\n",
       "      <th>3</th>\n",
       "      <td>9</td>\n",
       "      <td>43</td>\n",
       "      <td>97</td>\n",
       "      <td>53</td>\n",
       "    </tr>\n",
       "    <tr>\n",
       "      <th>4</th>\n",
       "      <td>22</td>\n",
       "      <td>41</td>\n",
       "      <td>7</td>\n",
       "      <td>94</td>\n",
       "    </tr>\n",
       "  </tbody>\n",
       "</table>\n",
       "</div>"
      ],
      "text/plain": [
       "    A   B   C   D\n",
       "0  22  51  59  14\n",
       "1  16  48  96  15\n",
       "2  63  22  77  93\n",
       "3   9  43  97  53\n",
       "4  22  41   7  94"
      ]
     },
     "execution_count": 4,
     "metadata": {},
     "output_type": "execute_result"
    }
   ],
   "source": [
    "df.head()"
   ]
  },
  {
   "cell_type": "code",
   "execution_count": 5,
   "id": "5d485524-9526-4f49-ba5a-94aec2d6b975",
   "metadata": {},
   "outputs": [],
   "source": [
    "def assign_class(num):\n",
    "    if num < 10:\n",
    "        return \"Class A\"\n",
    "    if num < 50:\n",
    "        return \"Class B\"\n",
    "    return \"Class C\""
   ]
  },
  {
   "cell_type": "markdown",
   "id": "1844852d-0613-4cd8-ae17-906f09d040e1",
   "metadata": {},
   "source": [
    "## Apply de Pandas"
   ]
  },
  {
   "cell_type": "code",
   "execution_count": 7,
   "id": "ed3a06b9-a4f4-483a-b642-f2f2e1ac8d62",
   "metadata": {},
   "outputs": [
    {
     "name": "stdout",
     "output_type": "stream",
     "text": [
      "1.53 s ± 44.3 ms per loop (mean ± std. dev. of 7 runs, 1 loop each)\n"
     ]
    }
   ],
   "source": [
    "%%timeit \n",
    "\n",
    "a = df.A.apply(assign_class)"
   ]
  },
  {
   "cell_type": "markdown",
   "id": "cbc33e9b-0647-4fd2-98e7-2abbcec82379",
   "metadata": {},
   "source": [
    "## Select de NumPy"
   ]
  },
  {
   "cell_type": "code",
   "execution_count": 9,
   "id": "6e3ecf52-908a-47f7-b0c2-7d54df58162a",
   "metadata": {},
   "outputs": [
    {
     "name": "stdout",
     "output_type": "stream",
     "text": [
      "323 ms ± 5.68 ms per loop (mean ± std. dev. of 7 runs, 1 loop each)\n"
     ]
    }
   ],
   "source": [
    "%%timeit\n",
    "\n",
    "condlist = [df[\"A\"] < 10, df[\"A\"] < 50]\n",
    "resultlist = [\"Class A\" , \"Class B\" ]\n",
    "\n",
    "np.select(condlist, resultlist, \"Class C\")"
   ]
  }
 ],
 "metadata": {
  "kernelspec": {
   "display_name": "Python 3 (ipykernel)",
   "language": "python",
   "name": "python3"
  },
  "language_info": {
   "codemirror_mode": {
    "name": "ipython",
    "version": 3
   },
   "file_extension": ".py",
   "mimetype": "text/x-python",
   "name": "python",
   "nbconvert_exporter": "python",
   "pygments_lexer": "ipython3",
   "version": "3.11.7"
  }
 },
 "nbformat": 4,
 "nbformat_minor": 5
}
