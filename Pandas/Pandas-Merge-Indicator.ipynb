{
 "cells": [
  {
   "cell_type": "markdown",
   "id": "07617aa0-4907-4918-a5ee-5199d4f7042d",
   "metadata": {},
   "source": [
    "# Fonctionnalité moins connue de la méthode Merge de Pandas"
   ]
  },
  {
   "cell_type": "code",
   "execution_count": 2,
   "id": "6c2457c9-3dd0-4970-80ae-131c8ef2ab1d",
   "metadata": {},
   "outputs": [],
   "source": [
    "import pandas as pd"
   ]
  },
  {
   "cell_type": "code",
   "execution_count": 3,
   "id": "9c60e195-4c20-4346-9973-f99936f21999",
   "metadata": {},
   "outputs": [],
   "source": [
    "name_df = pd.DataFrame({'Cust_ID': [1, 2, 3], \n",
    "                        'Name': [\"Noah\", \"Léa\", \"Summer\"]})\n",
    "\n",
    "rewards_df = pd.DataFrame({'Cust_ID': [2, 3, 4], \n",
    "                           'Rewards': [50, 20, 70]})"
   ]
  },
  {
   "cell_type": "code",
   "execution_count": 4,
   "id": "126301d2-7850-4189-97a7-5975b766df1f",
   "metadata": {},
   "outputs": [],
   "source": [
    "merged_df = name_df.merge(rewards_df, \n",
    "                          on = 'Cust_ID', \n",
    "                          how='outer', \n",
    "                          indicator=True)"
   ]
  },
  {
   "cell_type": "code",
   "execution_count": 5,
   "id": "230f90db-4bae-4a6b-b734-1ea341f856fa",
   "metadata": {},
   "outputs": [
    {
     "data": {
      "text/html": [
       "<div>\n",
       "<style scoped>\n",
       "    .dataframe tbody tr th:only-of-type {\n",
       "        vertical-align: middle;\n",
       "    }\n",
       "\n",
       "    .dataframe tbody tr th {\n",
       "        vertical-align: top;\n",
       "    }\n",
       "\n",
       "    .dataframe thead th {\n",
       "        text-align: right;\n",
       "    }\n",
       "</style>\n",
       "<table border=\"1\" class=\"dataframe\">\n",
       "  <thead>\n",
       "    <tr style=\"text-align: right;\">\n",
       "      <th></th>\n",
       "      <th>Cust_ID</th>\n",
       "      <th>Name</th>\n",
       "      <th>Rewards</th>\n",
       "      <th>_merge</th>\n",
       "    </tr>\n",
       "  </thead>\n",
       "  <tbody>\n",
       "    <tr>\n",
       "      <th>0</th>\n",
       "      <td>1</td>\n",
       "      <td>Noah</td>\n",
       "      <td>NaN</td>\n",
       "      <td>left_only</td>\n",
       "    </tr>\n",
       "    <tr>\n",
       "      <th>1</th>\n",
       "      <td>2</td>\n",
       "      <td>Léa</td>\n",
       "      <td>50.0</td>\n",
       "      <td>both</td>\n",
       "    </tr>\n",
       "    <tr>\n",
       "      <th>2</th>\n",
       "      <td>3</td>\n",
       "      <td>Summer</td>\n",
       "      <td>20.0</td>\n",
       "      <td>both</td>\n",
       "    </tr>\n",
       "    <tr>\n",
       "      <th>3</th>\n",
       "      <td>4</td>\n",
       "      <td>NaN</td>\n",
       "      <td>70.0</td>\n",
       "      <td>right_only</td>\n",
       "    </tr>\n",
       "  </tbody>\n",
       "</table>\n",
       "</div>"
      ],
      "text/plain": [
       "   Cust_ID    Name  Rewards      _merge\n",
       "0        1    Noah      NaN   left_only\n",
       "1        2     Léa     50.0        both\n",
       "2        3  Summer     20.0        both\n",
       "3        4     NaN     70.0  right_only"
      ]
     },
     "execution_count": 5,
     "metadata": {},
     "output_type": "execute_result"
    }
   ],
   "source": [
    "merged_df"
   ]
  }
 ],
 "metadata": {
  "kernelspec": {
   "display_name": "Python 3 (ipykernel)",
   "language": "python",
   "name": "python3"
  },
  "language_info": {
   "codemirror_mode": {
    "name": "ipython",
    "version": 3
   },
   "file_extension": ".py",
   "mimetype": "text/x-python",
   "name": "python",
   "nbconvert_exporter": "python",
   "pygments_lexer": "ipython3",
   "version": "3.11.7"
  }
 },
 "nbformat": 4,
 "nbformat_minor": 5
}
