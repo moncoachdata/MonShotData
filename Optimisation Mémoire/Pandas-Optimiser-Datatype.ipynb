{
 "cells": [
  {
   "cell_type": "markdown",
   "id": "04fa1bda-da1d-4fcc-9d9c-e462a72847ee",
   "metadata": {},
   "source": [
    "# Réduire de 90% l'utilisation de la mémoire d'un DataFrame Pandas"
   ]
  },
  {
   "cell_type": "code",
   "execution_count": 2,
   "id": "8762532a-b93b-4d15-9678-ad121525b127",
   "metadata": {},
   "outputs": [],
   "source": [
    "import pandas as pd\n",
    "import numpy as np"
   ]
  },
  {
   "cell_type": "code",
   "execution_count": 6,
   "id": "dff3f9e8-8828-4b29-8f3f-bf86d05a3654",
   "metadata": {},
   "outputs": [],
   "source": [
    "df = pd.DataFrame(np.random.randint(1, 100 + 1, (10**7, 2)), columns = [\"A\", \"B\"])"
   ]
  },
  {
   "cell_type": "markdown",
   "id": "6138c31d-98d0-4014-9fb1-6daa9d502402",
   "metadata": {},
   "source": [
    "## Avant conversion"
   ]
  },
  {
   "cell_type": "code",
   "execution_count": 9,
   "id": "5094f706-05a1-45ff-8f9a-78b7092224e1",
   "metadata": {},
   "outputs": [
    {
     "name": "stdout",
     "output_type": "stream",
     "text": [
      "<class 'pandas.core.series.Series'>\n",
      "RangeIndex: 10000000 entries, 0 to 9999999\n",
      "Series name: A\n",
      "Non-Null Count     Dtype\n",
      "--------------     -----\n",
      "10000000 non-null  int64\n",
      "dtypes: int64(1)\n",
      "memory usage: 76.3 MB\n"
     ]
    }
   ],
   "source": [
    "df.A.info()"
   ]
  },
  {
   "cell_type": "code",
   "execution_count": 11,
   "id": "2fe2c961-cadb-4030-b165-024932b2b65f",
   "metadata": {},
   "outputs": [
    {
     "data": {
      "text/plain": [
       "(1, 100)"
      ]
     },
     "execution_count": 11,
     "metadata": {},
     "output_type": "execute_result"
    }
   ],
   "source": [
    "df.A.min(), df.A.max()"
   ]
  },
  {
   "cell_type": "markdown",
   "id": "c41fb827-fe11-4be7-8bf4-ba1657bf7f4a",
   "metadata": {},
   "source": [
    "## Après conversion"
   ]
  },
  {
   "cell_type": "code",
   "execution_count": 14,
   "id": "e74cbcf1-12b1-4282-9556-57c375247e79",
   "metadata": {},
   "outputs": [],
   "source": [
    "df[\"A\"] = df.A.astype(np.int8)"
   ]
  },
  {
   "cell_type": "code",
   "execution_count": 16,
   "id": "4afdc8cb-b6b0-413a-95e1-7f5862d1c93d",
   "metadata": {},
   "outputs": [
    {
     "name": "stdout",
     "output_type": "stream",
     "text": [
      "<class 'pandas.core.series.Series'>\n",
      "RangeIndex: 10000000 entries, 0 to 9999999\n",
      "Series name: A\n",
      "Non-Null Count     Dtype\n",
      "--------------     -----\n",
      "10000000 non-null  int8 \n",
      "dtypes: int8(1)\n",
      "memory usage: 9.5 MB\n"
     ]
    }
   ],
   "source": [
    "df.A.info()"
   ]
  }
 ],
 "metadata": {
  "kernelspec": {
   "display_name": "Python 3 (ipykernel)",
   "language": "python",
   "name": "python3"
  },
  "language_info": {
   "codemirror_mode": {
    "name": "ipython",
    "version": 3
   },
   "file_extension": ".py",
   "mimetype": "text/x-python",
   "name": "python",
   "nbconvert_exporter": "python",
   "pygments_lexer": "ipython3",
   "version": "3.11.7"
  }
 },
 "nbformat": 4,
 "nbformat_minor": 5
}
