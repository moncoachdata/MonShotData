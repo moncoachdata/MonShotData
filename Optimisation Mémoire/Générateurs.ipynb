{
 "cells": [
  {
   "cell_type": "markdown",
   "id": "0681ae82-e1aa-4b86-a0e6-8f43d437af56",
   "metadata": {},
   "source": [
    "# Économise de la mémoire avec les générateurs Python"
   ]
  },
  {
   "cell_type": "code",
   "execution_count": 1,
   "id": "c622803c-f86e-4cad-adbd-2b73f7b026e2",
   "metadata": {},
   "outputs": [],
   "source": [
    "from sys import getsizeof"
   ]
  },
  {
   "cell_type": "markdown",
   "id": "7a1844e6-b775-40b9-87b6-a5b2855be648",
   "metadata": {},
   "source": [
    "## Itérable (Liste)"
   ]
  },
  {
   "cell_type": "code",
   "execution_count": 2,
   "id": "4c6e6e8a-252a-41c5-b724-f31a125f727a",
   "metadata": {},
   "outputs": [],
   "source": [
    "# utilise [] pour créer une liste\n",
    "my_list = [i for i in range(10**7)]"
   ]
  },
  {
   "cell_type": "code",
   "execution_count": 3,
   "id": "0904caff-fd29-4f98-b45a-893ee365087f",
   "metadata": {},
   "outputs": [
    {
     "data": {
      "text/plain": [
       "89095160"
      ]
     },
     "execution_count": 3,
     "metadata": {},
     "output_type": "execute_result"
    }
   ],
   "source": [
    "getsizeof(my_list)"
   ]
  },
  {
   "cell_type": "code",
   "execution_count": 4,
   "id": "c06f0abd-432c-4fe4-a408-b4c941acb56f",
   "metadata": {},
   "outputs": [
    {
     "data": {
      "text/plain": [
       "49999995000000"
      ]
     },
     "execution_count": 4,
     "metadata": {},
     "output_type": "execute_result"
    }
   ],
   "source": [
    "sum(my_list)"
   ]
  },
  {
   "cell_type": "code",
   "execution_count": 5,
   "id": "e5d5f2ad-7fd8-46cb-9b2b-f02272a6d514",
   "metadata": {},
   "outputs": [
    {
     "data": {
      "text/plain": [
       "49999995000000"
      ]
     },
     "execution_count": 5,
     "metadata": {},
     "output_type": "execute_result"
    }
   ],
   "source": [
    "sum(my_list)"
   ]
  },
  {
   "cell_type": "markdown",
   "id": "c48eaf68-76a4-4987-a6f8-cd93ee2760a7",
   "metadata": {},
   "source": [
    "## Générateur"
   ]
  },
  {
   "cell_type": "code",
   "execution_count": 6,
   "id": "df488c75-79ee-426b-ae60-ef979fec18e9",
   "metadata": {},
   "outputs": [],
   "source": [
    "# utilise () pour créer un générateur\n",
    "my_gen = (i for i in range(10**7)) "
   ]
  },
  {
   "cell_type": "code",
   "execution_count": 7,
   "id": "5c371823-774e-4074-8b8c-7b3bb9505bcb",
   "metadata": {},
   "outputs": [
    {
     "data": {
      "text/plain": [
       "104"
      ]
     },
     "execution_count": 7,
     "metadata": {},
     "output_type": "execute_result"
    }
   ],
   "source": [
    "getsizeof(my_gen)"
   ]
  },
  {
   "cell_type": "code",
   "execution_count": 8,
   "id": "fc3da814-8c42-4594-adc8-da3114ab0e4f",
   "metadata": {},
   "outputs": [
    {
     "data": {
      "text/plain": [
       "49999995000000"
      ]
     },
     "execution_count": 8,
     "metadata": {},
     "output_type": "execute_result"
    }
   ],
   "source": [
    "sum(my_gen)"
   ]
  },
  {
   "cell_type": "code",
   "execution_count": 9,
   "id": "87cd3a9c-a035-40e8-a5cf-d0847edc0962",
   "metadata": {},
   "outputs": [
    {
     "data": {
      "text/plain": [
       "0"
      ]
     },
     "execution_count": 9,
     "metadata": {},
     "output_type": "execute_result"
    }
   ],
   "source": [
    "sum(my_gen)"
   ]
  }
 ],
 "metadata": {
  "kernelspec": {
   "display_name": "Python 3 (ipykernel)",
   "language": "python",
   "name": "python3"
  },
  "language_info": {
   "codemirror_mode": {
    "name": "ipython",
    "version": 3
   },
   "file_extension": ".py",
   "mimetype": "text/x-python",
   "name": "python",
   "nbconvert_exporter": "python",
   "pygments_lexer": "ipython3",
   "version": "3.10.14"
  }
 },
 "nbformat": 4,
 "nbformat_minor": 5
}
