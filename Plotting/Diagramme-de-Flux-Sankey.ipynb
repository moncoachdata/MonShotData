{
 "cells": [
  {
   "cell_type": "markdown",
   "id": "b10fc517",
   "metadata": {},
   "source": [
    "# Analyser les données de flux avec les diagrammes de Sankey"
   ]
  },
  {
   "cell_type": "code",
   "execution_count": null,
   "id": "fabf2864",
   "metadata": {},
   "outputs": [],
   "source": [
    "!pip install ipysankeywidget"
   ]
  },
  {
   "cell_type": "code",
   "execution_count": 1,
   "id": "330764d5",
   "metadata": {},
   "outputs": [],
   "source": [
    "import pandas as pd\n",
    "import numpy as np\n",
    "\n",
    "from ipysankeywidget import SankeyWidget"
   ]
  },
  {
   "cell_type": "code",
   "execution_count": 2,
   "id": "88c59025",
   "metadata": {},
   "outputs": [],
   "source": [
    "df = pd.DataFrame([[\"New Delhi\", \"Washington\", \"Direct\", 4],\n",
    "                  [\"Melbourne\", \"Washington\", \"Direct\", 4],\n",
    "                  [\"London\", \"New York\", \"1-stop\", 4],\n",
    "                  [\"Dubai\", \"Los Angeles\", \"1-stop\", 5],\n",
    "                  [\"Dubai\", \"Washington\", \"2-stops\", 1],\n",
    "                  [\"London\", \"Washington\", \"Direct\",2], \n",
    "                  [\"Melbourne\", \"Los Angeles\", \"Direct\", 1]], columns = [\"source\", \"target\", \"type\", \"value\"])"
   ]
  },
  {
   "cell_type": "code",
   "execution_count": 3,
   "id": "d757455c",
   "metadata": {},
   "outputs": [
    {
     "data": {
      "text/html": [
       "<div>\n",
       "<style scoped>\n",
       "    .dataframe tbody tr th:only-of-type {\n",
       "        vertical-align: middle;\n",
       "    }\n",
       "\n",
       "    .dataframe tbody tr th {\n",
       "        vertical-align: top;\n",
       "    }\n",
       "\n",
       "    .dataframe thead th {\n",
       "        text-align: right;\n",
       "    }\n",
       "</style>\n",
       "<table border=\"1\" class=\"dataframe\">\n",
       "  <thead>\n",
       "    <tr style=\"text-align: right;\">\n",
       "      <th></th>\n",
       "      <th>source</th>\n",
       "      <th>target</th>\n",
       "      <th>type</th>\n",
       "      <th>value</th>\n",
       "    </tr>\n",
       "  </thead>\n",
       "  <tbody>\n",
       "    <tr>\n",
       "      <th>0</th>\n",
       "      <td>New Delhi</td>\n",
       "      <td>Washington</td>\n",
       "      <td>Direct</td>\n",
       "      <td>4</td>\n",
       "    </tr>\n",
       "    <tr>\n",
       "      <th>1</th>\n",
       "      <td>Melbourne</td>\n",
       "      <td>Washington</td>\n",
       "      <td>Direct</td>\n",
       "      <td>4</td>\n",
       "    </tr>\n",
       "    <tr>\n",
       "      <th>2</th>\n",
       "      <td>London</td>\n",
       "      <td>New York</td>\n",
       "      <td>1-stop</td>\n",
       "      <td>4</td>\n",
       "    </tr>\n",
       "    <tr>\n",
       "      <th>3</th>\n",
       "      <td>Dubai</td>\n",
       "      <td>Los Angeles</td>\n",
       "      <td>1-stop</td>\n",
       "      <td>5</td>\n",
       "    </tr>\n",
       "    <tr>\n",
       "      <th>4</th>\n",
       "      <td>Dubai</td>\n",
       "      <td>Washington</td>\n",
       "      <td>2-stops</td>\n",
       "      <td>1</td>\n",
       "    </tr>\n",
       "    <tr>\n",
       "      <th>5</th>\n",
       "      <td>London</td>\n",
       "      <td>Washington</td>\n",
       "      <td>Direct</td>\n",
       "      <td>2</td>\n",
       "    </tr>\n",
       "    <tr>\n",
       "      <th>6</th>\n",
       "      <td>Melbourne</td>\n",
       "      <td>Los Angeles</td>\n",
       "      <td>Direct</td>\n",
       "      <td>1</td>\n",
       "    </tr>\n",
       "  </tbody>\n",
       "</table>\n",
       "</div>"
      ],
      "text/plain": [
       "      source       target     type  value\n",
       "0  New Delhi   Washington   Direct      4\n",
       "1  Melbourne   Washington   Direct      4\n",
       "2     London     New York   1-stop      4\n",
       "3      Dubai  Los Angeles   1-stop      5\n",
       "4      Dubai   Washington  2-stops      1\n",
       "5     London   Washington   Direct      2\n",
       "6  Melbourne  Los Angeles   Direct      1"
      ]
     },
     "execution_count": 3,
     "metadata": {},
     "output_type": "execute_result"
    }
   ],
   "source": [
    "df"
   ]
  },
  {
   "cell_type": "code",
   "execution_count": 4,
   "id": "441a84f7",
   "metadata": {},
   "outputs": [],
   "source": [
    "sankey = SankeyWidget(links=df.to_dict('records'))"
   ]
  },
  {
   "cell_type": "code",
   "execution_count": 5,
   "id": "bb897488",
   "metadata": {},
   "outputs": [
    {
     "data": {
      "application/vnd.jupyter.widget-view+json": {
       "model_id": "a8da287386264ef5802aa3e5444f7329",
       "version_major": 2,
       "version_minor": 0
      },
      "text/plain": [
       "SankeyWidget(links=[{'source': 'New Delhi', 'target': 'Washington', 'type': 'Direct', 'value': 4}, {'source': …"
      ]
     },
     "execution_count": 5,
     "metadata": {},
     "output_type": "execute_result"
    }
   ],
   "source": [
    "sankey"
   ]
  }
 ],
 "metadata": {
  "kernelspec": {
   "display_name": "Python 3 (ipykernel)",
   "language": "python",
   "name": "python3"
  },
  "language_info": {
   "codemirror_mode": {
    "name": "ipython",
    "version": 3
   },
   "file_extension": ".py",
   "mimetype": "text/x-python",
   "name": "python",
   "nbconvert_exporter": "python",
   "pygments_lexer": "ipython3",
   "version": "3.10.14"
  }
 },
 "nbformat": 4,
 "nbformat_minor": 5
}
