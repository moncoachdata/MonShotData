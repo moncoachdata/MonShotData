{
 "cells": [
  {
   "cell_type": "markdown",
   "id": "87a4da41-41df-4864-8810-a0b7654ad02c",
   "metadata": {},
   "source": [
    "# Une manière élégante d'importer des métriques depuis Sklearn"
   ]
  },
  {
   "cell_type": "markdown",
   "id": "26f20d32-6b20-4fff-8d3d-9dd17f08edcf",
   "metadata": {},
   "source": [
    "## Méthode longue : Importation des modules un par un"
   ]
  },
  {
   "cell_type": "code",
   "execution_count": 1,
   "id": "63536c96-1261-4700-8fbf-4ec675a143d7",
   "metadata": {},
   "outputs": [],
   "source": [
    "from sklearn.metrics import accuracy_score, f1_score, precision_score, recall_score, roc_auc_score"
   ]
  },
  {
   "cell_type": "markdown",
   "id": "d17640b8-b630-4126-a104-baf8809c3705",
   "metadata": {},
   "source": [
    "## Méthode courte : Importation de Scorer"
   ]
  },
  {
   "cell_type": "code",
   "execution_count": 2,
   "id": "db8ac8da-20d6-4173-a32c-a0fef4dc4edd",
   "metadata": {},
   "outputs": [],
   "source": [
    "from sklearn.metrics import get_scorer\n",
    "\n",
    "accuracy = get_scorer(\"accuracy\")\n",
    "\n",
    "## accuracy._score_func(y_true, y_pred)"
   ]
  },
  {
   "cell_type": "code",
   "execution_count": 3,
   "id": "5be24d75-a385-4bab-af12-cd26fcc5d100",
   "metadata": {},
   "outputs": [],
   "source": [
    "from sklearn.metrics import get_scorer\n",
    "\n",
    "precision = get_scorer(\"precision\")\n",
    "\n",
    "## precision._score_func(y_true, y_pred)"
   ]
  }
 ],
 "metadata": {
  "kernelspec": {
   "display_name": "Python 3 (ipykernel)",
   "language": "python",
   "name": "python3"
  },
  "language_info": {
   "codemirror_mode": {
    "name": "ipython",
    "version": 3
   },
   "file_extension": ".py",
   "mimetype": "text/x-python",
   "name": "python",
   "nbconvert_exporter": "python",
   "pygments_lexer": "ipython3",
   "version": "3.10.14"
  }
 },
 "nbformat": 4,
 "nbformat_minor": 5
}
