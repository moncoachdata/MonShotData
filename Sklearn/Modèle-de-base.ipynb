{
 "cells": [
  {
   "cell_type": "markdown",
   "id": "01948fad-08f8-4672-9012-0d77ee21508a",
   "metadata": {},
   "source": [
    "# Construis des modèles de base sans effort avec Sklearn"
   ]
  },
  {
   "cell_type": "code",
   "execution_count": 1,
   "id": "d802737a-ef9a-482f-aa92-d4b7b4122a22",
   "metadata": {},
   "outputs": [],
   "source": [
    "import numpy as np\n",
    "from sklearn.dummy import DummyClassifier"
   ]
  },
  {
   "cell_type": "code",
   "execution_count": 2,
   "id": "6245520b-542b-45a5-bd99-be1aee6fe0aa",
   "metadata": {},
   "outputs": [],
   "source": [
    "X = np.array([-1, 1, 1, 1])\n",
    "y = np.array([0, 1, 1, 1])"
   ]
  },
  {
   "cell_type": "code",
   "execution_count": 3,
   "id": "55f66f42-a529-437a-9412-2be5ddc8f1a6",
   "metadata": {},
   "outputs": [],
   "source": [
    "dummy_clf = DummyClassifier(strategy=\"most_frequent\").fit(X, y)"
   ]
  },
  {
   "cell_type": "code",
   "execution_count": 4,
   "id": "b5b16bc3-4add-45c6-b5d0-41e2fe4c806a",
   "metadata": {},
   "outputs": [
    {
     "data": {
      "text/plain": [
       "array([1, 1, 1, 1])"
      ]
     },
     "execution_count": 4,
     "metadata": {},
     "output_type": "execute_result"
    }
   ],
   "source": [
    "dummy_clf.predict([4, 5, 1, 4])"
   ]
  },
  {
   "cell_type": "code",
   "execution_count": 5,
   "id": "5c6355df-65f1-433a-9e3d-4227a3220068",
   "metadata": {},
   "outputs": [
    {
     "data": {
      "text/plain": [
       "0.5"
      ]
     },
     "execution_count": 5,
     "metadata": {},
     "output_type": "execute_result"
    }
   ],
   "source": [
    "dummy_clf.score([4, 5, 1, 4], [0, 1, 0, 1])"
   ]
  }
 ],
 "metadata": {
  "kernelspec": {
   "display_name": "Python 3 (ipykernel)",
   "language": "python",
   "name": "python3"
  },
  "language_info": {
   "codemirror_mode": {
    "name": "ipython",
    "version": 3
   },
   "file_extension": ".py",
   "mimetype": "text/x-python",
   "name": "python",
   "nbconvert_exporter": "python",
   "pygments_lexer": "ipython3",
   "version": "3.10.14"
  }
 },
 "nbformat": 4,
 "nbformat_minor": 5
}
