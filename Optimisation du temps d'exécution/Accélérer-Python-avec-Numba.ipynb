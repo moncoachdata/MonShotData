{
 "cells": [
  {
   "cell_type": "markdown",
   "id": "c39995b4-15ac-46cb-8b68-3a774ba53780",
   "metadata": {},
   "source": [
    "# Accélérer ton code Python avec une seule ligne"
   ]
  },
  {
   "cell_type": "code",
   "execution_count": null,
   "id": "3f57eb0a-2df8-49d4-bf8f-7519574dfff3",
   "metadata": {},
   "outputs": [],
   "source": [
    "!pip install numba"
   ]
  },
  {
   "cell_type": "code",
   "execution_count": 1,
   "id": "4a5f59b1-0888-4a47-b390-5169db687cce",
   "metadata": {},
   "outputs": [],
   "source": [
    "from numba import njit"
   ]
  },
  {
   "cell_type": "code",
   "execution_count": 2,
   "id": "48e0aaa5-2243-4e79-85c4-e2b9e055ceff",
   "metadata": {},
   "outputs": [],
   "source": [
    "def func_without_numba():\n",
    "    result = []\n",
    "    for i in range(10000):\n",
    "        for j in range(10000):\n",
    "            if (i+j)%11 == 0:\n",
    "                result.append((i,j))"
   ]
  },
  {
   "cell_type": "code",
   "execution_count": 3,
   "id": "580df9da-8723-405b-b890-c44753d1cb14",
   "metadata": {},
   "outputs": [
    {
     "name": "stdout",
     "output_type": "stream",
     "text": [
      "CPU times: user 8.8 s, sys: 617 ms, total: 9.41 s\n",
      "Wall time: 9.87 s\n"
     ]
    }
   ],
   "source": [
    "%time func_without_numba()"
   ]
  },
  {
   "cell_type": "code",
   "execution_count": 4,
   "id": "b83259a4-f9b5-4f2c-935b-2dd60dd4d4b5",
   "metadata": {},
   "outputs": [],
   "source": [
    "@njit\n",
    "def func_with_numba():\n",
    "    result = []\n",
    "    for i in range(10000):\n",
    "        for j in range(10000):\n",
    "            if (i+j)%11 == 0:\n",
    "                result.append((i,j))"
   ]
  },
  {
   "cell_type": "code",
   "execution_count": 5,
   "id": "12833799-3794-4d31-a9b7-3ccf2309f587",
   "metadata": {},
   "outputs": [
    {
     "name": "stdout",
     "output_type": "stream",
     "text": [
      "CPU times: user 581 ms, sys: 178 ms, total: 759 ms\n",
      "Wall time: 1.07 s\n"
     ]
    }
   ],
   "source": [
    "%time func_with_numba()"
   ]
  },
  {
   "cell_type": "code",
   "execution_count": 6,
   "id": "16374114-dbf5-4b1a-b3bf-6c698d963f8a",
   "metadata": {},
   "outputs": [
    {
     "name": "stdout",
     "output_type": "stream",
     "text": [
      "CPU times: user 136 ms, sys: 55.8 ms, total: 192 ms\n",
      "Wall time: 198 ms\n"
     ]
    }
   ],
   "source": [
    "%time func_with_numba() # Encore plus rapide la deuxième fois"
   ]
  }
 ],
 "metadata": {
  "kernelspec": {
   "display_name": "Python 3 (ipykernel)",
   "language": "python",
   "name": "python3"
  },
  "language_info": {
   "codemirror_mode": {
    "name": "ipython",
    "version": 3
   },
   "file_extension": ".py",
   "mimetype": "text/x-python",
   "name": "python",
   "nbconvert_exporter": "python",
   "pygments_lexer": "ipython3",
   "version": "3.12.4"
  }
 },
 "nbformat": 4,
 "nbformat_minor": 5
}
