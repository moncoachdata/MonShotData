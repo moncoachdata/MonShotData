{
 "cells": [
  {
   "cell_type": "markdown",
   "id": "31d71f7d-0ee7-4b25-ade7-dd80e39eda05",
   "metadata": {},
   "source": [
    "# Accélérer NumPy de 20x avec Numexpr"
   ]
  },
  {
   "cell_type": "code",
   "execution_count": null,
   "id": "706511f5-eb73-4e68-b92b-1237ae8ceb66",
   "metadata": {},
   "outputs": [],
   "source": [
    "!pip install numexpr"
   ]
  },
  {
   "cell_type": "code",
   "execution_count": 1,
   "id": "324d5277-3215-4e05-a307-f30d87c25dac",
   "metadata": {},
   "outputs": [],
   "source": [
    "import numpy as np\n",
    "import numexpr as ne"
   ]
  },
  {
   "cell_type": "code",
   "execution_count": 2,
   "id": "33e1fbeb-1200-40e9-b193-8a30b1647f19",
   "metadata": {},
   "outputs": [],
   "source": [
    "a = np.random.random(10**7) \n",
    "b = np.random.random(10**7)"
   ]
  },
  {
   "cell_type": "code",
   "execution_count": 3,
   "id": "90a0001d-3a67-4a0e-93d1-39693c577193",
   "metadata": {},
   "outputs": [
    {
     "name": "stdout",
     "output_type": "stream",
     "text": [
      "171 ms ± 7.09 ms per loop (mean ± std. dev. of 7 runs, 1 loop each)\n"
     ]
    }
   ],
   "source": [
    "%timeit np.cos(a) + np.sin(b)"
   ]
  },
  {
   "cell_type": "code",
   "execution_count": 4,
   "id": "41a27e3c-46eb-45bb-9b37-dffe9bc66072",
   "metadata": {},
   "outputs": [
    {
     "name": "stdout",
     "output_type": "stream",
     "text": [
      "42.4 ms ± 2.33 ms per loop (mean ± std. dev. of 7 runs, 10 loops each)\n"
     ]
    }
   ],
   "source": [
    "%timeit ne.evaluate(\"cos(a) + sin(b)\")"
   ]
  }
 ],
 "metadata": {
  "kernelspec": {
   "display_name": "Python 3 (ipykernel)",
   "language": "python",
   "name": "python3"
  },
  "language_info": {
   "codemirror_mode": {
    "name": "ipython",
    "version": 3
   },
   "file_extension": ".py",
   "mimetype": "text/x-python",
   "name": "python",
   "nbconvert_exporter": "python",
   "pygments_lexer": "ipython3",
   "version": "3.11.7"
  }
 },
 "nbformat": 4,
 "nbformat_minor": 5
}
