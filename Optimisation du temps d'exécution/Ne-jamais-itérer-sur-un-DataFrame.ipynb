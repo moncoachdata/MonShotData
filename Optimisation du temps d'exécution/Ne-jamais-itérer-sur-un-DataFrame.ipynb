{
 "cells": [
  {
   "cell_type": "markdown",
   "id": "573871e8-95b9-40fd-be05-b69f46c24e6d",
   "metadata": {},
   "source": [
    "# Pourquoi il est généralement conseillé de ne jamais itérer sur un DataFrame ?"
   ]
  },
  {
   "cell_type": "code",
   "execution_count": 1,
   "id": "d4a5f770-da56-44b8-bb39-0524ba22c95c",
   "metadata": {},
   "outputs": [],
   "source": [
    "import pandas as pd"
   ]
  },
  {
   "cell_type": "code",
   "execution_count": 2,
   "id": "5dae027d-6a67-4ea8-87ca-a1487b542ff5",
   "metadata": {},
   "outputs": [],
   "source": [
    "df = pd.read_parquet(\"employee_dataset.parquet\") # ../_datasets/"
   ]
  },
  {
   "cell_type": "code",
   "execution_count": 3,
   "id": "8c12a17a-7807-420a-ba5b-5255fa3d0d38",
   "metadata": {},
   "outputs": [
    {
     "data": {
      "text/plain": [
       "(32768000, 9)"
      ]
     },
     "execution_count": 3,
     "metadata": {},
     "output_type": "execute_result"
    }
   ],
   "source": [
    "df.shape"
   ]
  },
  {
   "cell_type": "markdown",
   "id": "aa4f3cb8-1f75-411f-800f-27aba8c2b8b6",
   "metadata": {},
   "source": [
    "### Accéder à une colonne"
   ]
  },
  {
   "cell_type": "code",
   "execution_count": 8,
   "id": "9d5ce8be-dc53-47a7-b30e-9ef16d47cb33",
   "metadata": {},
   "outputs": [
    {
     "name": "stdout",
     "output_type": "stream",
     "text": [
      "6.2 μs ± 2.46 μs per loop (mean ± std. dev. of 7 runs, 10,000 loops each)\n"
     ]
    }
   ],
   "source": [
    "%timeit -n10000 -r7 df[\"Name\"]"
   ]
  },
  {
   "cell_type": "markdown",
   "id": "1250291c-fca0-4eac-a284-cdc26255d3d4",
   "metadata": {},
   "source": [
    "### Accéder à une ligne"
   ]
  },
  {
   "cell_type": "code",
   "execution_count": 9,
   "id": "1f2bc7db-55bf-44da-a86b-da6a5a0f97b1",
   "metadata": {},
   "outputs": [
    {
     "name": "stdout",
     "output_type": "stream",
     "text": [
      "183 μs ± 42.1 μs per loop (mean ± std. dev. of 7 runs, 10,000 loops each)\n"
     ]
    }
   ],
   "source": [
    "%timeit -n10000 -r7 df.iloc[0]"
   ]
  }
 ],
 "metadata": {
  "kernelspec": {
   "display_name": "Python 3 (ipykernel)",
   "language": "python",
   "name": "python3"
  },
  "language_info": {
   "codemirror_mode": {
    "name": "ipython",
    "version": 3
   },
   "file_extension": ".py",
   "mimetype": "text/x-python",
   "name": "python",
   "nbconvert_exporter": "python",
   "pygments_lexer": "ipython3",
   "version": "3.12.4"
  }
 },
 "nbformat": 4,
 "nbformat_minor": 5
}
