{
 "cells": [
  {
   "cell_type": "markdown",
   "id": "62bb25ec-4a21-4fd0-bb1f-556ae428f0f3",
   "metadata": {},
   "source": [
    "# Ne crée pas de colonnes conditionnelles avec Apply de Pandas"
   ]
  },
  {
   "cell_type": "code",
   "execution_count": 1,
   "id": "5cd576e9-7fd9-4115-9093-0309c2812597",
   "metadata": {},
   "outputs": [],
   "source": [
    "import pandas as pd\n",
    "import numpy as np"
   ]
  },
  {
   "cell_type": "code",
   "execution_count": 2,
   "id": "0b6af41e-ebba-4ee5-bb61-1e12da616007",
   "metadata": {},
   "outputs": [],
   "source": [
    "def assign_class(num):\n",
    "    \n",
    "    if num > 0.5:\n",
    "        return \"Classe A\"\n",
    "    return \"Classe B\""
   ]
  },
  {
   "cell_type": "code",
   "execution_count": 3,
   "id": "5b76cbe1-2332-46c3-8e7c-14511ca21253",
   "metadata": {},
   "outputs": [],
   "source": [
    "df = pd.DataFrame(np.random.random((10**7,1)).round(2),\n",
    "                  columns = [\"col1\"])"
   ]
  },
  {
   "cell_type": "code",
   "execution_count": 4,
   "id": "4cefc1c4-198f-4a1c-bed0-335ff8b62c78",
   "metadata": {},
   "outputs": [
    {
     "data": {
      "text/html": [
       "<div>\n",
       "<style scoped>\n",
       "    .dataframe tbody tr th:only-of-type {\n",
       "        vertical-align: middle;\n",
       "    }\n",
       "\n",
       "    .dataframe tbody tr th {\n",
       "        vertical-align: top;\n",
       "    }\n",
       "\n",
       "    .dataframe thead th {\n",
       "        text-align: right;\n",
       "    }\n",
       "</style>\n",
       "<table border=\"1\" class=\"dataframe\">\n",
       "  <thead>\n",
       "    <tr style=\"text-align: right;\">\n",
       "      <th></th>\n",
       "      <th>col1</th>\n",
       "    </tr>\n",
       "  </thead>\n",
       "  <tbody>\n",
       "    <tr>\n",
       "      <th>0</th>\n",
       "      <td>0.95</td>\n",
       "    </tr>\n",
       "    <tr>\n",
       "      <th>1</th>\n",
       "      <td>0.86</td>\n",
       "    </tr>\n",
       "    <tr>\n",
       "      <th>2</th>\n",
       "      <td>0.39</td>\n",
       "    </tr>\n",
       "    <tr>\n",
       "      <th>3</th>\n",
       "      <td>1.00</td>\n",
       "    </tr>\n",
       "    <tr>\n",
       "      <th>4</th>\n",
       "      <td>0.04</td>\n",
       "    </tr>\n",
       "    <tr>\n",
       "      <th>...</th>\n",
       "      <td>...</td>\n",
       "    </tr>\n",
       "    <tr>\n",
       "      <th>9999995</th>\n",
       "      <td>0.30</td>\n",
       "    </tr>\n",
       "    <tr>\n",
       "      <th>9999996</th>\n",
       "      <td>0.16</td>\n",
       "    </tr>\n",
       "    <tr>\n",
       "      <th>9999997</th>\n",
       "      <td>0.03</td>\n",
       "    </tr>\n",
       "    <tr>\n",
       "      <th>9999998</th>\n",
       "      <td>0.43</td>\n",
       "    </tr>\n",
       "    <tr>\n",
       "      <th>9999999</th>\n",
       "      <td>0.01</td>\n",
       "    </tr>\n",
       "  </tbody>\n",
       "</table>\n",
       "<p>10000000 rows × 1 columns</p>\n",
       "</div>"
      ],
      "text/plain": [
       "         col1\n",
       "0        0.95\n",
       "1        0.86\n",
       "2        0.39\n",
       "3        1.00\n",
       "4        0.04\n",
       "...       ...\n",
       "9999995  0.30\n",
       "9999996  0.16\n",
       "9999997  0.03\n",
       "9999998  0.43\n",
       "9999999  0.01\n",
       "\n",
       "[10000000 rows x 1 columns]"
      ]
     },
     "execution_count": 4,
     "metadata": {},
     "output_type": "execute_result"
    }
   ],
   "source": [
    "df"
   ]
  },
  {
   "cell_type": "code",
   "execution_count": 5,
   "id": "8eba9890-1da4-4a5b-9c8e-4c6d0edef34d",
   "metadata": {},
   "outputs": [
    {
     "name": "stdout",
     "output_type": "stream",
     "text": [
      "1.94 s ± 22.1 ms per loop (mean ± std. dev. of 7 runs, 1 loop each)\n"
     ]
    }
   ],
   "source": [
    "%timeit a = df.col1.apply(assign_class)"
   ]
  },
  {
   "cell_type": "code",
   "execution_count": 6,
   "id": "761351a9-5b41-4365-809e-cc8b7ee02d63",
   "metadata": {},
   "outputs": [
    {
     "name": "stdout",
     "output_type": "stream",
     "text": [
      "247 ms ± 3.15 ms per loop (mean ± std. dev. of 7 runs, 1 loop each)\n"
     ]
    }
   ],
   "source": [
    "%timeit a = np.where(df[\"col1\"] > 0.5, \n",
    "                     \"Classe A\", \n",
    "                     \"Classe B\")"
   ]
  }
 ],
 "metadata": {
  "kernelspec": {
   "display_name": "Python 3 (ipykernel)",
   "language": "python",
   "name": "python3"
  },
  "language_info": {
   "codemirror_mode": {
    "name": "ipython",
    "version": 3
   },
   "file_extension": ".py",
   "mimetype": "text/x-python",
   "name": "python",
   "nbconvert_exporter": "python",
   "pygments_lexer": "ipython3",
   "version": "3.10.14"
  }
 },
 "nbformat": 4,
 "nbformat_minor": 5
}
