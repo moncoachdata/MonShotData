{
 "cells": [
  {
   "cell_type": "markdown",
   "id": "1db655b0",
   "metadata": {},
   "source": [
    "# Paralléliser Apply() de Pandas avec Swifter"
   ]
  },
  {
   "cell_type": "code",
   "execution_count": null,
   "id": "9f0cc467",
   "metadata": {},
   "outputs": [],
   "source": [
    "!pip install swifter"
   ]
  },
  {
   "cell_type": "code",
   "execution_count": 1,
   "id": "d7e8c7a4",
   "metadata": {},
   "outputs": [],
   "source": [
    "import pandas as pd\n",
    "import swifter\n",
    "import numpy as np\n",
    "from time import time"
   ]
  },
  {
   "cell_type": "code",
   "execution_count": 2,
   "id": "94adcd28",
   "metadata": {},
   "outputs": [
    {
     "data": {
      "text/html": [
       "<div>\n",
       "<style scoped>\n",
       "    .dataframe tbody tr th:only-of-type {\n",
       "        vertical-align: middle;\n",
       "    }\n",
       "\n",
       "    .dataframe tbody tr th {\n",
       "        vertical-align: top;\n",
       "    }\n",
       "\n",
       "    .dataframe thead th {\n",
       "        text-align: right;\n",
       "    }\n",
       "</style>\n",
       "<table border=\"1\" class=\"dataframe\">\n",
       "  <thead>\n",
       "    <tr style=\"text-align: right;\">\n",
       "      <th></th>\n",
       "      <th>A</th>\n",
       "      <th>B</th>\n",
       "      <th>C</th>\n",
       "      <th>D</th>\n",
       "    </tr>\n",
       "  </thead>\n",
       "  <tbody>\n",
       "    <tr>\n",
       "      <th>0</th>\n",
       "      <td>168331</td>\n",
       "      <td>594494</td>\n",
       "      <td>433741</td>\n",
       "      <td>203347</td>\n",
       "    </tr>\n",
       "    <tr>\n",
       "      <th>1</th>\n",
       "      <td>450645</td>\n",
       "      <td>147705</td>\n",
       "      <td>806442</td>\n",
       "      <td>936046</td>\n",
       "    </tr>\n",
       "    <tr>\n",
       "      <th>2</th>\n",
       "      <td>659035</td>\n",
       "      <td>749487</td>\n",
       "      <td>75621</td>\n",
       "      <td>615087</td>\n",
       "    </tr>\n",
       "    <tr>\n",
       "      <th>3</th>\n",
       "      <td>703543</td>\n",
       "      <td>167735</td>\n",
       "      <td>8582</td>\n",
       "      <td>837173</td>\n",
       "    </tr>\n",
       "    <tr>\n",
       "      <th>4</th>\n",
       "      <td>816401</td>\n",
       "      <td>689659</td>\n",
       "      <td>551158</td>\n",
       "      <td>298297</td>\n",
       "    </tr>\n",
       "  </tbody>\n",
       "</table>\n",
       "</div>"
      ],
      "text/plain": [
       "        A       B       C       D\n",
       "0  168331  594494  433741  203347\n",
       "1  450645  147705  806442  936046\n",
       "2  659035  749487   75621  615087\n",
       "3  703543  167735    8582  837173\n",
       "4  816401  689659  551158  298297"
      ]
     },
     "execution_count": 2,
     "metadata": {},
     "output_type": "execute_result"
    }
   ],
   "source": [
    "df = pd.DataFrame(np.random.randint(1, 10**6, size = (10**7, 4)), columns = list(\"ABCD\"))\n",
    "df.head()"
   ]
  },
  {
   "cell_type": "code",
   "execution_count": 3,
   "id": "bc839fbf",
   "metadata": {},
   "outputs": [],
   "source": [
    "def sum_row(row):\n",
    "    return sum(row)"
   ]
  },
  {
   "cell_type": "markdown",
   "id": "b016adb2",
   "metadata": {},
   "source": [
    "## Apply() de Pandas"
   ]
  },
  {
   "cell_type": "code",
   "execution_count": 4,
   "id": "42ce3cc6",
   "metadata": {},
   "outputs": [
    {
     "name": "stdout",
     "output_type": "stream",
     "text": [
      "59.674448013305664\n"
     ]
    }
   ],
   "source": [
    "start = time()\n",
    "a = df.apply(sum_row, axis = 1) \n",
    "print(time() - start)"
   ]
  },
  {
   "cell_type": "markdown",
   "id": "3681f11c",
   "metadata": {},
   "source": [
    "## Apply() avec Swifter"
   ]
  },
  {
   "cell_type": "code",
   "execution_count": 5,
   "id": "b6044fc2",
   "metadata": {},
   "outputs": [
    {
     "data": {
      "application/vnd.jupyter.widget-view+json": {
       "model_id": "c9ad1626bc464153bc230fa0d18b4dbb",
       "version_major": 2,
       "version_minor": 0
      },
      "text/plain": [
       "Dask Apply:   0%|          | 0/17 [00:00<?, ?it/s]"
      ]
     },
     "metadata": {},
     "output_type": "display_data"
    },
    {
     "name": "stdout",
     "output_type": "stream",
     "text": [
      "37.69567584991455\n"
     ]
    }
   ],
   "source": [
    "start = time()\n",
    "a = df.swifter.apply(sum_row, axis = 1) \n",
    "print(time() - start)"
   ]
  }
 ],
 "metadata": {
  "kernelspec": {
   "display_name": "Python 3 (ipykernel)",
   "language": "python",
   "name": "python3"
  },
  "language_info": {
   "codemirror_mode": {
    "name": "ipython",
    "version": 3
   },
   "file_extension": ".py",
   "mimetype": "text/x-python",
   "name": "python",
   "nbconvert_exporter": "python",
   "pygments_lexer": "ipython3",
   "version": "3.10.14"
  }
 },
 "nbformat": 4,
 "nbformat_minor": 5
}
