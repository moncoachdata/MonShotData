{
 "cells": [
  {
   "cell_type": "markdown",
   "id": "c162cf82",
   "metadata": {},
   "source": [
    "# La vectorisation ne garantit pas toujours de meilleures performances"
   ]
  },
  {
   "cell_type": "code",
   "execution_count": 1,
   "id": "b9fc20d1",
   "metadata": {},
   "outputs": [],
   "source": [
    "import pandas as pd\n",
    "import time"
   ]
  },
  {
   "cell_type": "markdown",
   "id": "269a618b",
   "metadata": {},
   "source": [
    "## Génération de données fictives\n",
    "\n",
    "Voir : https://www.monshotdata.com/p/generer-donnees-factices"
   ]
  },
  {
   "cell_type": "code",
   "execution_count": 2,
   "id": "701db4b5",
   "metadata": {},
   "outputs": [],
   "source": [
    "fake_names = []"
   ]
  },
  {
   "cell_type": "code",
   "execution_count": 3,
   "id": "47eea8ac",
   "metadata": {},
   "outputs": [],
   "source": [
    "from faker import Faker\n",
    "fake = Faker()\n",
    "\n",
    "for _ in range(1000000):\n",
    "    fake_names.append(fake.name())"
   ]
  },
  {
   "cell_type": "code",
   "execution_count": 4,
   "id": "590caf75",
   "metadata": {},
   "outputs": [],
   "source": [
    "df = pd.DataFrame(fake_names, columns=['Name'])"
   ]
  },
  {
   "cell_type": "code",
   "execution_count": 5,
   "id": "047e5e2e",
   "metadata": {},
   "outputs": [
    {
     "data": {
      "text/html": [
       "<div>\n",
       "<style scoped>\n",
       "    .dataframe tbody tr th:only-of-type {\n",
       "        vertical-align: middle;\n",
       "    }\n",
       "\n",
       "    .dataframe tbody tr th {\n",
       "        vertical-align: top;\n",
       "    }\n",
       "\n",
       "    .dataframe thead th {\n",
       "        text-align: right;\n",
       "    }\n",
       "</style>\n",
       "<table border=\"1\" class=\"dataframe\">\n",
       "  <thead>\n",
       "    <tr style=\"text-align: right;\">\n",
       "      <th></th>\n",
       "      <th>Name</th>\n",
       "    </tr>\n",
       "  </thead>\n",
       "  <tbody>\n",
       "    <tr>\n",
       "      <th>0</th>\n",
       "      <td>Luis Camacho</td>\n",
       "    </tr>\n",
       "    <tr>\n",
       "      <th>1</th>\n",
       "      <td>Derek Perez</td>\n",
       "    </tr>\n",
       "    <tr>\n",
       "      <th>2</th>\n",
       "      <td>Thomas Davis</td>\n",
       "    </tr>\n",
       "    <tr>\n",
       "      <th>3</th>\n",
       "      <td>James Alexander</td>\n",
       "    </tr>\n",
       "    <tr>\n",
       "      <th>4</th>\n",
       "      <td>Nicholas Cervantes</td>\n",
       "    </tr>\n",
       "  </tbody>\n",
       "</table>\n",
       "</div>"
      ],
      "text/plain": [
       "                 Name\n",
       "0        Luis Camacho\n",
       "1         Derek Perez\n",
       "2        Thomas Davis\n",
       "3     James Alexander\n",
       "4  Nicholas Cervantes"
      ]
     },
     "execution_count": 5,
     "metadata": {},
     "output_type": "execute_result"
    }
   ],
   "source": [
    "df.head()"
   ]
  },
  {
   "cell_type": "markdown",
   "id": "704823ed",
   "metadata": {},
   "source": [
    "## Vectorisation"
   ]
  },
  {
   "cell_type": "code",
   "execution_count": 6,
   "id": "9be34557",
   "metadata": {},
   "outputs": [
    {
     "name": "stdout",
     "output_type": "stream",
     "text": [
      "CPU times: user 2.17 s, sys: 558 ms, total: 2.72 s\n",
      "Wall time: 4.38 s\n"
     ]
    },
    {
     "data": {
      "text/plain": [
       "0               [Luis, Camacho]\n",
       "1                [Derek, Perez]\n",
       "2               [Thomas, Davis]\n",
       "3            [James, Alexander]\n",
       "4         [Nicholas, Cervantes]\n",
       "                  ...          \n",
       "999995           [Megan, White]\n",
       "999996         [Carol, Pearson]\n",
       "999997        [Michelle, Frost]\n",
       "999998         [Laura, Ferrell]\n",
       "999999           [Michael, Lee]\n",
       "Name: Name, Length: 1000000, dtype: object"
      ]
     },
     "execution_count": 6,
     "metadata": {},
     "output_type": "execute_result"
    }
   ],
   "source": [
    "%%time \n",
    "df.Name.str.split()"
   ]
  },
  {
   "cell_type": "markdown",
   "id": "db86646a",
   "metadata": {},
   "source": [
    "## Apply"
   ]
  },
  {
   "cell_type": "code",
   "execution_count": 7,
   "id": "d5e2741a",
   "metadata": {},
   "outputs": [],
   "source": [
    "def name_split(s):\n",
    "    return s.split()"
   ]
  },
  {
   "cell_type": "code",
   "execution_count": 8,
   "id": "f094d377",
   "metadata": {},
   "outputs": [
    {
     "name": "stdout",
     "output_type": "stream",
     "text": [
      "CPU times: user 1.42 s, sys: 215 ms, total: 1.64 s\n",
      "Wall time: 2.06 s\n"
     ]
    },
    {
     "data": {
      "text/plain": [
       "0               [Luis, Camacho]\n",
       "1                [Derek, Perez]\n",
       "2               [Thomas, Davis]\n",
       "3            [James, Alexander]\n",
       "4         [Nicholas, Cervantes]\n",
       "                  ...          \n",
       "999995           [Megan, White]\n",
       "999996         [Carol, Pearson]\n",
       "999997        [Michelle, Frost]\n",
       "999998         [Laura, Ferrell]\n",
       "999999           [Michael, Lee]\n",
       "Name: Name, Length: 1000000, dtype: object"
      ]
     },
     "execution_count": 8,
     "metadata": {},
     "output_type": "execute_result"
    }
   ],
   "source": [
    "%%time\n",
    "df.Name.apply(name_split)"
   ]
  }
 ],
 "metadata": {
  "kernelspec": {
   "display_name": "Python 3 (ipykernel)",
   "language": "python",
   "name": "python3"
  },
  "language_info": {
   "codemirror_mode": {
    "name": "ipython",
    "version": 3
   },
   "file_extension": ".py",
   "mimetype": "text/x-python",
   "name": "python",
   "nbconvert_exporter": "python",
   "pygments_lexer": "ipython3",
   "version": "3.10.14"
  }
 },
 "nbformat": 4,
 "nbformat_minor": 5
}
