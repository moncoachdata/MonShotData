{
 "cells": [
  {
   "cell_type": "markdown",
   "id": "0e078107-b738-4e63-ade2-2ffa174e6dd8",
   "metadata": {},
   "source": [
    "# Utilise des objets Python personnalisés dans un contexte booléen\n",
    "\n",
    "[Lien du post MonShotData](https://www.monshotdata.com/p/utilise-des-objets-python-personnalises-dans-un-contexte-booleen)"
   ]
  },
  {
   "cell_type": "markdown",
   "id": "a76d74bd-51b9-4adc-9f77-8cd2b8e5a817",
   "metadata": {},
   "source": [
    "## Sans \\_\\_bool\\_\\_"
   ]
  },
  {
   "cell_type": "code",
   "execution_count": 1,
   "id": "3dff2ddf-ba73-44c0-b87b-e745cf9a4b59",
   "metadata": {},
   "outputs": [
    {
     "name": "stdout",
     "output_type": "stream",
     "text": [
      "Le panier n'est pas vide\n"
     ]
    }
   ],
   "source": [
    "class Cart:\n",
    "    def __init__(self):\n",
    "        self.items = []\n",
    "        \n",
    "my_cart = Cart()\n",
    "\n",
    "if my_cart:\n",
    "     print(\"Le panier n'est pas vide\")\n",
    "else:\n",
    "     print(\"Panier vide\")"
   ]
  },
  {
   "cell_type": "markdown",
   "id": "88fd11fb-cc35-43f9-ad97-eafd665ae1dd",
   "metadata": {},
   "source": [
    "## Avec \\_\\_bool\\_\\_"
   ]
  },
  {
   "cell_type": "code",
   "execution_count": 2,
   "id": "4f77b532-90b9-4575-8be7-2e078b071d35",
   "metadata": {},
   "outputs": [
    {
     "name": "stdout",
     "output_type": "stream",
     "text": [
      "Panier vide\n"
     ]
    }
   ],
   "source": [
    "class Cart:\n",
    "    def __init__(self):\n",
    "        self.items = []\n",
    "    \n",
    "    def __bool__(self):\n",
    "        return len(self.items)>0\n",
    "        \n",
    "my_cart = Cart()\n",
    "\n",
    "if my_cart:\n",
    "     print(\"Le panier n'est pas vide\")\n",
    "else:\n",
    "     print(\"Panier vide\")"
   ]
  }
 ],
 "metadata": {
  "kernelspec": {
   "display_name": "Python 3 (ipykernel)",
   "language": "python",
   "name": "python3"
  },
  "language_info": {
   "codemirror_mode": {
    "name": "ipython",
    "version": 3
   },
   "file_extension": ".py",
   "mimetype": "text/x-python",
   "name": "python",
   "nbconvert_exporter": "python",
   "pygments_lexer": "ipython3",
   "version": "3.12.4"
  }
 },
 "nbformat": 4,
 "nbformat_minor": 5
}
