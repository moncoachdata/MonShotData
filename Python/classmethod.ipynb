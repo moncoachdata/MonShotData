{
 "cells": [
  {
   "cell_type": "markdown",
   "id": "04611d67-8ff6-4a91-aa83-f736e5ee986f",
   "metadata": {},
   "source": [
    "# Que sont les méthodes de classe et quand les utiliser ?"
   ]
  },
  {
   "cell_type": "code",
   "execution_count": 2,
   "id": "defa167b-f76d-4271-8e20-051b6ede3023",
   "metadata": {},
   "outputs": [],
   "source": [
    "class Rectangle:\n",
    "    def __init__(self, width, height):\n",
    "        self.width = width\n",
    "        self.height = height\n",
    "\n",
    "    @classmethod\n",
    "    def from_square(cls, size):\n",
    "        return cls(size, size)"
   ]
  },
  {
   "cell_type": "code",
   "execution_count": 4,
   "id": "a5858363-a502-4371-b59f-e5cf90d51cfa",
   "metadata": {},
   "outputs": [],
   "source": [
    "rectangle = Rectangle.from_square(5)"
   ]
  },
  {
   "cell_type": "code",
   "execution_count": 6,
   "id": "8a6172f0-0d9d-4aab-b329-648e88a93526",
   "metadata": {},
   "outputs": [
    {
     "data": {
      "text/plain": [
       "5"
      ]
     },
     "execution_count": 6,
     "metadata": {},
     "output_type": "execute_result"
    }
   ],
   "source": [
    "rectangle.width"
   ]
  },
  {
   "cell_type": "code",
   "execution_count": 8,
   "id": "9f53f345-ebdb-4b8e-893c-792a8b0833eb",
   "metadata": {},
   "outputs": [
    {
     "data": {
      "text/plain": [
       "5"
      ]
     },
     "execution_count": 8,
     "metadata": {},
     "output_type": "execute_result"
    }
   ],
   "source": [
    "rectangle.height"
   ]
  }
 ],
 "metadata": {
  "kernelspec": {
   "display_name": "Python 3 (ipykernel)",
   "language": "python",
   "name": "python3"
  },
  "language_info": {
   "codemirror_mode": {
    "name": "ipython",
    "version": 3
   },
   "file_extension": ".py",
   "mimetype": "text/x-python",
   "name": "python",
   "nbconvert_exporter": "python",
   "pygments_lexer": "ipython3",
   "version": "3.11.7"
  }
 },
 "nbformat": 4,
 "nbformat_minor": 5
}
