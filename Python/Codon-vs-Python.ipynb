{
 "cells": [
  {
   "cell_type": "markdown",
   "id": "4b707b1d-025a-4724-b833-570f5868ecde",
   "metadata": {},
   "source": [
    "# Probablement le moyen le plus rapide d'exécuter ton code Python"
   ]
  },
  {
   "cell_type": "code",
   "execution_count": 1,
   "id": "221ac6e6-3304-472e-b905-68b59c36747f",
   "metadata": {},
   "outputs": [
    {
     "name": "stdout",
     "output_type": "stream",
     "text": [
      "fib =  165580141\n",
      "durée totale de fib(40) :  19.109493017196655\n",
      "fib =  1346269\n",
      "durée totale de fib(30) :  0.15625405311584473\n",
      "pi =  3.141592643589326\n",
      "durée totale de pi :  12.97996973991394\n"
     ]
    }
   ],
   "source": [
    "!python codon_expt.py"
   ]
  },
  {
   "cell_type": "code",
   "execution_count": 2,
   "id": "2e881509-4d80-4661-99a6-d5d79f6fd11f",
   "metadata": {},
   "outputs": [
    {
     "name": "stdout",
     "output_type": "stream",
     "text": [
      "fib =  165580141\n",
      "durée totale de fib(40) :  0.6363\n",
      "fib =  1346269\n",
      "durée totale de fib(30) :  0.00495505\n",
      "pi =  3.14159\n",
      "durée totale de pi :  0.264361\n"
     ]
    }
   ],
   "source": [
    "!codon run codon_expt.py"
   ]
  }
 ],
 "metadata": {
  "kernelspec": {
   "display_name": "Python 3 (ipykernel)",
   "language": "python",
   "name": "python3"
  },
  "language_info": {
   "codemirror_mode": {
    "name": "ipython",
    "version": 3
   },
   "file_extension": ".py",
   "mimetype": "text/x-python",
   "name": "python",
   "nbconvert_exporter": "python",
   "pygments_lexer": "ipython3",
   "version": "3.12.4"
  }
 },
 "nbformat": 4,
 "nbformat_minor": 5
}
