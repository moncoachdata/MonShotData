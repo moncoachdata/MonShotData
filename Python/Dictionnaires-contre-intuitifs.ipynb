{
 "cells": [
  {
   "cell_type": "markdown",
   "id": "2232ff8d-1715-4d80-90bf-24b7c64c8768",
   "metadata": {},
   "source": [
    "# Python : Cet aspect contre-intuitif sur les dictionnaires va te surprendre"
   ]
  },
  {
   "cell_type": "code",
   "execution_count": 1,
   "id": "453c8ecb-89d8-4888-bc41-d5d5376bd05b",
   "metadata": {},
   "outputs": [],
   "source": [
    "my_dict = {\n",
    "    1.0: 'One (float)',\n",
    "    1: 'One (int)',\n",
    "    True: 'One (bool)',\n",
    "    '1': 'One (string)'\n",
    "}"
   ]
  },
  {
   "cell_type": "code",
   "execution_count": 2,
   "id": "c1c44284-5010-44f4-90db-26fff8460500",
   "metadata": {},
   "outputs": [
    {
     "data": {
      "text/plain": [
       "{1.0: 'One (bool)', '1': 'One (string)'}"
      ]
     },
     "execution_count": 2,
     "metadata": {},
     "output_type": "execute_result"
    }
   ],
   "source": [
    "my_dict"
   ]
  },
  {
   "cell_type": "code",
   "execution_count": 3,
   "id": "fb771dd2-a8f8-46f8-a982-1c2a52bf8398",
   "metadata": {},
   "outputs": [
    {
     "data": {
      "text/plain": [
       "(4578094192, 4530775480, 4530772680)"
      ]
     },
     "execution_count": 3,
     "metadata": {},
     "output_type": "execute_result"
    }
   ],
   "source": [
    "id(1.0), id(1), id(True)"
   ]
  },
  {
   "cell_type": "code",
   "execution_count": 4,
   "id": "040c47b6-b3a3-4b55-9c3f-7370d7f8c90c",
   "metadata": {},
   "outputs": [
    {
     "data": {
      "text/plain": [
       "(float, int, bool)"
      ]
     },
     "execution_count": 4,
     "metadata": {},
     "output_type": "execute_result"
    }
   ],
   "source": [
    "type(1.0), type(1), type(True)"
   ]
  },
  {
   "cell_type": "code",
   "execution_count": 5,
   "id": "0c36757d-6171-40c0-8d0d-4fc2a94187d9",
   "metadata": {},
   "outputs": [
    {
     "data": {
      "text/plain": [
       "(1, 1, 1)"
      ]
     },
     "execution_count": 5,
     "metadata": {},
     "output_type": "execute_result"
    }
   ],
   "source": [
    "hash(1.0), hash(1), hash(True)"
   ]
  }
 ],
 "metadata": {
  "kernelspec": {
   "display_name": "Python 3 (ipykernel)",
   "language": "python",
   "name": "python3"
  },
  "language_info": {
   "codemirror_mode": {
    "name": "ipython",
    "version": 3
   },
   "file_extension": ".py",
   "mimetype": "text/x-python",
   "name": "python",
   "nbconvert_exporter": "python",
   "pygments_lexer": "ipython3",
   "version": "3.12.4"
  }
 },
 "nbformat": 4,
 "nbformat_minor": 5
}
