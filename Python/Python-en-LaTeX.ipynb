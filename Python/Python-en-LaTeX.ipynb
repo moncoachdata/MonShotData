{
  "nbformat": 4,
  "nbformat_minor": 0,
  "metadata": {
    "colab": {
      "provenance": []
    },
    "kernelspec": {
      "name": "python3",
      "display_name": "Python 3"
    },
    "language_info": {
      "name": "python"
    }
  },
  "cells": [
    {
      "cell_type": "markdown",
      "source": [
        "# Convertir Python en LaTeX n'a peut-être jamais été aussi simple"
      ],
      "metadata": {
        "id": "XDss6xbhO0hP"
      }
    },
    {
      "cell_type": "code",
      "execution_count": null,
      "metadata": {
        "id": "Vs4nlP24Otyo"
      },
      "outputs": [],
      "source": [
        "!pip install latexify-py"
      ]
    },
    {
      "cell_type": "code",
      "source": [
        "import latexify\n",
        "import math"
      ],
      "metadata": {
        "id": "eJSONvFdOviK"
      },
      "execution_count": 2,
      "outputs": []
    },
    {
      "cell_type": "code",
      "source": [
        "@latexify.function\n",
        "def roots(a, b, c):\n",
        "    return (-b + math.sqrt(b**2 - 4*a*c)) / (2*a)\n",
        "\n",
        "roots"
      ],
      "metadata": {
        "colab": {
          "base_uri": "https://localhost:8080/",
          "height": 56
        },
        "id": "wm09JoI7PGDl",
        "outputId": "248a1a74-20a4-4345-c78c-c75527f028f5"
      },
      "execution_count": 3,
      "outputs": [
        {
          "output_type": "execute_result",
          "data": {
            "text/plain": [
              "<latexify.ipython_wrappers.LatexifiedFunction at 0x7a7240cd64a0>"
            ],
            "text/latex": "$$ \\displaystyle \\mathrm{roots}(a, b, c) = \\frac{-b + \\sqrt{ b^{2} - 4 a c }}{2 a} $$"
          },
          "metadata": {},
          "execution_count": 3
        }
      ]
    },
    {
      "cell_type": "code",
      "source": [
        "@latexify.function\n",
        "def fib(n):\n",
        "    if n<2:\n",
        "        return 1\n",
        "    else:\n",
        "        return fib(n-1) + fib(n-2)\n",
        "\n",
        "fib"
      ],
      "metadata": {
        "colab": {
          "base_uri": "https://localhost:8080/",
          "height": 58
        },
        "id": "y9djai47PKdo",
        "outputId": "2f370dd8-30f7-4877-f417-93d6a48a3baa"
      },
      "execution_count": 4,
      "outputs": [
        {
          "output_type": "execute_result",
          "data": {
            "text/plain": [
              "<latexify.ipython_wrappers.LatexifiedFunction at 0x7a7240cd6110>"
            ],
            "text/latex": "$$ \\displaystyle \\mathrm{fib}(n) = \\left\\{ \\begin{array}{ll} 1, & \\mathrm{if} \\ n < 2 \\\\ \\mathrm{fib} \\mathopen{}\\left( n - 1 \\mathclose{}\\right) + \\mathrm{fib} \\mathopen{}\\left( n - 2 \\mathclose{}\\right), & \\mathrm{otherwise} \\end{array} \\right. $$"
          },
          "metadata": {},
          "execution_count": 4
        }
      ]
    },
    {
      "cell_type": "code",
      "source": [
        "def solve(a, b, c):\n",
        "    return (-b + math.sqrt(b**2 - 4 * a * c)) / (2 * a)\n",
        "\n",
        "latexify.get_latex(solve)"
      ],
      "metadata": {
        "colab": {
          "base_uri": "https://localhost:8080/",
          "height": 35
        },
        "id": "BgK_0fgOPTQz",
        "outputId": "4ba46568-b9ef-461e-db59-9551f9755ade"
      },
      "execution_count": 5,
      "outputs": [
        {
          "output_type": "execute_result",
          "data": {
            "text/plain": [
              "'\\\\mathrm{solve}(a, b, c) = \\\\frac{-b + \\\\sqrt{ b^{2} - 4 a c }}{2 a}'"
            ],
            "application/vnd.google.colaboratory.intrinsic+json": {
              "type": "string"
            }
          },
          "metadata": {},
          "execution_count": 5
        }
      ]
    }
  ]
}
