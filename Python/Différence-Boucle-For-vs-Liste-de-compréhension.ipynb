{
 "cells": [
  {
   "cell_type": "markdown",
   "id": "e277aafc-996b-40f4-a9b1-9193ea9ff3d7",
   "metadata": {},
   "source": [
    "# Boucles For et Listes de compréhension : je te dévoile une différence peu connue\n",
    "\n",
    "[Lien du post MonShotData](https://www.monshotdata.com/p/liste-de-comprehension-vs-boucle-for-difference-de-scope-en-python)"
   ]
  },
  {
   "cell_type": "code",
   "execution_count": 1,
   "id": "319025ce-fe08-415a-a472-13cf9588b7f2",
   "metadata": {},
   "outputs": [
    {
     "name": "stdout",
     "output_type": "stream",
     "text": [
      "5\n"
     ]
    }
   ],
   "source": [
    "a = 1\n",
    "for a in range(6):\n",
    "    pass\n",
    "\n",
    "print(a) ## modifié"
   ]
  },
  {
   "cell_type": "code",
   "execution_count": 2,
   "id": "a0ba3e7a-6fb9-445e-aa84-e19c24e6ac71",
   "metadata": {},
   "outputs": [
    {
     "name": "stdout",
     "output_type": "stream",
     "text": [
      "1\n"
     ]
    }
   ],
   "source": [
    "a = 1\n",
    "[... for a in range(6)]\n",
    "\n",
    "print(a) ## inchangé"
   ]
  }
 ],
 "metadata": {
  "kernelspec": {
   "display_name": "Python 3 (ipykernel)",
   "language": "python",
   "name": "python3"
  },
  "language_info": {
   "codemirror_mode": {
    "name": "ipython",
    "version": 3
   },
   "file_extension": ".py",
   "mimetype": "text/x-python",
   "name": "python",
   "nbconvert_exporter": "python",
   "pygments_lexer": "ipython3",
   "version": "3.12.4"
  }
 },
 "nbformat": 4,
 "nbformat_minor": 5
}
