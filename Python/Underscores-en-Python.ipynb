{
  "cells": [
    {
      "cell_type": "markdown",
      "id": "1c7fff5e-a0e9-45b7-ab85-b12e032a47fb",
      "metadata": {
        "id": "1c7fff5e-a0e9-45b7-ab85-b12e032a47fb"
      },
      "source": [
        "# 7 secrets de l’Underscore en Python\n",
        "\n",
        "[Lien du post MonShotData](https://www.monshotdata.com/p/underscore-python)"
      ]
    },
    {
      "cell_type": "markdown",
      "id": "930efbe9-5e41-476e-adcb-06f338cad4db",
      "metadata": {
        "id": "930efbe9-5e41-476e-adcb-06f338cad4db"
      },
      "source": [
        "## #1 - Récupérer la dernière valeur calculée"
      ]
    },
    {
      "cell_type": "code",
      "execution_count": 4,
      "id": "da29e896-894e-4016-8650-b82e5fa00dec",
      "metadata": {
        "colab": {
          "base_uri": "https://localhost:8080/"
        },
        "id": "da29e896-894e-4016-8650-b82e5fa00dec",
        "outputId": "6bd9b683-e6ee-4a98-ddda-f78e4b0ce862"
      },
      "outputs": [
        {
          "output_type": "execute_result",
          "data": {
            "text/plain": [
              "15"
            ]
          },
          "metadata": {},
          "execution_count": 4
        }
      ],
      "source": [
        "5 + 10"
      ]
    },
    {
      "cell_type": "code",
      "execution_count": 5,
      "id": "962de418-8049-4291-9fd3-393b2ed8c29e",
      "metadata": {
        "colab": {
          "base_uri": "https://localhost:8080/"
        },
        "id": "962de418-8049-4291-9fd3-393b2ed8c29e",
        "outputId": "bf1bece2-6b14-4cf3-8fab-f38b646235c8"
      },
      "outputs": [
        {
          "output_type": "execute_result",
          "data": {
            "text/plain": [
              "15"
            ]
          },
          "metadata": {},
          "execution_count": 5
        }
      ],
      "source": [
        "_"
      ]
    },
    {
      "cell_type": "code",
      "execution_count": 6,
      "id": "ecaf4bfc-f341-4621-937a-43a981ba80f9",
      "metadata": {
        "colab": {
          "base_uri": "https://localhost:8080/"
        },
        "id": "ecaf4bfc-f341-4621-937a-43a981ba80f9",
        "outputId": "aaa3f5ea-a742-4d6c-85f2-f747cf0edeb1"
      },
      "outputs": [
        {
          "output_type": "execute_result",
          "data": {
            "text/plain": [
              "25"
            ]
          },
          "metadata": {},
          "execution_count": 6
        }
      ],
      "source": [
        "_ + 10"
      ]
    },
    {
      "cell_type": "markdown",
      "source": [
        "## #2 - Variable temporaire pour une boucle"
      ],
      "metadata": {
        "id": "WmrdUaQtv_36"
      },
      "id": "WmrdUaQtv_36"
    },
    {
      "cell_type": "code",
      "execution_count": 7,
      "id": "198799c2-96bc-4a0e-881a-187f1953e760",
      "metadata": {
        "id": "198799c2-96bc-4a0e-881a-187f1953e760"
      },
      "outputs": [],
      "source": [
        "for _ in range(10):\n",
        "    pass"
      ]
    },
    {
      "cell_type": "markdown",
      "source": [
        "## #3 - Séparateur de chiffres"
      ],
      "metadata": {
        "id": "p4eGP4WbwR-h"
      },
      "id": "p4eGP4WbwR-h"
    },
    {
      "cell_type": "code",
      "source": [
        "10000000000000"
      ],
      "metadata": {
        "colab": {
          "base_uri": "https://localhost:8080/"
        },
        "id": "PiPKAp8cwOpW",
        "outputId": "3e0eb39c-029c-41f5-d7d9-4cdb38516bc2"
      },
      "id": "PiPKAp8cwOpW",
      "execution_count": 8,
      "outputs": [
        {
          "output_type": "execute_result",
          "data": {
            "text/plain": [
              "10000000000000"
            ]
          },
          "metadata": {},
          "execution_count": 8
        }
      ]
    },
    {
      "cell_type": "code",
      "source": [
        "10_000_000_000_000"
      ],
      "metadata": {
        "colab": {
          "base_uri": "https://localhost:8080/"
        },
        "id": "lobk60p7wa5E",
        "outputId": "49e03afd-b222-4ae3-db71-20a70748e029"
      },
      "id": "lobk60p7wa5E",
      "execution_count": 9,
      "outputs": [
        {
          "output_type": "execute_result",
          "data": {
            "text/plain": [
              "10000000000000"
            ]
          },
          "metadata": {},
          "execution_count": 9
        }
      ]
    },
    {
      "cell_type": "markdown",
      "source": [
        "## #4 - Underscore simple en préfixe pour indiquer une variable à usage interne\n",
        "\n"
      ],
      "metadata": {
        "id": "KbWIThTfwiQL"
      },
      "id": "KbWIThTfwiQL"
    },
    {
      "cell_type": "code",
      "source": [
        "# _variable = 10 (dans file.py)"
      ],
      "metadata": {
        "id": "14YAm0t9wdRA"
      },
      "id": "14YAm0t9wdRA",
      "execution_count": 10,
      "outputs": []
    },
    {
      "cell_type": "code",
      "source": [
        "from file import *"
      ],
      "metadata": {
        "id": "IBNa0tExwi0P"
      },
      "id": "IBNa0tExwi0P",
      "execution_count": 11,
      "outputs": []
    },
    {
      "cell_type": "code",
      "source": [
        "_variable"
      ],
      "metadata": {
        "colab": {
          "base_uri": "https://localhost:8080/",
          "height": 144
        },
        "id": "kWX9ipaxxCjl",
        "outputId": "ba933f64-ebd3-485f-f247-fe1f3fc6b404"
      },
      "id": "kWX9ipaxxCjl",
      "execution_count": 12,
      "outputs": [
        {
          "output_type": "error",
          "ename": "NameError",
          "evalue": "name '_variable' is not defined",
          "traceback": [
            "\u001b[0;31m---------------------------------------------------------------------------\u001b[0m",
            "\u001b[0;31mNameError\u001b[0m                                 Traceback (most recent call last)",
            "\u001b[0;32m<ipython-input-12-2857424563>\u001b[0m in \u001b[0;36m<cell line: 0>\u001b[0;34m()\u001b[0m\n\u001b[0;32m----> 1\u001b[0;31m \u001b[0m_variable\u001b[0m\u001b[0;34m\u001b[0m\u001b[0;34m\u001b[0m\u001b[0m\n\u001b[0m",
            "\u001b[0;31mNameError\u001b[0m: name '_variable' is not defined"
          ]
        }
      ]
    },
    {
      "cell_type": "markdown",
      "source": [
        "## #5 - Underscore simple en suffixe pour éviter les conflits avec les mots-clés"
      ],
      "metadata": {
        "id": "CbhY3ItwxLNi"
      },
      "id": "CbhY3ItwxLNi"
    },
    {
      "cell_type": "code",
      "source": [
        "def foo(class_ = \"object\"):\n",
        "    pass"
      ],
      "metadata": {
        "id": "T1opRG_4xEA5"
      },
      "id": "T1opRG_4xEA5",
      "execution_count": 13,
      "outputs": []
    },
    {
      "cell_type": "markdown",
      "source": [
        "## #6 - Double underscore en préfixe pour activer le name mangling"
      ],
      "metadata": {
        "id": "ChNEaPgLxXJP"
      },
      "id": "ChNEaPgLxXJP"
    },
    {
      "cell_type": "code",
      "source": [
        "class MyClass:\n",
        "\n",
        "    def __init__(self):\n",
        "        self.__variable = 10"
      ],
      "metadata": {
        "id": "-uWqfM45xWW6"
      },
      "id": "-uWqfM45xWW6",
      "execution_count": 14,
      "outputs": []
    },
    {
      "cell_type": "code",
      "source": [
        "obj = MyClass()"
      ],
      "metadata": {
        "id": "FB_5Prswxi6j"
      },
      "id": "FB_5Prswxi6j",
      "execution_count": 15,
      "outputs": []
    },
    {
      "cell_type": "code",
      "source": [
        "obj.__variable"
      ],
      "metadata": {
        "colab": {
          "base_uri": "https://localhost:8080/",
          "height": 144
        },
        "id": "JKYzU8y2xqm3",
        "outputId": "62094164-78ac-4bce-e581-5cac57c8bb92"
      },
      "id": "JKYzU8y2xqm3",
      "execution_count": 16,
      "outputs": [
        {
          "output_type": "error",
          "ename": "AttributeError",
          "evalue": "'MyClass' object has no attribute '__variable'",
          "traceback": [
            "\u001b[0;31m---------------------------------------------------------------------------\u001b[0m",
            "\u001b[0;31mAttributeError\u001b[0m                            Traceback (most recent call last)",
            "\u001b[0;32m<ipython-input-16-1149633686>\u001b[0m in \u001b[0;36m<cell line: 0>\u001b[0;34m()\u001b[0m\n\u001b[0;32m----> 1\u001b[0;31m \u001b[0mobj\u001b[0m\u001b[0;34m.\u001b[0m\u001b[0m__variable\u001b[0m\u001b[0;34m\u001b[0m\u001b[0;34m\u001b[0m\u001b[0m\n\u001b[0m",
            "\u001b[0;31mAttributeError\u001b[0m: 'MyClass' object has no attribute '__variable'"
          ]
        }
      ]
    },
    {
      "cell_type": "code",
      "source": [
        "obj._MyClass__variable"
      ],
      "metadata": {
        "colab": {
          "base_uri": "https://localhost:8080/"
        },
        "id": "WUF8_xtAxshF",
        "outputId": "a317d713-517b-444a-b9a1-381c82222a1d"
      },
      "id": "WUF8_xtAxshF",
      "execution_count": 17,
      "outputs": [
        {
          "output_type": "execute_result",
          "data": {
            "text/plain": [
              "10"
            ]
          },
          "metadata": {},
          "execution_count": 17
        }
      ]
    },
    {
      "cell_type": "markdown",
      "source": [
        "## #7 - Double underscore en préfixe et suffixe pour écrire des méthodes magiques"
      ],
      "metadata": {
        "id": "F5LQgVtfx0w5"
      },
      "id": "F5LQgVtfx0w5"
    },
    {
      "cell_type": "code",
      "source": [
        "class MyClass:\n",
        "\n",
        "    def __init__(self):\n",
        "        self.variable = 10"
      ],
      "metadata": {
        "id": "fcfBor7-xyGC"
      },
      "id": "fcfBor7-xyGC",
      "execution_count": 18,
      "outputs": []
    }
  ],
  "metadata": {
    "kernelspec": {
      "display_name": "Python [conda env:MonShotData]",
      "language": "python",
      "name": "conda-env-MonShotData-py"
    },
    "language_info": {
      "codemirror_mode": {
        "name": "ipython",
        "version": 3
      },
      "file_extension": ".py",
      "mimetype": "text/x-python",
      "name": "python",
      "nbconvert_exporter": "python",
      "pygments_lexer": "ipython3",
      "version": "3.12.11"
    },
    "colab": {
      "provenance": []
    }
  },
  "nbformat": 4,
  "nbformat_minor": 5
}