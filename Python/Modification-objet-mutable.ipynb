{
 "cells": [
  {
   "cell_type": "markdown",
   "id": "c9787cb3-8579-48cf-bcc7-043d33a8273d",
   "metadata": {},
   "source": [
    "# La manipulation d'objets mutables en Python peut parfois prêter à confusion"
   ]
  },
  {
   "cell_type": "markdown",
   "id": "c871fb56-32a3-4987-9771-124530f0d923",
   "metadata": {},
   "source": [
    "#### a = a + b"
   ]
  },
  {
   "cell_type": "code",
   "execution_count": 1,
   "id": "02677925-9ce5-426f-a9f9-abbccd23d695",
   "metadata": {},
   "outputs": [],
   "source": [
    "a = [1,2,3]\n",
    "b = a"
   ]
  },
  {
   "cell_type": "code",
   "execution_count": 2,
   "id": "4a39bb5f-fadd-45b4-b98f-2bf0d2519681",
   "metadata": {},
   "outputs": [
    {
     "data": {
      "text/plain": [
       "(4525426048, 4525426048)"
      ]
     },
     "execution_count": 2,
     "metadata": {},
     "output_type": "execute_result"
    }
   ],
   "source": [
    "id(a), id(b)"
   ]
  },
  {
   "cell_type": "code",
   "execution_count": 3,
   "id": "60bfa8a1-a881-4a9f-9bba-691a89c4bb60",
   "metadata": {},
   "outputs": [],
   "source": [
    "a = a + [4,5]"
   ]
  },
  {
   "cell_type": "code",
   "execution_count": 4,
   "id": "154ba767-8208-4972-a8df-c1ed16925e10",
   "metadata": {},
   "outputs": [
    {
     "data": {
      "text/plain": [
       "[1, 2, 3, 4, 5]"
      ]
     },
     "execution_count": 4,
     "metadata": {},
     "output_type": "execute_result"
    }
   ],
   "source": [
    "a"
   ]
  },
  {
   "cell_type": "code",
   "execution_count": 5,
   "id": "de262dce-ce84-44be-bdc9-cdd9b2815f50",
   "metadata": {},
   "outputs": [
    {
     "data": {
      "text/plain": [
       "[1, 2, 3]"
      ]
     },
     "execution_count": 5,
     "metadata": {},
     "output_type": "execute_result"
    }
   ],
   "source": [
    "b"
   ]
  },
  {
   "cell_type": "code",
   "execution_count": 6,
   "id": "9266f9cb-24a3-4af5-9a2d-0b95718d3244",
   "metadata": {},
   "outputs": [
    {
     "data": {
      "text/plain": [
       "(4525426816, 4525426048)"
      ]
     },
     "execution_count": 6,
     "metadata": {},
     "output_type": "execute_result"
    }
   ],
   "source": [
    "id(a), id(b)   ## id modifié"
   ]
  },
  {
   "cell_type": "markdown",
   "id": "3eecf13b-4e2b-491d-8463-ce7f95cb8372",
   "metadata": {},
   "source": [
    "#### a += b"
   ]
  },
  {
   "cell_type": "code",
   "execution_count": 7,
   "id": "f1e93033-6c52-44aa-bdbe-9b03e80ad787",
   "metadata": {},
   "outputs": [],
   "source": [
    "a = [1,2,3]\n",
    "b = a"
   ]
  },
  {
   "cell_type": "code",
   "execution_count": 8,
   "id": "e0f5225e-327f-4b39-aee4-b01b09db11b5",
   "metadata": {},
   "outputs": [
    {
     "data": {
      "text/plain": [
       "(4525498048, 4525498048)"
      ]
     },
     "execution_count": 8,
     "metadata": {},
     "output_type": "execute_result"
    }
   ],
   "source": [
    "id(a), id(b)"
   ]
  },
  {
   "cell_type": "code",
   "execution_count": 9,
   "id": "7ee588c7-1b85-41eb-ac69-b0c265947f02",
   "metadata": {},
   "outputs": [],
   "source": [
    "a += [4,5]"
   ]
  },
  {
   "cell_type": "code",
   "execution_count": 10,
   "id": "e920f3c3-f5d6-48c1-a4cd-c7cd0f7c7149",
   "metadata": {},
   "outputs": [
    {
     "data": {
      "text/plain": [
       "[1, 2, 3, 4, 5]"
      ]
     },
     "execution_count": 10,
     "metadata": {},
     "output_type": "execute_result"
    }
   ],
   "source": [
    "a"
   ]
  },
  {
   "cell_type": "code",
   "execution_count": 11,
   "id": "4a252146-14b4-4d2f-bab7-576c9dedc5ab",
   "metadata": {},
   "outputs": [
    {
     "data": {
      "text/plain": [
       "[1, 2, 3, 4, 5]"
      ]
     },
     "execution_count": 11,
     "metadata": {},
     "output_type": "execute_result"
    }
   ],
   "source": [
    "b"
   ]
  },
  {
   "cell_type": "code",
   "execution_count": 12,
   "id": "a564ca85-e353-4293-91c3-9503b9d7e57a",
   "metadata": {},
   "outputs": [
    {
     "data": {
      "text/plain": [
       "(4525498048, 4525498048)"
      ]
     },
     "execution_count": 12,
     "metadata": {},
     "output_type": "execute_result"
    }
   ],
   "source": [
    "id(a), id(b)   ## id inchangé"
   ]
  }
 ],
 "metadata": {
  "kernelspec": {
   "display_name": "Python 3 (ipykernel)",
   "language": "python",
   "name": "python3"
  },
  "language_info": {
   "codemirror_mode": {
    "name": "ipython",
    "version": 3
   },
   "file_extension": ".py",
   "mimetype": "text/x-python",
   "name": "python",
   "nbconvert_exporter": "python",
   "pygments_lexer": "ipython3",
   "version": "3.12.4"
  }
 },
 "nbformat": 4,
 "nbformat_minor": 5
}
