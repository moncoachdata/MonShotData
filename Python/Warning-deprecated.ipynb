{
 "cells": [
  {
   "cell_type": "markdown",
   "id": "6e6330f5-0bb3-41a6-aa7e-d03c6f51e4af",
   "metadata": {},
   "source": [
    "# La bonne façon de déployer des mises à jour de bibliothèques en Python"
   ]
  },
  {
   "cell_type": "code",
   "execution_count": null,
   "id": "9bcb7670-26ea-446a-9f21-2d1babb860bc",
   "metadata": {},
   "outputs": [],
   "source": [
    "!pip install deprecated"
   ]
  },
  {
   "cell_type": "code",
   "execution_count": 1,
   "id": "96455f88-bc2f-4d27-b85f-e98cbc6ca555",
   "metadata": {},
   "outputs": [],
   "source": [
    "from deprecated import deprecated"
   ]
  },
  {
   "cell_type": "code",
   "execution_count": 2,
   "id": "60fb7c95-117c-479c-ae1a-01f765372bc5",
   "metadata": {},
   "outputs": [],
   "source": [
    "@deprecated(reason=\"Cette fonction sera obsolète dans la prochaine version. Utilise plutôt new_function.\")\n",
    "def old_function():\n",
    "    ..."
   ]
  },
  {
   "cell_type": "code",
   "execution_count": 3,
   "id": "d6045f05-0da9-473c-b35e-e1d1a21e7d54",
   "metadata": {},
   "outputs": [
    {
     "name": "stderr",
     "output_type": "stream",
     "text": [
      "/var/folders/mm/0rwzl0y95h11mgfmrfh3fpy40000gn/T/ipykernel_32956/413205487.py:1: DeprecationWarning: Call to deprecated function (or staticmethod) old_function. (Cette fonction sera obsolète dans la prochaine version. Utilise plutôt new_function.)\n",
      "  old_function()\n"
     ]
    }
   ],
   "source": [
    "old_function()"
   ]
  }
 ],
 "metadata": {
  "kernelspec": {
   "display_name": "Python 3 (ipykernel)",
   "language": "python",
   "name": "python3"
  },
  "language_info": {
   "codemirror_mode": {
    "name": "ipython",
    "version": 3
   },
   "file_extension": ".py",
   "mimetype": "text/x-python",
   "name": "python",
   "nbconvert_exporter": "python",
   "pygments_lexer": "ipython3",
   "version": "3.12.4"
  }
 },
 "nbformat": 4,
 "nbformat_minor": 5
}
