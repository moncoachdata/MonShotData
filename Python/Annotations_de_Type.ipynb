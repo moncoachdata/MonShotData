{
  "cells": [
    {
      "cell_type": "markdown",
      "id": "8e46e66b",
      "metadata": {
        "id": "8e46e66b"
      },
      "source": [
        "# Mon Shot de Data Science\n",
        "\n",
        "[10 façons de déclarer les annotations de type en Python](www.monshotdata.com/p/10-facons-de-declarer-les-annotations-de-type-en-python)"
      ]
    },
    {
      "cell_type": "markdown",
      "id": "84b0875b",
      "metadata": {
        "id": "84b0875b"
      },
      "source": [
        "## Les annotations de type ne sont pas appliquées !"
      ]
    },
    {
      "cell_type": "code",
      "execution_count": 1,
      "id": "3e8ee0f3",
      "metadata": {
        "id": "3e8ee0f3"
      },
      "outputs": [],
      "source": [
        "emp_name: str   = \"Noah\"\n",
        "\n",
        "emp_name = 10"
      ]
    },
    {
      "cell_type": "markdown",
      "id": "ecd54b44",
      "metadata": {
        "id": "ecd54b44"
      },
      "source": [
        "## Annotations de type pour les objets Python standard"
      ]
    },
    {
      "cell_type": "code",
      "execution_count": 2,
      "id": "393785b6",
      "metadata": {
        "id": "393785b6"
      },
      "outputs": [],
      "source": [
        "emp_name: str   = \"Rod\"\n",
        "emp_year: int   = 1988\n",
        "emp_task: list  = []\n",
        "emp_proj: tuple = ()\n",
        "emp_info: dict  = {}"
      ]
    },
    {
      "cell_type": "code",
      "execution_count": 3,
      "id": "7fbd736d",
      "metadata": {
        "id": "7fbd736d"
      },
      "outputs": [],
      "source": [
        "from typing import List, Tuple, Dict\n",
        "\n",
        "emp_task: List[int]  = []      # Liste de strings\n",
        "emp_proj: Tuple[str] = ()      # Tuple de strings\n",
        "emp_info: Dict[int, str] = {}  # Dict de int à string"
      ]
    },
    {
      "cell_type": "markdown",
      "id": "a91e0199",
      "metadata": {
        "id": "a91e0199"
      },
      "source": [
        "## Annotations de type multiples pour un objet"
      ]
    },
    {
      "cell_type": "code",
      "execution_count": 4,
      "id": "9809f7ea",
      "metadata": {
        "id": "9809f7ea"
      },
      "outputs": [],
      "source": [
        "from typing import Union\n",
        "\n",
        "area: Union[int, float] = 1*1"
      ]
    },
    {
      "cell_type": "code",
      "source": [
        "area: int|float = 1*1"
      ],
      "metadata": {
        "id": "2I_mll6h8602"
      },
      "id": "2I_mll6h8602",
      "execution_count": 5,
      "outputs": []
    },
    {
      "cell_type": "markdown",
      "id": "e7681e65",
      "metadata": {
        "id": "e7681e65"
      },
      "source": [
        "## Annotations de type pour les valeurs None"
      ]
    },
    {
      "cell_type": "code",
      "execution_count": 6,
      "id": "335a75e3",
      "metadata": {
        "id": "335a75e3"
      },
      "outputs": [],
      "source": [
        "from typing import Optional\n",
        "\n",
        "count: Optional[int] = 10"
      ]
    },
    {
      "cell_type": "markdown",
      "id": "92b0e62e",
      "metadata": {
        "id": "92b0e62e"
      },
      "source": [
        "## Annotations de type pour un iterable"
      ]
    },
    {
      "cell_type": "code",
      "execution_count": 7,
      "id": "0a195e00",
      "metadata": {
        "id": "0a195e00"
      },
      "outputs": [],
      "source": [
        "from typing import Iterable\n",
        "\n",
        "def total_sum(arr: Iterable):\n",
        "    ..."
      ]
    },
    {
      "cell_type": "markdown",
      "id": "f0776d3f",
      "metadata": {
        "id": "f0776d3f"
      },
      "source": [
        "## Annotations de type pour les objets constants"
      ]
    },
    {
      "cell_type": "code",
      "execution_count": 8,
      "id": "b62a4d23",
      "metadata": {
        "id": "b62a4d23"
      },
      "outputs": [],
      "source": [
        "from typing import Final\n",
        "\n",
        "PI: Final = 3.1412"
      ]
    },
    {
      "cell_type": "markdown",
      "id": "ae55433d",
      "metadata": {
        "id": "ae55433d"
      },
      "source": [
        "## Annotations de type pour les valeurs fixes"
      ]
    },
    {
      "cell_type": "code",
      "execution_count": 9,
      "id": "87f71cf0",
      "metadata": {
        "id": "87f71cf0"
      },
      "outputs": [],
      "source": [
        "from typing import Literal\n",
        "\n",
        "grade: Literal['A', 'B', 'C', 'F']\n",
        "\n",
        "grade = 'A'"
      ]
    },
    {
      "cell_type": "markdown",
      "id": "8cc50be9",
      "metadata": {
        "id": "8cc50be9"
      },
      "source": [
        "## Annotations de type pour les objets ayant n'importe quelle valeur possible"
      ]
    },
    {
      "cell_type": "code",
      "execution_count": 10,
      "id": "30ca9dd0",
      "metadata": {
        "id": "30ca9dd0"
      },
      "outputs": [],
      "source": [
        "from typing import Any\n",
        "\n",
        "data: Any = 10"
      ]
    },
    {
      "cell_type": "markdown",
      "id": "398a054b",
      "metadata": {
        "id": "398a054b"
      },
      "source": [
        "## Annotations de type dans les fonctions"
      ]
    },
    {
      "cell_type": "code",
      "execution_count": 11,
      "id": "fd953600",
      "metadata": {
        "id": "fd953600"
      },
      "outputs": [],
      "source": [
        "def add_str(str1: str, str2: str) -> str:\n",
        "\n",
        "    return string[::-1]"
      ]
    },
    {
      "cell_type": "markdown",
      "id": "8a2d4cf4",
      "metadata": {
        "id": "8a2d4cf4"
      },
      "source": [
        "## Annotations de type d'un objet fonction"
      ]
    },
    {
      "cell_type": "code",
      "execution_count": 12,
      "id": "0a28c927",
      "metadata": {
        "id": "0a28c927"
      },
      "outputs": [],
      "source": [
        "from typing import Callable\n",
        "\n",
        "def functionA(add_str: Callable) -> int:\n",
        "    ..."
      ]
    },
    {
      "cell_type": "markdown",
      "id": "4a333437",
      "metadata": {
        "id": "4a333437"
      },
      "source": [
        "## Annotations de type Alias"
      ]
    },
    {
      "cell_type": "code",
      "execution_count": 13,
      "id": "61eb396d",
      "metadata": {
        "id": "61eb396d"
      },
      "outputs": [],
      "source": [
        "InFloStr = Union[int, float, str]\n",
        "\n",
        "data: InFloStr = 10"
      ]
    },
    {
      "cell_type": "code",
      "source": [
        "from typing import TypeAlias\n",
        "\n",
        "InFloStr: TypeAlias = Union[int, float, str]\n",
        "\n",
        "data: InFloStr = 10"
      ],
      "metadata": {
        "id": "itBpvLIi8wgV"
      },
      "id": "itBpvLIi8wgV",
      "execution_count": 14,
      "outputs": []
    }
  ],
  "metadata": {
    "kernelspec": {
      "display_name": "Python 3 (ipykernel)",
      "language": "python",
      "name": "python3"
    },
    "language_info": {
      "codemirror_mode": {
        "name": "ipython",
        "version": 3
      },
      "file_extension": ".py",
      "mimetype": "text/x-python",
      "name": "python",
      "nbconvert_exporter": "python",
      "pygments_lexer": "ipython3",
      "version": "3.9.13"
    },
    "toc": {
      "base_numbering": 1,
      "nav_menu": {},
      "number_sections": true,
      "sideBar": true,
      "skip_h1_title": false,
      "title_cell": "Table of Contents",
      "title_sidebar": "Contents",
      "toc_cell": false,
      "toc_position": {},
      "toc_section_display": true,
      "toc_window_display": false
    },
    "colab": {
      "provenance": []
    }
  },
  "nbformat": 4,
  "nbformat_minor": 5
}