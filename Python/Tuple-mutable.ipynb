{
 "cells": [
  {
   "cell_type": "markdown",
   "id": "2fb1c8d7-8113-437c-9aeb-3d552c78def6",
   "metadata": {},
   "source": [
    "# Tu crois tout savoir sur les tuples de Python : Vérifie ça d'abord !\n",
    "\n",
    "Ce que tu penses savoir sur l'immutabilité des tuples est peut-être faux..."
   ]
  },
  {
   "cell_type": "markdown",
   "id": "e8f90617-902a-4158-a88c-9ac5ed788184",
   "metadata": {},
   "source": [
    "[Lien du post](https://www.monshotdata.com/p/tout-savoir-sur-l-immutabilite-des-tuples-python)"
   ]
  },
  {
   "cell_type": "code",
   "execution_count": 1,
   "id": "fc71de86-22bd-4b9b-baf2-d9147670aae9",
   "metadata": {},
   "outputs": [],
   "source": [
    "my_tuple = (1, [2,3])"
   ]
  },
  {
   "cell_type": "code",
   "execution_count": 2,
   "id": "06c874f3-d6cc-43ac-963d-d449cb991810",
   "metadata": {},
   "outputs": [
    {
     "data": {
      "text/plain": [
       "(1, [2, 3])"
      ]
     },
     "execution_count": 2,
     "metadata": {},
     "output_type": "execute_result"
    }
   ],
   "source": [
    "my_tuple"
   ]
  },
  {
   "cell_type": "code",
   "execution_count": 3,
   "id": "cf9679b7-e512-4e93-8da2-f7e66b86c061",
   "metadata": {},
   "outputs": [
    {
     "data": {
      "text/plain": [
       "(4537791928, 4586614400)"
      ]
     },
     "execution_count": 3,
     "metadata": {},
     "output_type": "execute_result"
    }
   ],
   "source": [
    "id(my_tuple[0]), id(my_tuple[1])"
   ]
  },
  {
   "cell_type": "code",
   "execution_count": 4,
   "id": "35c04dc5-e8f6-44d3-8340-536af5b34576",
   "metadata": {},
   "outputs": [],
   "source": [
    "my_tuple[1].append(4) ## pas d'erreur"
   ]
  },
  {
   "cell_type": "code",
   "execution_count": 5,
   "id": "24cafabf-5206-4b72-ad0f-36d10aa9896c",
   "metadata": {},
   "outputs": [
    {
     "data": {
      "text/plain": [
       "(1, [2, 3, 4])"
      ]
     },
     "execution_count": 5,
     "metadata": {},
     "output_type": "execute_result"
    }
   ],
   "source": [
    "my_tuple"
   ]
  },
  {
   "cell_type": "code",
   "execution_count": 6,
   "id": "ccd0b9de-8339-4fb6-8110-84b5353cedcb",
   "metadata": {},
   "outputs": [
    {
     "data": {
      "text/plain": [
       "(4537791928, 4586614400)"
      ]
     },
     "execution_count": 6,
     "metadata": {},
     "output_type": "execute_result"
    }
   ],
   "source": [
    "id(my_tuple[0]), id(my_tuple[1]) ## mêmes ids"
   ]
  }
 ],
 "metadata": {
  "kernelspec": {
   "display_name": "Python 3 (ipykernel)",
   "language": "python",
   "name": "python3"
  },
  "language_info": {
   "codemirror_mode": {
    "name": "ipython",
    "version": 3
   },
   "file_extension": ".py",
   "mimetype": "text/x-python",
   "name": "python",
   "nbconvert_exporter": "python",
   "pygments_lexer": "ipython3",
   "version": "3.12.4"
  }
 },
 "nbformat": 4,
 "nbformat_minor": 5
}
