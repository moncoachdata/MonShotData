{
 "cells": [
  {
   "cell_type": "markdown",
   "id": "13709aec",
   "metadata": {},
   "source": [
    "# N'utilise plus time.time() pour mesurer la durée d'exécution"
   ]
  },
  {
   "cell_type": "markdown",
   "id": "0b12e0ef",
   "metadata": {},
   "source": [
    "## En utilisant time.time()"
   ]
  },
  {
   "cell_type": "code",
   "execution_count": 1,
   "id": "c571c25b",
   "metadata": {},
   "outputs": [],
   "source": [
    "import time"
   ]
  },
  {
   "cell_type": "code",
   "execution_count": 2,
   "id": "bb00f160",
   "metadata": {},
   "outputs": [
    {
     "name": "stdout",
     "output_type": "stream",
     "text": [
      "10.001010179519653\n"
     ]
    }
   ],
   "source": [
    "start = time.time()\n",
    "time.sleep(10)\n",
    "print(time.time() - start)"
   ]
  },
  {
   "cell_type": "markdown",
   "id": "fe75e34e",
   "metadata": {},
   "source": [
    "## En utilisant time.pref_counter()"
   ]
  },
  {
   "cell_type": "code",
   "execution_count": 3,
   "id": "a3602639",
   "metadata": {},
   "outputs": [
    {
     "name": "stdout",
     "output_type": "stream",
     "text": [
      "10.004028714029118\n"
     ]
    }
   ],
   "source": [
    "start = time.perf_counter()\n",
    "time.sleep(10)\n",
    "print(time.perf_counter() - start)"
   ]
  }
 ],
 "metadata": {
  "kernelspec": {
   "display_name": "Python 3 (ipykernel)",
   "language": "python",
   "name": "python3"
  },
  "language_info": {
   "codemirror_mode": {
    "name": "ipython",
    "version": 3
   },
   "file_extension": ".py",
   "mimetype": "text/x-python",
   "name": "python",
   "nbconvert_exporter": "python",
   "pygments_lexer": "ipython3",
   "version": "3.10.14"
  }
 },
 "nbformat": 4,
 "nbformat_minor": 5
}
