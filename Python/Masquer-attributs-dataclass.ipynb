{
 "cells": [
  {
   "cell_type": "markdown",
   "id": "e495bb7d-8c59-405e-8eb4-adbb54eb06dd",
   "metadata": {},
   "source": [
    "# Masquer les attributs lors de l'impression d'un objet Dataclass"
   ]
  },
  {
   "cell_type": "code",
   "execution_count": 2,
   "id": "caf10a53-094f-4c8d-9bed-b3c7e445cd21",
   "metadata": {},
   "outputs": [
    {
     "name": "stdout",
     "output_type": "stream",
     "text": [
      "Student(name='Noah', key='11HD')\n"
     ]
    }
   ],
   "source": [
    "from dataclasses import dataclass\n",
    "\n",
    "@dataclass\n",
    "class Student:\n",
    "    name:str\n",
    "    key:str\n",
    "    \n",
    "Noah = Student(\"Noah\", \"11HD\")\n",
    "\n",
    "print(Noah)"
   ]
  },
  {
   "cell_type": "code",
   "execution_count": 3,
   "id": "58308cc0-31b3-4be1-954e-1d93b883480c",
   "metadata": {},
   "outputs": [
    {
     "name": "stdout",
     "output_type": "stream",
     "text": [
      "Student(name='Noah')\n"
     ]
    }
   ],
   "source": [
    "from dataclasses import dataclass, field\n",
    "\n",
    "@dataclass\n",
    "class Student:\n",
    "    name:str\n",
    "    key:str = field(repr = False)\n",
    "    \n",
    "Noah = Student(\"Noah\", \"11HD\")\n",
    "\n",
    "print(Noah) "
   ]
  }
 ],
 "metadata": {
  "kernelspec": {
   "display_name": "Python 3 (ipykernel)",
   "language": "python",
   "name": "python3"
  },
  "language_info": {
   "codemirror_mode": {
    "name": "ipython",
    "version": 3
   },
   "file_extension": ".py",
   "mimetype": "text/x-python",
   "name": "python",
   "nbconvert_exporter": "python",
   "pygments_lexer": "ipython3",
   "version": "3.11.7"
  }
 },
 "nbformat": 4,
 "nbformat_minor": 5
}
