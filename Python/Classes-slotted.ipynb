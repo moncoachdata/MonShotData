{
 "cells": [
  {
   "cell_type": "markdown",
   "id": "69687913",
   "metadata": {},
   "source": [
    "# Utilise la classe Slotted pour améliorer ton code Python"
   ]
  },
  {
   "cell_type": "markdown",
   "id": "4c3ab4b3",
   "metadata": {},
   "source": [
    "## Pas de Slots"
   ]
  },
  {
   "cell_type": "code",
   "execution_count": 1,
   "id": "b006208d",
   "metadata": {},
   "outputs": [],
   "source": [
    "class Person:\n",
    "    \n",
    "    def __init__(self, name, age):\n",
    "            self.Name = name\n",
    "            self.Age = age\n",
    "\n",
    "person = Person('Paul', '22')"
   ]
  },
  {
   "cell_type": "code",
   "execution_count": 2,
   "id": "2ce5f9df",
   "metadata": {},
   "outputs": [],
   "source": [
    "person.name = \"Pierre\"   ## Pas d'erreur, Name est écrit en tant que name"
   ]
  },
  {
   "cell_type": "markdown",
   "id": "396517ed",
   "metadata": {},
   "source": [
    "## En utilisant Slots"
   ]
  },
  {
   "cell_type": "code",
   "execution_count": 3,
   "id": "0cda8111",
   "metadata": {},
   "outputs": [],
   "source": [
    "class Person:\n",
    "    __slots__ = [\"Name\", \"Age\"]\n",
    "    \n",
    "    def __init__(self, name, age):\n",
    "            self.Name = name\n",
    "            self.Age = age\n",
    "\n",
    "person = Person('Paul', '22')"
   ]
  },
  {
   "cell_type": "code",
   "execution_count": 4,
   "id": "a814d660",
   "metadata": {},
   "outputs": [
    {
     "ename": "AttributeError",
     "evalue": "'Person' object has no attribute 'name'",
     "output_type": "error",
     "traceback": [
      "\u001b[0;31m---------------------------------------------------------------------------\u001b[0m",
      "\u001b[0;31mAttributeError\u001b[0m                            Traceback (most recent call last)",
      "Cell \u001b[0;32mIn[4], line 1\u001b[0m\n\u001b[0;32m----> 1\u001b[0m person\u001b[38;5;241m.\u001b[39mname \u001b[38;5;241m=\u001b[39m \u001b[38;5;124m\"\u001b[39m\u001b[38;5;124mPierre\u001b[39m\u001b[38;5;124m\"\u001b[39m\n",
      "\u001b[0;31mAttributeError\u001b[0m: 'Person' object has no attribute 'name'"
     ]
    }
   ],
   "source": [
    "person.name = \"Pierre\"   # Name différent de name"
   ]
  },
  {
   "cell_type": "code",
   "execution_count": null,
   "id": "879fd771",
   "metadata": {},
   "outputs": [],
   "source": [
    "# fonctionne avec .Name\n",
    "person.Name = \"Pierre\" "
   ]
  }
 ],
 "metadata": {
  "kernelspec": {
   "display_name": "Python 3 (ipykernel)",
   "language": "python",
   "name": "python3"
  },
  "language_info": {
   "codemirror_mode": {
    "name": "ipython",
    "version": 3
   },
   "file_extension": ".py",
   "mimetype": "text/x-python",
   "name": "python",
   "nbconvert_exporter": "python",
   "pygments_lexer": "ipython3",
   "version": "3.10.14"
  }
 },
 "nbformat": 4,
 "nbformat_minor": 5
}
