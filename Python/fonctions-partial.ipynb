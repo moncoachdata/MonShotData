{
 "cells": [
  {
   "cell_type": "markdown",
   "id": "ed4d8bfb-86b1-474b-910f-a0d5eadf0b81",
   "metadata": {},
   "source": [
    "# Simplifie tes fonctions avec des fonctions partielles"
   ]
  },
  {
   "cell_type": "code",
   "execution_count": 2,
   "id": "2547c4d8-bc32-4e22-906d-592ca4abe810",
   "metadata": {},
   "outputs": [],
   "source": [
    "from functools import partial"
   ]
  },
  {
   "cell_type": "code",
   "execution_count": 4,
   "id": "0ca22d19-1f36-4415-86ba-2c77565f4a8f",
   "metadata": {},
   "outputs": [],
   "source": [
    "def quadratic(x, a, b, c):\n",
    "    return a*(x**2) + b*x + c"
   ]
  },
  {
   "cell_type": "code",
   "execution_count": 6,
   "id": "7ecda3c1-6af4-4142-99ec-6c26cb7ecdab",
   "metadata": {},
   "outputs": [],
   "source": [
    "quadratic_b1 = partial(quadratic, c=1)"
   ]
  },
  {
   "cell_type": "code",
   "execution_count": 8,
   "id": "e152456a-e563-41d7-b268-a976ba2943ce",
   "metadata": {},
   "outputs": [
    {
     "data": {
      "text/plain": [
       "10"
      ]
     },
     "execution_count": 8,
     "metadata": {},
     "output_type": "execute_result"
    }
   ],
   "source": [
    "quadratic_b1(x=1, a=4, b=5)"
   ]
  },
  {
   "cell_type": "code",
   "execution_count": 10,
   "id": "84a9033f-9b47-4cbe-8b60-fcf3fef8c031",
   "metadata": {},
   "outputs": [],
   "source": [
    "quadratic_a1 = partial(quadratic, a=1)"
   ]
  },
  {
   "cell_type": "code",
   "execution_count": 12,
   "id": "9628a556-154a-4948-990a-31aef75f50dc",
   "metadata": {},
   "outputs": [
    {
     "data": {
      "text/plain": [
       "6"
      ]
     },
     "execution_count": 12,
     "metadata": {},
     "output_type": "execute_result"
    }
   ],
   "source": [
    "quadratic_a1(x=1, b=2, c=3)"
   ]
  }
 ],
 "metadata": {
  "kernelspec": {
   "display_name": "Python 3 (ipykernel)",
   "language": "python",
   "name": "python3"
  },
  "language_info": {
   "codemirror_mode": {
    "name": "ipython",
    "version": 3
   },
   "file_extension": ".py",
   "mimetype": "text/x-python",
   "name": "python",
   "nbconvert_exporter": "python",
   "pygments_lexer": "ipython3",
   "version": "3.11.7"
  }
 },
 "nbformat": 4,
 "nbformat_minor": 5
}
