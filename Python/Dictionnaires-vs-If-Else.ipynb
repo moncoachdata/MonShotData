{
 "cells": [
  {
   "cell_type": "markdown",
   "id": "50f70ead-660e-488e-8486-1eb1baf34a82",
   "metadata": {},
   "source": [
    "# Utilisation de dictionnaires à la place de conditions IF"
   ]
  },
  {
   "cell_type": "code",
   "execution_count": 1,
   "id": "aee77a71-ae87-4626-890d-0eba118ad415",
   "metadata": {},
   "outputs": [],
   "source": [
    "def func_1():   \n",
    "    print(\"Fonction 1\")\n",
    "    \n",
    "def func_2():   \n",
    "    print(\"Fonction 2\")\n",
    "    \n",
    "def func_3():   \n",
    "    print(\"Fonction 3\")"
   ]
  },
  {
   "cell_type": "markdown",
   "id": "0a1be76b-c554-4f44-bbb4-1ad331d7249d",
   "metadata": {},
   "source": [
    "## If-Else"
   ]
  },
  {
   "cell_type": "code",
   "execution_count": 3,
   "id": "7ecc874c-1723-454e-b41d-4ff2780d2fa0",
   "metadata": {},
   "outputs": [
    {
     "name": "stdin",
     "output_type": "stream",
     "text": [
      " 3\n"
     ]
    },
    {
     "name": "stdout",
     "output_type": "stream",
     "text": [
      "Fonction 3\n"
     ]
    }
   ],
   "source": [
    "number = int(input())\n",
    "\n",
    "if number == 1:\n",
    "    func_1()\n",
    "    \n",
    "if number == 2:\n",
    "    func_2()\n",
    "    \n",
    "if number == 3:\n",
    "    func_3()"
   ]
  },
  {
   "cell_type": "markdown",
   "id": "3ac36666-81f2-4c6a-a5a3-be5dc042ed63",
   "metadata": {},
   "source": [
    "## Dictionnaire"
   ]
  },
  {
   "cell_type": "code",
   "execution_count": 5,
   "id": "05a34e57-6571-4aa4-b40a-a73d708cbffb",
   "metadata": {},
   "outputs": [
    {
     "name": "stdin",
     "output_type": "stream",
     "text": [
      " 3\n"
     ]
    },
    {
     "name": "stdout",
     "output_type": "stream",
     "text": [
      "Fonction 3\n"
     ]
    }
   ],
   "source": [
    "number = int(input())\n",
    "\n",
    "func_map = {1:func_1, \n",
    "            2:func_2,\n",
    "            3:func_3}\n",
    "            \n",
    "func_map[number]()"
   ]
  }
 ],
 "metadata": {
  "kernelspec": {
   "display_name": "Python 3 (ipykernel)",
   "language": "python",
   "name": "python3"
  },
  "language_info": {
   "codemirror_mode": {
    "name": "ipython",
    "version": 3
   },
   "file_extension": ".py",
   "mimetype": "text/x-python",
   "name": "python",
   "nbconvert_exporter": "python",
   "pygments_lexer": "ipython3",
   "version": "3.11.7"
  }
 },
 "nbformat": 4,
 "nbformat_minor": 5
}
