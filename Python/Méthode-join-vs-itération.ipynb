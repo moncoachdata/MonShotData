{
 "cells": [
  {
   "cell_type": "markdown",
   "id": "7f53f7ef-b369-40cb-90c6-82ffc400d6fa",
   "metadata": {},
   "source": [
    "# Pourquoi la méthode join() est bien plus rapide que l'itération ?\n",
    "\n",
    "[Lien du post MonShotData](https://www.monshotdata.com/p/methode-join-vs-iteration)"
   ]
  },
  {
   "cell_type": "code",
   "execution_count": 1,
   "id": "fe613d62-dd06-44e1-b492-d6f3608b3721",
   "metadata": {},
   "outputs": [],
   "source": [
    "words = [\"Meilleure\", \"façon\", \"de\", \"joindre\", \"des\", \"strings\", \"en\", \"Python\"]"
   ]
  },
  {
   "cell_type": "markdown",
   "id": "1ebdf04c-5f93-4b7e-bcf8-21cab6dccece",
   "metadata": {},
   "source": [
    "## Approche n° 1 : itération"
   ]
  },
  {
   "cell_type": "code",
   "execution_count": 2,
   "id": "45bdc10e-eab3-4c2d-90cc-685ab79c1d8b",
   "metadata": {},
   "outputs": [
    {
     "name": "stdout",
     "output_type": "stream",
     "text": [
      "249 ns ± 3.99 ns per loop (mean ± std. dev. of 7 runs, 1,000,000 loops each)\n"
     ]
    }
   ],
   "source": [
    "%%timeit\n",
    "\n",
    "sentence = \"\"\n",
    "for word in words:\n",
    "    sentence += word + \" \"\n",
    "sentence = sentence[:-1]"
   ]
  },
  {
   "cell_type": "markdown",
   "id": "1519b8b3-0a65-431a-938b-873356a9164a",
   "metadata": {},
   "source": [
    "## Approche n°2 : Join()"
   ]
  },
  {
   "cell_type": "code",
   "execution_count": 3,
   "id": "a2a86339-1bc8-418c-b2ba-bd1606227caf",
   "metadata": {},
   "outputs": [
    {
     "name": "stdout",
     "output_type": "stream",
     "text": [
      "48.3 ns ± 0.377 ns per loop (mean ± std. dev. of 7 runs, 10,000,000 loops each)\n"
     ]
    }
   ],
   "source": [
    "%timeit sentence = \" \".join(words)"
   ]
  }
 ],
 "metadata": {
  "kernelspec": {
   "display_name": "Python 3 (ipykernel)",
   "language": "python",
   "name": "python3"
  },
  "language_info": {
   "codemirror_mode": {
    "name": "ipython",
    "version": 3
   },
   "file_extension": ".py",
   "mimetype": "text/x-python",
   "name": "python",
   "nbconvert_exporter": "python",
   "pygments_lexer": "ipython3",
   "version": "3.12.9"
  }
 },
 "nbformat": 4,
 "nbformat_minor": 5
}
