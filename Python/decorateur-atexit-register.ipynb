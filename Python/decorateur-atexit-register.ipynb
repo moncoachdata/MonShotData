{
 "cells": [
  {
   "cell_type": "markdown",
   "id": "96b01fa1-e39d-4279-88a2-b746e6027e76",
   "metadata": {},
   "source": [
    "# Une façon élégante d'effectuer des tâches d'arrêt en Python"
   ]
  },
  {
   "cell_type": "code",
   "execution_count": 2,
   "id": "7efa5771-045a-4647-90ab-d38d978e4218",
   "metadata": {},
   "outputs": [
    {
     "name": "stdout",
     "output_type": "stream",
     "text": [
      "import atexit\n",
      "from time import sleep\n",
      "\n",
      "@atexit.register\n",
      "def final_function():\n",
      "    print(\"EXÉCUTION TERMINÉE !\")\n",
      "    \n",
      "for i in range(5):\n",
      "    print(f\"num = {i}\")"
     ]
    }
   ],
   "source": [
    "!cat atexit-register.py"
   ]
  },
  {
   "cell_type": "code",
   "execution_count": 4,
   "id": "c0995956-8b54-4467-9baa-6b772a074a58",
   "metadata": {},
   "outputs": [
    {
     "name": "stdout",
     "output_type": "stream",
     "text": [
      "num = 0\n",
      "num = 1\n",
      "num = 2\n",
      "num = 3\n",
      "num = 4\n",
      "EXÉCUTION TERMINÉE !\n"
     ]
    }
   ],
   "source": [
    "!python atexit-register.py"
   ]
  }
 ],
 "metadata": {
  "kernelspec": {
   "display_name": "Python 3 (ipykernel)",
   "language": "python",
   "name": "python3"
  },
  "language_info": {
   "codemirror_mode": {
    "name": "ipython",
    "version": 3
   },
   "file_extension": ".py",
   "mimetype": "text/x-python",
   "name": "python",
   "nbconvert_exporter": "python",
   "pygments_lexer": "ipython3",
   "version": "3.11.7"
  }
 },
 "nbformat": 4,
 "nbformat_minor": 5
}
