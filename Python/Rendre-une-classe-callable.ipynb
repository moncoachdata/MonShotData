{
 "cells": [
  {
   "cell_type": "markdown",
   "id": "d3d0c140-4de2-412c-b285-ac7c92a63089",
   "metadata": {},
   "source": [
    "# Faire en sorte qu'un objet de classe se comporte comme une fonction"
   ]
  },
  {
   "cell_type": "code",
   "execution_count": 2,
   "id": "e5247eb6-764b-4dcc-8427-b69d7548cb81",
   "metadata": {},
   "outputs": [],
   "source": [
    "class Quadratic:\n",
    "    def __init__(self, a, b, c):\n",
    "        self.a = a\n",
    "        self.b = b\n",
    "        self.c = c\n",
    "\n",
    "    def __call__(self, x):\n",
    "        return (self.a * x**2) + \\\n",
    "               (self.b * x) + \\\n",
    "               self.c"
   ]
  },
  {
   "cell_type": "code",
   "execution_count": 4,
   "id": "adeb8bf4-cafd-48d3-92b3-d0a073f894f2",
   "metadata": {},
   "outputs": [
    {
     "name": "stdout",
     "output_type": "stream",
     "text": [
      "6\n",
      "11\n"
     ]
    }
   ],
   "source": [
    "f = Quadratic(1, 2, 3)\n",
    "print(f(1))\n",
    "print(f(2))"
   ]
  },
  {
   "cell_type": "code",
   "execution_count": 6,
   "id": "0e9a2aa3-5e51-4710-8a25-fcfeabbddd04",
   "metadata": {},
   "outputs": [
    {
     "name": "stdout",
     "output_type": "stream",
     "text": [
      "True\n"
     ]
    }
   ],
   "source": [
    "print(callable(f))"
   ]
  },
  {
   "cell_type": "markdown",
   "id": "e3716645-fe7a-4a98-bac0-94d0927f2c6c",
   "metadata": {},
   "source": [
    "callable renvoie True si l'objet est appelable (c'est-à-dire une sorte de fonction)."
   ]
  }
 ],
 "metadata": {
  "kernelspec": {
   "display_name": "Python 3 (ipykernel)",
   "language": "python",
   "name": "python3"
  },
  "language_info": {
   "codemirror_mode": {
    "name": "ipython",
    "version": 3
   },
   "file_extension": ".py",
   "mimetype": "text/x-python",
   "name": "python",
   "nbconvert_exporter": "python",
   "pygments_lexer": "ipython3",
   "version": "3.11.7"
  }
 },
 "nbformat": 4,
 "nbformat_minor": 5
}
