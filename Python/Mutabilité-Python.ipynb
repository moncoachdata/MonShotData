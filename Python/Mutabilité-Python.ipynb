{
 "cells": [
  {
   "cell_type": "markdown",
   "id": "90f95613-ae99-4c90-bffd-59dff76d773b",
   "metadata": {},
   "source": [
    "# Une fonctionnalité cachée de Python dont beaucoup de programmeurs ne sont pas conscients"
   ]
  },
  {
   "cell_type": "code",
   "execution_count": 1,
   "id": "2b3a00fb-9272-4900-ade5-939d05a6a279",
   "metadata": {},
   "outputs": [
    {
     "name": "stdout",
     "output_type": "stream",
     "text": [
      "{'name': 'Seb', 'subjects': ['Maths']}\n",
      "{'name': 'Bob', 'subjects': ['Maths', 'Maths']}\n",
      "{'name': 'Wes', 'subjects': ['Maths', 'Maths', 'Maths']}\n"
     ]
    }
   ],
   "source": [
    "def add_subject(name, subject, subjects=[]):\n",
    "    subjects.append(subject)\n",
    "    return {'name': name, 'subjects': subjects}\n",
    "\n",
    "student1 = add_subject('Seb', 'Maths')\n",
    "print(student1) \n",
    "\n",
    "student2 = add_subject('Bob', 'Maths')\n",
    "print(student2) \n",
    "\n",
    "student3 = add_subject('Wes', 'Maths')\n",
    "print(student3)"
   ]
  },
  {
   "cell_type": "code",
   "execution_count": 2,
   "id": "13746d86-e8d2-4962-b6dd-3047de1db51f",
   "metadata": {},
   "outputs": [
    {
     "data": {
      "text/plain": [
       "([],)"
      ]
     },
     "execution_count": 2,
     "metadata": {},
     "output_type": "execute_result"
    }
   ],
   "source": [
    "def add_subject(name, subject, subjects=[]):\n",
    "    subjects.append(subject)\n",
    "    return {'name': name, 'subjects': subjects}\n",
    "\n",
    "add_subject.__defaults__"
   ]
  },
  {
   "cell_type": "code",
   "execution_count": 3,
   "id": "8f6906cc-343d-4b7e-9cad-4467fdfc7ac5",
   "metadata": {},
   "outputs": [
    {
     "data": {
      "text/plain": [
       "(['Maths'],)"
      ]
     },
     "execution_count": 3,
     "metadata": {},
     "output_type": "execute_result"
    }
   ],
   "source": [
    "add_subject('Seb', 'Maths')\n",
    "\n",
    "add_subject.__defaults__"
   ]
  },
  {
   "cell_type": "code",
   "execution_count": 4,
   "id": "a316f304-1628-4917-b323-1213193c6032",
   "metadata": {},
   "outputs": [
    {
     "data": {
      "text/plain": [
       "(['Maths', 'Maths'],)"
      ]
     },
     "execution_count": 4,
     "metadata": {},
     "output_type": "execute_result"
    }
   ],
   "source": [
    "add_subject('Bob', 'Maths')\n",
    "\n",
    "add_subject.__defaults__"
   ]
  },
  {
   "cell_type": "code",
   "execution_count": 5,
   "id": "fa21a76a-f226-40c0-874a-4e0e4ab0dcc4",
   "metadata": {},
   "outputs": [
    {
     "data": {
      "text/plain": [
       "(['Maths', 'Maths', 'Maths'],)"
      ]
     },
     "execution_count": 5,
     "metadata": {},
     "output_type": "execute_result"
    }
   ],
   "source": [
    "add_subject('Wes', 'Maths')\n",
    "\n",
    "add_subject.__defaults__"
   ]
  },
  {
   "cell_type": "code",
   "execution_count": 6,
   "id": "b5981f22-082e-4f3f-a143-7ef0be24fb30",
   "metadata": {},
   "outputs": [
    {
     "name": "stdout",
     "output_type": "stream",
     "text": [
      "{'name': 'Seb', 'subjects': ['Maths']}\n",
      "{'name': 'Bob', 'subjects': ['Maths']}\n",
      "{'name': 'Wes', 'subjects': ['Maths']}\n"
     ]
    }
   ],
   "source": [
    "def add_subject(name, subject, subjects=None):\n",
    "    if subjects is None:\n",
    "        subjects = []\n",
    "    subjects.append(subject)\n",
    "    return {'name': name, 'subjects': subjects}\n",
    "\n",
    "student1 = add_subject('Seb', 'Maths')\n",
    "print(student1) \n",
    "\n",
    "student2 = add_subject('Bob', 'Maths')\n",
    "print(student2) \n",
    "\n",
    "student3 = add_subject('Wes', 'Maths')\n",
    "print(student3)"
   ]
  }
 ],
 "metadata": {
  "kernelspec": {
   "display_name": "Python 3 (ipykernel)",
   "language": "python",
   "name": "python3"
  },
  "language_info": {
   "codemirror_mode": {
    "name": "ipython",
    "version": 3
   },
   "file_extension": ".py",
   "mimetype": "text/x-python",
   "name": "python",
   "nbconvert_exporter": "python",
   "pygments_lexer": "ipython3",
   "version": "3.12.4"
  }
 },
 "nbformat": 4,
 "nbformat_minor": 5
}
