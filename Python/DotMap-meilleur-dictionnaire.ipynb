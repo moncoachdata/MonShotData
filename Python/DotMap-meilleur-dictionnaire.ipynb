{
 "cells": [
  {
   "cell_type": "markdown",
   "id": "cf5b92bc-b3be-4a17-82c2-9529c6daa896",
   "metadata": {},
   "source": [
    "# DotMap : Une meilleure alternative au dictionnaire Python"
   ]
  },
  {
   "cell_type": "code",
   "execution_count": null,
   "id": "5675c47f-c97e-411f-9dfd-532794640090",
   "metadata": {},
   "outputs": [],
   "source": [
    "!pip install dotmap"
   ]
  },
  {
   "cell_type": "code",
   "execution_count": 1,
   "id": "2922b922-daea-4431-a372-85e8ffdbbb70",
   "metadata": {},
   "outputs": [],
   "source": [
    "from dotmap import DotMap"
   ]
  },
  {
   "cell_type": "code",
   "execution_count": 3,
   "id": "62ca7aab-b33f-452e-a24a-552b0d6000a0",
   "metadata": {},
   "outputs": [],
   "source": [
    "students = DotMap()\n",
    "\n",
    "students.taylor.id = \"12A\"\n",
    "students.taylor.english = 45\n",
    "\n",
    "students.ryan.id = \"12B\"\n",
    "students.ryan.english = 34\n",
    "\n",
    "students.summer.id = \"12C\"\n",
    "students.summer.english = 49"
   ]
  },
  {
   "cell_type": "code",
   "execution_count": 4,
   "id": "e2099adb-b2b7-4ee0-8c6e-3b21cd6db6c5",
   "metadata": {},
   "outputs": [
    {
     "name": "stdout",
     "output_type": "stream",
     "text": [
      "{'ryan': {'english': 34, 'id': '12B'},\n",
      " 'summer': {'english': 49, 'id': '12C'},\n",
      " 'taylor': {'english': 45, 'id': '12A'}}\n"
     ]
    }
   ],
   "source": [
    "students.pprint()"
   ]
  }
 ],
 "metadata": {
  "kernelspec": {
   "display_name": "Python 3 (ipykernel)",
   "language": "python",
   "name": "python3"
  },
  "language_info": {
   "codemirror_mode": {
    "name": "ipython",
    "version": 3
   },
   "file_extension": ".py",
   "mimetype": "text/x-python",
   "name": "python",
   "nbconvert_exporter": "python",
   "pygments_lexer": "ipython3",
   "version": "3.11.7"
  }
 },
 "nbformat": 4,
 "nbformat_minor": 5
}
