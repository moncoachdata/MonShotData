{
 "cells": [
  {
   "cell_type": "markdown",
   "id": "d856eb9a-053e-4457-a1d2-cdbdc09fbe64",
   "metadata": {},
   "source": [
    "# Ajouter des attributs à un objet Dataclass après l'initialisation"
   ]
  },
  {
   "cell_type": "code",
   "execution_count": 2,
   "id": "26eb0864-ca03-45d0-b7ce-20ca107c35f2",
   "metadata": {},
   "outputs": [],
   "source": [
    "from dataclasses import dataclass\n",
    "\n",
    "@dataclass\n",
    "class StudentMarks:\n",
    "    student_id:int\n",
    "    marks:float\n",
    "    \n",
    "    def __post_init__(self):\n",
    "        if self.marks > 30:\n",
    "            self.grade = \"Réussite\"\n",
    "        else:\n",
    "            self.grade = \"Échec\""
   ]
  },
  {
   "cell_type": "code",
   "execution_count": 3,
   "id": "12defb69-1347-4f87-b6d2-6395562f5017",
   "metadata": {},
   "outputs": [],
   "source": [
    "Seb = StudentMarks(20, 28)"
   ]
  },
  {
   "cell_type": "code",
   "execution_count": 4,
   "id": "d2a8fab9-f78d-4a4b-8ac2-a33b103145c8",
   "metadata": {},
   "outputs": [
    {
     "data": {
      "text/plain": [
       "StudentMarks(student_id=20, marks=28)"
      ]
     },
     "execution_count": 4,
     "metadata": {},
     "output_type": "execute_result"
    }
   ],
   "source": [
    "Seb"
   ]
  },
  {
   "cell_type": "code",
   "execution_count": 5,
   "id": "6d7b17c6-0d25-4158-826e-b760d1dbb033",
   "metadata": {},
   "outputs": [
    {
     "name": "stdout",
     "output_type": "stream",
     "text": [
      "Échec\n"
     ]
    }
   ],
   "source": [
    "print(Seb.grade)"
   ]
  },
  {
   "cell_type": "code",
   "execution_count": 6,
   "id": "70d516ec-2c1c-434a-ab66-5eb92cb2fb04",
   "metadata": {},
   "outputs": [],
   "source": [
    "Juan = StudentMarks(\"B20\", 43)"
   ]
  },
  {
   "cell_type": "code",
   "execution_count": 7,
   "id": "63be9b8f-86fa-4b71-bfb1-ea486aec0d1b",
   "metadata": {},
   "outputs": [
    {
     "data": {
      "text/plain": [
       "StudentMarks(student_id='B20', marks=43)"
      ]
     },
     "execution_count": 7,
     "metadata": {},
     "output_type": "execute_result"
    }
   ],
   "source": [
    "Juan"
   ]
  },
  {
   "cell_type": "code",
   "execution_count": 8,
   "id": "f6528745-2e1b-48e4-8731-ede0a0970e52",
   "metadata": {},
   "outputs": [
    {
     "name": "stdout",
     "output_type": "stream",
     "text": [
      "Réussite\n"
     ]
    }
   ],
   "source": [
    "print(Juan.grade)"
   ]
  }
 ],
 "metadata": {
  "kernelspec": {
   "display_name": "Python 3 (ipykernel)",
   "language": "python",
   "name": "python3"
  },
  "language_info": {
   "codemirror_mode": {
    "name": "ipython",
    "version": 3
   },
   "file_extension": ".py",
   "mimetype": "text/x-python",
   "name": "python",
   "nbconvert_exporter": "python",
   "pygments_lexer": "ipython3",
   "version": "3.11.7"
  }
 },
 "nbformat": 4,
 "nbformat_minor": 5
}
