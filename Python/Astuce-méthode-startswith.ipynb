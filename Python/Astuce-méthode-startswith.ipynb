{
 "cells": [
  {
   "cell_type": "markdown",
   "id": "99a9b64b-3bca-49d7-95ce-486b55fec36d",
   "metadata": {},
   "source": [
    "# Une astuce cachée pour utiliser startswith et endswith comme un pro\n",
    "\n",
    "[Lien du post MonShotData](https://www.monshotdata.com/p/une-astuce-cachee-pour-utiliser-startswith-et-endswith-comme-un-pro)"
   ]
  },
  {
   "cell_type": "code",
   "execution_count": 1,
   "id": "d03b73eb-d23b-4647-823a-e95e9f8abb8d",
   "metadata": {},
   "outputs": [
    {
     "name": "stdout",
     "output_type": "stream",
     "text": [
      "Pierre\n",
      "Miguel\n"
     ]
    }
   ],
   "source": [
    "names = [\"John\", \"Pierre\", \"Miguel\", \"Hannah\"]\n",
    "\n",
    "for name in names:\n",
    "    if name.startswith(\"Pi\") or name.startswith(\"Mi\"):  # Condition multiple\n",
    "        print(name)"
   ]
  },
  {
   "cell_type": "code",
   "execution_count": 2,
   "id": "5f64efd1-9f98-4f3c-9326-197aadc42291",
   "metadata": {},
   "outputs": [
    {
     "name": "stdout",
     "output_type": "stream",
     "text": [
      "Pierre\n",
      "Miguel\n"
     ]
    }
   ],
   "source": [
    "names = [\"John\", \"Pierre\", \"Miguel\", \"Hannah\"]\n",
    "\n",
    "for name in names:\n",
    "    if name.startswith((\"Pi\", \"Mi\")):  # une seule condition\n",
    "        print(name)"
   ]
  }
 ],
 "metadata": {
  "kernelspec": {
   "display_name": "Python 3 (ipykernel)",
   "language": "python",
   "name": "python3"
  },
  "language_info": {
   "codemirror_mode": {
    "name": "ipython",
    "version": 3
   },
   "file_extension": ".py",
   "mimetype": "text/x-python",
   "name": "python",
   "nbconvert_exporter": "python",
   "pygments_lexer": "ipython3",
   "version": "3.12.4"
  }
 },
 "nbformat": 4,
 "nbformat_minor": 5
}
