{
 "cells": [
  {
   "cell_type": "markdown",
   "id": "30148aaf-bd29-4cbe-8caa-877bfea2fc87",
   "metadata": {},
   "source": [
    "# Rendre la notation par points plus puissante en Python"
   ]
  },
  {
   "cell_type": "code",
   "execution_count": 1,
   "id": "27edfbd0-81f7-4edd-9abe-7342f0d8fc42",
   "metadata": {},
   "outputs": [],
   "source": [
    "class Square:\n",
    "    def __init__(self, length):\n",
    "        self._side = length\n",
    "\n",
    "    @property\n",
    "    def side(self):\n",
    "        return self._side\n",
    "\n",
    "    @side.setter\n",
    "    def side(self, length):\n",
    "        if length < 0:\n",
    "            raise ValueError(\"Le côté ne peut pas être négatif\")\n",
    "        else:\n",
    "            self._side = length"
   ]
  },
  {
   "cell_type": "code",
   "execution_count": 3,
   "id": "632d68f9-0eed-4dff-8d58-7bb4ec0a6568",
   "metadata": {},
   "outputs": [],
   "source": [
    "s = Square(10)"
   ]
  },
  {
   "cell_type": "code",
   "execution_count": 4,
   "id": "06a9c574-c327-4687-bf4a-c275ff32d626",
   "metadata": {},
   "outputs": [
    {
     "data": {
      "text/plain": [
       "10"
      ]
     },
     "execution_count": 4,
     "metadata": {},
     "output_type": "execute_result"
    }
   ],
   "source": [
    "s.side # Getter"
   ]
  },
  {
   "cell_type": "code",
   "execution_count": 7,
   "id": "f01643ee-f76e-46d8-86a3-58036c584c15",
   "metadata": {},
   "outputs": [
    {
     "ename": "ValueError",
     "evalue": "Le côté ne peut pas être négatif",
     "output_type": "error",
     "traceback": [
      "\u001b[0;31m---------------------------------------------------------------------------\u001b[0m",
      "\u001b[0;31mValueError\u001b[0m                                Traceback (most recent call last)",
      "Cell \u001b[0;32mIn[7], line 1\u001b[0m\n\u001b[0;32m----> 1\u001b[0m s\u001b[38;5;241m.\u001b[39mside \u001b[38;5;241m=\u001b[39m \u001b[38;5;241m-\u001b[39m\u001b[38;5;241m2\u001b[39m\n",
      "Cell \u001b[0;32mIn[1], line 12\u001b[0m, in \u001b[0;36mSquare.side\u001b[0;34m(self, length)\u001b[0m\n\u001b[1;32m      9\u001b[0m \u001b[38;5;129m@side\u001b[39m\u001b[38;5;241m.\u001b[39msetter\n\u001b[1;32m     10\u001b[0m \u001b[38;5;28;01mdef\u001b[39;00m \u001b[38;5;21mside\u001b[39m(\u001b[38;5;28mself\u001b[39m, length):\n\u001b[1;32m     11\u001b[0m     \u001b[38;5;28;01mif\u001b[39;00m length \u001b[38;5;241m<\u001b[39m \u001b[38;5;241m0\u001b[39m:\n\u001b[0;32m---> 12\u001b[0m         \u001b[38;5;28;01mraise\u001b[39;00m \u001b[38;5;167;01mValueError\u001b[39;00m(\u001b[38;5;124m\"\u001b[39m\u001b[38;5;124mLe côté ne peut pas être négatif\u001b[39m\u001b[38;5;124m\"\u001b[39m)\n\u001b[1;32m     13\u001b[0m     \u001b[38;5;28;01melse\u001b[39;00m:\n\u001b[1;32m     14\u001b[0m         \u001b[38;5;28mself\u001b[39m\u001b[38;5;241m.\u001b[39m_side \u001b[38;5;241m=\u001b[39m length\n",
      "\u001b[0;31mValueError\u001b[0m: Le côté ne peut pas être négatif"
     ]
    }
   ],
   "source": [
    "s.side = -2 # Setter (avec notation point)"
   ]
  }
 ],
 "metadata": {
  "kernelspec": {
   "display_name": "Python 3 (ipykernel)",
   "language": "python",
   "name": "python3"
  },
  "language_info": {
   "codemirror_mode": {
    "name": "ipython",
    "version": 3
   },
   "file_extension": ".py",
   "mimetype": "text/x-python",
   "name": "python",
   "nbconvert_exporter": "python",
   "pygments_lexer": "ipython3",
   "version": "3.11.7"
  }
 },
 "nbformat": 4,
 "nbformat_minor": 5
}
