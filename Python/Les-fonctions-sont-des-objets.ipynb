{
 "cells": [
  {
   "cell_type": "markdown",
   "id": "75834e63-8e61-4c3f-a528-b65c1d439b97",
   "metadata": {},
   "source": [
    "# Un aspect contre-intuitif sur le fonctionnement des fonctions en Python"
   ]
  },
  {
   "cell_type": "code",
   "execution_count": 2,
   "id": "afa53448-2d88-41c3-a006-afce4996f4d3",
   "metadata": {},
   "outputs": [],
   "source": [
    "def my_func(): \n",
    "    pass"
   ]
  },
  {
   "cell_type": "markdown",
   "id": "8a9d0448-8162-4c24-88df-7b9e28d01e50",
   "metadata": {},
   "source": [
    "### 1) Vérifier le type d' un objet fonction"
   ]
  },
  {
   "cell_type": "code",
   "execution_count": 3,
   "id": "683c6f38-d9e6-4066-8b85-2a1a3b25b385",
   "metadata": {},
   "outputs": [
    {
     "data": {
      "text/plain": [
       "function"
      ]
     },
     "execution_count": 3,
     "metadata": {},
     "output_type": "execute_result"
    }
   ],
   "source": [
    "type(my_func)"
   ]
  },
  {
   "cell_type": "markdown",
   "id": "25d2705d-7822-4947-8daf-4ba319a72c70",
   "metadata": {},
   "source": [
    "### 2) Ajouter de nouveaux attributs à l'objet fonction"
   ]
  },
  {
   "cell_type": "code",
   "execution_count": 4,
   "id": "61152a2f-e5bd-45a1-a0a6-ea8a171480cd",
   "metadata": {},
   "outputs": [],
   "source": [
    "my_func.my_attr = 'new_attribute'"
   ]
  },
  {
   "cell_type": "code",
   "execution_count": 5,
   "id": "42d2c516-337e-4a50-b4e1-5d964e0cd1d6",
   "metadata": {},
   "outputs": [
    {
     "data": {
      "text/plain": [
       "'new_attribute'"
      ]
     },
     "execution_count": 5,
     "metadata": {},
     "output_type": "execute_result"
    }
   ],
   "source": [
    "my_func.my_attr"
   ]
  },
  {
   "cell_type": "markdown",
   "id": "f44330e6-0c62-4991-b1be-5a909c8ec739",
   "metadata": {},
   "source": [
    "### 3) Passer en argument à d'autres fonctions"
   ]
  },
  {
   "cell_type": "code",
   "execution_count": 6,
   "id": "ca7ad0e3-a7dc-4b49-96c0-4779137ac3d8",
   "metadata": {},
   "outputs": [],
   "source": [
    "def new_func(f):\n",
    "    pass"
   ]
  },
  {
   "cell_type": "code",
   "execution_count": 7,
   "id": "b2db7eeb-202a-4ac1-9499-dad5362ee1b6",
   "metadata": {},
   "outputs": [],
   "source": [
    "new_func(my_func)"
   ]
  },
  {
   "cell_type": "markdown",
   "id": "9a52f78f-745b-4519-b0c4-a80243d75996",
   "metadata": {},
   "source": [
    "### 4) Accéder aux attributs/méthodes au niveau de l'instance"
   ]
  },
  {
   "cell_type": "code",
   "execution_count": 8,
   "id": "02900dcc-a8bc-4d0c-9906-4c48bc0d968e",
   "metadata": {},
   "outputs": [
    {
     "data": {
      "text/plain": [
       "'my_func'"
      ]
     },
     "execution_count": 8,
     "metadata": {},
     "output_type": "execute_result"
    }
   ],
   "source": [
    "my_func.__name__"
   ]
  },
  {
   "cell_type": "code",
   "execution_count": 9,
   "id": "b6360ef2-5add-4192-afd5-1a4c2f4b3202",
   "metadata": {},
   "outputs": [
    {
     "data": {
      "text/plain": [
       "{'my_attr': 'new_attribute'}"
      ]
     },
     "execution_count": 9,
     "metadata": {},
     "output_type": "execute_result"
    }
   ],
   "source": [
    "my_func.__dict__"
   ]
  }
 ],
 "metadata": {
  "kernelspec": {
   "display_name": "Python 3 (ipykernel)",
   "language": "python",
   "name": "python3"
  },
  "language_info": {
   "codemirror_mode": {
    "name": "ipython",
    "version": 3
   },
   "file_extension": ".py",
   "mimetype": "text/x-python",
   "name": "python",
   "nbconvert_exporter": "python",
   "pygments_lexer": "ipython3",
   "version": "3.12.4"
  }
 },
 "nbformat": 4,
 "nbformat_minor": 5
}
