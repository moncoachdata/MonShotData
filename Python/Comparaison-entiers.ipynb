{
 "cells": [
  {
   "cell_type": "markdown",
   "id": "56a901f6-0820-4cc2-8855-b1b6b09048d5",
   "metadata": {},
   "source": [
    "# Pourquoi 256 est 256 mais 257 n'est pas 257 ?"
   ]
  },
  {
   "cell_type": "markdown",
   "id": "0a89e5ce-2409-4ec7-860a-6546f8392d59",
   "metadata": {},
   "source": [
    "### Méthode 1"
   ]
  },
  {
   "cell_type": "code",
   "execution_count": 3,
   "id": "1dd2b36b-11a5-45fe-93b8-27f7e28c3b1f",
   "metadata": {},
   "outputs": [
    {
     "data": {
      "text/plain": [
       "True"
      ]
     },
     "execution_count": 3,
     "metadata": {},
     "output_type": "execute_result"
    }
   ],
   "source": [
    "a = 256\n",
    "b = 256\n",
    "\n",
    "a is b"
   ]
  },
  {
   "cell_type": "code",
   "execution_count": 5,
   "id": "3142475e-3d34-42dd-b2ae-7f0c048cec4c",
   "metadata": {},
   "outputs": [
    {
     "data": {
      "text/plain": [
       "(4539798728, 4539798728)"
      ]
     },
     "execution_count": 5,
     "metadata": {},
     "output_type": "execute_result"
    }
   ],
   "source": [
    "id(a), id(b)"
   ]
  },
  {
   "cell_type": "markdown",
   "id": "819ff88d-474c-46dd-a6aa-d44087e81f89",
   "metadata": {},
   "source": [
    "### Méthode 2"
   ]
  },
  {
   "cell_type": "code",
   "execution_count": 8,
   "id": "4b7909d7-50d5-4cd5-a0cd-e6690c059e20",
   "metadata": {},
   "outputs": [
    {
     "data": {
      "text/plain": [
       "False"
      ]
     },
     "execution_count": 8,
     "metadata": {},
     "output_type": "execute_result"
    }
   ],
   "source": [
    "a = 257\n",
    "b = 257\n",
    "\n",
    "a is b"
   ]
  },
  {
   "cell_type": "code",
   "execution_count": 10,
   "id": "07ca83d3-1f97-4868-a8fd-7f555867a576",
   "metadata": {},
   "outputs": [
    {
     "data": {
      "text/plain": [
       "True"
      ]
     },
     "execution_count": 10,
     "metadata": {},
     "output_type": "execute_result"
    }
   ],
   "source": [
    "a == b"
   ]
  },
  {
   "cell_type": "code",
   "execution_count": 12,
   "id": "daec1b83-b443-4773-a0ed-bfbd85fa5317",
   "metadata": {},
   "outputs": [
    {
     "data": {
      "text/plain": [
       "(5321850576, 5321850480)"
      ]
     },
     "execution_count": 12,
     "metadata": {},
     "output_type": "execute_result"
    }
   ],
   "source": [
    "id(a), id(b)"
   ]
  },
  {
   "cell_type": "markdown",
   "id": "923a70de-8e9b-4a33-a1d6-fe0e31574704",
   "metadata": {},
   "source": [
    "### Méthode 3"
   ]
  },
  {
   "cell_type": "code",
   "execution_count": 18,
   "id": "9dc8d7b3-7de2-4087-8350-830d380b2ed3",
   "metadata": {},
   "outputs": [
    {
     "data": {
      "text/plain": [
       "True"
      ]
     },
     "execution_count": 18,
     "metadata": {},
     "output_type": "execute_result"
    }
   ],
   "source": [
    "a, b = 257, 257\n",
    "\n",
    "a is b"
   ]
  },
  {
   "cell_type": "code",
   "execution_count": 20,
   "id": "4f04a602-97a1-47c1-a005-32aa9887a8be",
   "metadata": {},
   "outputs": [
    {
     "data": {
      "text/plain": [
       "(5321850128, 5321850128)"
      ]
     },
     "execution_count": 20,
     "metadata": {},
     "output_type": "execute_result"
    }
   ],
   "source": [
    "id(a), id(b)"
   ]
  }
 ],
 "metadata": {
  "kernelspec": {
   "display_name": "Python 3 (ipykernel)",
   "language": "python",
   "name": "python3"
  },
  "language_info": {
   "codemirror_mode": {
    "name": "ipython",
    "version": 3
   },
   "file_extension": ".py",
   "mimetype": "text/x-python",
   "name": "python",
   "nbconvert_exporter": "python",
   "pygments_lexer": "ipython3",
   "version": "3.11.7"
  }
 },
 "nbformat": 4,
 "nbformat_minor": 5
}
