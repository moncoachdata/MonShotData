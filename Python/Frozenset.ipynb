{
 "cells": [
  {
   "cell_type": "markdown",
   "id": "d925c332-1a8f-4015-b5f0-7e0a4beabfeb",
   "metadata": {},
   "source": [
    "# List : Tuple :: Set : ?"
   ]
  },
  {
   "cell_type": "code",
   "execution_count": 2,
   "id": "a7b02367-ef11-464a-802a-074d672f7720",
   "metadata": {},
   "outputs": [],
   "source": [
    "my_set = {1, 2, 3}"
   ]
  },
  {
   "cell_type": "code",
   "execution_count": 3,
   "id": "14ac35c5-0171-465c-8aaa-6364839b4d11",
   "metadata": {},
   "outputs": [
    {
     "ename": "TypeError",
     "evalue": "unhashable type: 'set'",
     "output_type": "error",
     "traceback": [
      "\u001b[0;31m---------------------------------------------------------------------------\u001b[0m",
      "\u001b[0;31mTypeError\u001b[0m                                 Traceback (most recent call last)",
      "Cell \u001b[0;32mIn[3], line 1\u001b[0m\n\u001b[0;32m----> 1\u001b[0m my_dict \u001b[38;5;241m=\u001b[39m {my_set: \u001b[38;5;124m\"\u001b[39m\u001b[38;5;124mUn set\u001b[39m\u001b[38;5;124m\"\u001b[39m}\n",
      "\u001b[0;31mTypeError\u001b[0m: unhashable type: 'set'"
     ]
    }
   ],
   "source": [
    "my_dict = {my_set: \"Un set\"}"
   ]
  },
  {
   "cell_type": "markdown",
   "id": "c699138d-3a97-4897-9803-828dc930980a",
   "metadata": {},
   "source": [
    "## Frozenset"
   ]
  },
  {
   "cell_type": "code",
   "execution_count": 7,
   "id": "a11775af-52f0-4104-a024-dd6cf015b6ab",
   "metadata": {},
   "outputs": [],
   "source": [
    "my_set = frozenset({1, 2, 3})"
   ]
  },
  {
   "cell_type": "code",
   "execution_count": 9,
   "id": "54419995-4c14-4f75-aeb5-2eb7a5e174df",
   "metadata": {},
   "outputs": [],
   "source": [
    "my_dict = {my_set: \"Un frozen set\"}"
   ]
  },
  {
   "cell_type": "code",
   "execution_count": 11,
   "id": "d48f9aeb-d189-4778-be1e-e0d96a0e76f4",
   "metadata": {},
   "outputs": [
    {
     "data": {
      "text/plain": [
       "'Un frozen set'"
      ]
     },
     "execution_count": 11,
     "metadata": {},
     "output_type": "execute_result"
    }
   ],
   "source": [
    "my_dict[my_set]"
   ]
  }
 ],
 "metadata": {
  "kernelspec": {
   "display_name": "Python 3 (ipykernel)",
   "language": "python",
   "name": "python3"
  },
  "language_info": {
   "codemirror_mode": {
    "name": "ipython",
    "version": 3
   },
   "file_extension": ".py",
   "mimetype": "text/x-python",
   "name": "python",
   "nbconvert_exporter": "python",
   "pygments_lexer": "ipython3",
   "version": "3.11.7"
  }
 },
 "nbformat": 4,
 "nbformat_minor": 5
}
