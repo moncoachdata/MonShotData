{
 "cells": [
  {
   "cell_type": "markdown",
   "id": "d6ad1dda-8825-423d-a66e-b6934ea3c93c",
   "metadata": {},
   "source": [
    "# Tu peux ajouter une liste comme clé de dictionnaire (techniquement) !"
   ]
  },
  {
   "cell_type": "code",
   "execution_count": 1,
   "id": "ddd4df9d-bda7-4122-b36e-b341c25097bf",
   "metadata": {},
   "outputs": [],
   "source": [
    "class MyList(list):\n",
    "    def __hash__(self):\n",
    "        return 0"
   ]
  },
  {
   "cell_type": "code",
   "execution_count": 2,
   "id": "14eceda8-1700-4629-9706-0f04c6642abe",
   "metadata": {},
   "outputs": [],
   "source": [
    "my_list = MyList([1,2,3])"
   ]
  },
  {
   "cell_type": "code",
   "execution_count": 3,
   "id": "b761ded7-5a64-46a1-b2e1-9b2c6ca59ec6",
   "metadata": {},
   "outputs": [],
   "source": [
    "my_dict = {}"
   ]
  },
  {
   "cell_type": "code",
   "execution_count": 4,
   "id": "0106bca6-d556-49ea-ba93-127ff5aa7c30",
   "metadata": {},
   "outputs": [],
   "source": [
    "my_dict[my_list] = True"
   ]
  },
  {
   "cell_type": "code",
   "execution_count": 5,
   "id": "080fee71-b44f-4d5e-9303-4ffaf9783efe",
   "metadata": {},
   "outputs": [
    {
     "data": {
      "text/plain": [
       "{[1, 2, 3]: True}"
      ]
     },
     "execution_count": 5,
     "metadata": {},
     "output_type": "execute_result"
    }
   ],
   "source": [
    "my_dict"
   ]
  }
 ],
 "metadata": {
  "kernelspec": {
   "display_name": "Python 3 (ipykernel)",
   "language": "python",
   "name": "python3"
  },
  "language_info": {
   "codemirror_mode": {
    "name": "ipython",
    "version": 3
   },
   "file_extension": ".py",
   "mimetype": "text/x-python",
   "name": "python",
   "nbconvert_exporter": "python",
   "pygments_lexer": "ipython3",
   "version": "3.12.4"
  }
 },
 "nbformat": 4,
 "nbformat_minor": 5
}
