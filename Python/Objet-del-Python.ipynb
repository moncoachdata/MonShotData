{
 "cells": [
  {
   "cell_type": "markdown",
   "id": "adbf2027-69e7-487a-91ea-86700a0c64c9",
   "metadata": {},
   "source": [
    "# Python : `del` ne fait pas ce que tu crois\n",
    "\n",
    "[Lien du post MonShotData](https://www.monshotdata.com/p/python-del)"
   ]
  },
  {
   "cell_type": "code",
   "execution_count": 1,
   "id": "af8d9843-a8d7-45ee-96c0-fa1c57dff532",
   "metadata": {},
   "outputs": [],
   "source": [
    "class MyClass:\n",
    "    def __del__(self):\n",
    "        # Invoqué lorsqu'un objet est supprimé\n",
    "        print(\"Objet supprimé !\")"
   ]
  },
  {
   "cell_type": "code",
   "execution_count": 2,
   "id": "fd49d7be-4a71-4a60-9c29-714a8d1af809",
   "metadata": {},
   "outputs": [],
   "source": [
    "ObjectA = MyClass()  # Créer un nouvel objet"
   ]
  },
  {
   "cell_type": "code",
   "execution_count": 3,
   "id": "d38a8aff-d498-41c0-825c-f2369a0ae907",
   "metadata": {},
   "outputs": [
    {
     "name": "stdout",
     "output_type": "stream",
     "text": [
      "Objet supprimé !\n"
     ]
    }
   ],
   "source": [
    "del ObjectA"
   ]
  },
  {
   "cell_type": "code",
   "execution_count": 4,
   "id": "ee2ebf47-e7b8-4582-867f-685f889639a9",
   "metadata": {},
   "outputs": [],
   "source": [
    "class MyClass:\n",
    "    def __del__(self): \n",
    "        print(\"Objet supprimé !\")"
   ]
  },
  {
   "cell_type": "code",
   "execution_count": 5,
   "id": "998f7fc1-df80-42a3-8bc2-42c71b412c6c",
   "metadata": {},
   "outputs": [],
   "source": [
    "ObjectA = MyClass()  # Créer un nouvel objet"
   ]
  },
  {
   "cell_type": "code",
   "execution_count": 6,
   "id": "7cab27dd-9d96-4056-b373-b3fc7405fc30",
   "metadata": {},
   "outputs": [],
   "source": [
    "ObjectB = ObjectA  # Attribuer une autre référence"
   ]
  },
  {
   "cell_type": "code",
   "execution_count": 7,
   "id": "fefc5390-1b2f-49b7-bb20-9c756ada0835",
   "metadata": {},
   "outputs": [],
   "source": [
    "del ObjectA  # N'imprime pas \"Objet supprimé\""
   ]
  },
  {
   "cell_type": "code",
   "execution_count": 8,
   "id": "94859ce0-8620-4815-8344-dd3d73bcc35f",
   "metadata": {},
   "outputs": [
    {
     "name": "stdout",
     "output_type": "stream",
     "text": [
      "Objet supprimé !\n"
     ]
    }
   ],
   "source": [
    "del ObjectB  # Nous obtenons maintenant le résultat"
   ]
  }
 ],
 "metadata": {
  "kernelspec": {
   "display_name": "Python 3 (ipykernel)",
   "language": "python",
   "name": "python3"
  },
  "language_info": {
   "codemirror_mode": {
    "name": "ipython",
    "version": 3
   },
   "file_extension": ".py",
   "mimetype": "text/x-python",
   "name": "python",
   "nbconvert_exporter": "python",
   "pygments_lexer": "ipython3",
   "version": "3.12.9"
  }
 },
 "nbformat": 4,
 "nbformat_minor": 5
}
