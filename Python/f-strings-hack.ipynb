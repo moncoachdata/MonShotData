{
 "cells": [
  {
   "cell_type": "markdown",
   "id": "25e05ba5-5e5a-4b0d-bb1d-558a37c68421",
   "metadata": {},
   "source": [
    "# Les f-strings sont beaucoup plus polyvalentes que tu ne le penses"
   ]
  },
  {
   "cell_type": "code",
   "execution_count": 1,
   "id": "048fe8f8-1a7c-4083-a6a2-b3204397c03c",
   "metadata": {},
   "outputs": [
    {
     "name": "stdout",
     "output_type": "stream",
     "text": [
      "2 décimales : 205.00\n",
      "5 chiffres : 00205\n",
      "scientifique : 2.050000e+02\n",
      "hex : 0xcd\n",
      "binaire : 11001101\n",
      "octal : 315\n"
     ]
    }
   ],
   "source": [
    "number = 205\n",
    "\n",
    "\n",
    "# chiffres après la virgule\n",
    "print(f\"2 décimales : {number:.2f}\")\n",
    "\n",
    "# nombre total de chiffres\n",
    "print(f\"5 chiffres : {number:05}\")\n",
    "\n",
    "# notation scientifique\n",
    "print(f\"scientifique : {number:e}\") \n",
    "\n",
    "# conversion hexadécimale\n",
    "print(f\"hex : {number:#0x}\")\n",
    "\n",
    "# conversion binaire\n",
    "print(f\"binaire : {number:b}\")\n",
    "\n",
    "# conversion en octal\n",
    "print(f\"octal : {number:o}\")"
   ]
  }
 ],
 "metadata": {
  "kernelspec": {
   "display_name": "Python 3 (ipykernel)",
   "language": "python",
   "name": "python3"
  },
  "language_info": {
   "codemirror_mode": {
    "name": "ipython",
    "version": 3
   },
   "file_extension": ".py",
   "mimetype": "text/x-python",
   "name": "python",
   "nbconvert_exporter": "python",
   "pygments_lexer": "ipython3",
   "version": "3.12.4"
  }
 },
 "nbformat": 4,
 "nbformat_minor": 5
}
