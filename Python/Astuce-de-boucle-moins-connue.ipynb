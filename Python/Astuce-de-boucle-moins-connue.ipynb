{
 "cells": [
  {
   "cell_type": "markdown",
   "id": "f110cec8-4ac2-46d7-b5a1-df04eab07f1e",
   "metadata": {},
   "source": [
    "# La plupart des programmeurs Python ignorent ceci sur les boucles For"
   ]
  },
  {
   "cell_type": "code",
   "execution_count": 1,
   "id": "9bc4854c-0459-4ef5-a231-0e133639feac",
   "metadata": {},
   "outputs": [
    {
     "name": "stdout",
     "output_type": "stream",
     "text": [
      "num = 0\n",
      "num = 1\n",
      "num = 2\n",
      "num = 3\n",
      "num = 4\n"
     ]
    }
   ],
   "source": [
    "for num in range(5):\n",
    "    print(f\"num = {num}\")\n",
    "    num = 10"
   ]
  }
 ],
 "metadata": {
  "kernelspec": {
   "display_name": "Python 3 (ipykernel)",
   "language": "python",
   "name": "python3"
  },
  "language_info": {
   "codemirror_mode": {
    "name": "ipython",
    "version": 3
   },
   "file_extension": ".py",
   "mimetype": "text/x-python",
   "name": "python",
   "nbconvert_exporter": "python",
   "pygments_lexer": "ipython3",
   "version": "3.12.4"
  }
 },
 "nbformat": 4,
 "nbformat_minor": 5
}
