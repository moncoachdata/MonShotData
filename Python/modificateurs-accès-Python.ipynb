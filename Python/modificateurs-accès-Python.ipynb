{
 "cells": [
  {
   "cell_type": "markdown",
   "id": "3cc4a35d-4473-4346-bc08-20e61bd1ac4d",
   "metadata": {},
   "source": [
    "# Pourquoi Python n'offre-t-il pas une véritable encapsulation de la POO ?"
   ]
  },
  {
   "cell_type": "code",
   "execution_count": 1,
   "id": "67fbc672-6395-41d4-bdf3-686735d31935",
   "metadata": {},
   "outputs": [],
   "source": [
    "class MyClass:\n",
    "    def __init__(self):\n",
    "        self.public_attr     = \"Je suis public\"   # 0 underscore\n",
    "        self._protected_attr = \"Je suis protégé\"  # 1 underscore (_)\n",
    "        self.__private_attr  = \"Je suis privé\"    # 2 underscores (__)"
   ]
  },
  {
   "cell_type": "code",
   "execution_count": 2,
   "id": "324c5d0c-75d1-4d7d-80c1-13ce47b6974d",
   "metadata": {},
   "outputs": [
    {
     "name": "stdout",
     "output_type": "stream",
     "text": [
      "Je suis public\n"
     ]
    }
   ],
   "source": [
    "my_obj = MyClass()\n",
    "\n",
    "print(my_obj.public_attr)"
   ]
  },
  {
   "cell_type": "code",
   "execution_count": 3,
   "id": "037a8499-b0b5-4714-9860-0d19413236f2",
   "metadata": {},
   "outputs": [
    {
     "name": "stdout",
     "output_type": "stream",
     "text": [
      "Je suis protégé\n"
     ]
    }
   ],
   "source": [
    "print(my_obj._protected_attr)"
   ]
  },
  {
   "cell_type": "code",
   "execution_count": 4,
   "id": "c82f6a9a-a887-4ae4-9b43-d98d140b67a3",
   "metadata": {},
   "outputs": [
    {
     "name": "stdout",
     "output_type": "stream",
     "text": [
      "Je suis privé\n"
     ]
    }
   ],
   "source": [
    "print(my_obj._MyClass__private_attr)"
   ]
  }
 ],
 "metadata": {
  "kernelspec": {
   "display_name": "Python 3 (ipykernel)",
   "language": "python",
   "name": "python3"
  },
  "language_info": {
   "codemirror_mode": {
    "name": "ipython",
    "version": 3
   },
   "file_extension": ".py",
   "mimetype": "text/x-python",
   "name": "python",
   "nbconvert_exporter": "python",
   "pygments_lexer": "ipython3",
   "version": "3.12.4"
  }
 },
 "nbformat": 4,
 "nbformat_minor": 5
}
