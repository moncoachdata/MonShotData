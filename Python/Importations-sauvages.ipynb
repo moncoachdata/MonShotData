{
 "cells": [
  {
   "cell_type": "markdown",
   "id": "a8c45ca0-b020-4b5d-9c12-3eb86ed178d1",
   "metadata": {},
   "source": [
    "# Empêcher les importations sauvages en Python"
   ]
  },
  {
   "cell_type": "code",
   "execution_count": 4,
   "id": "8816dca4-c276-4448-8f0f-5d29d448d5a4",
   "metadata": {},
   "outputs": [
    {
     "name": "stdout",
     "output_type": "stream",
     "text": [
      "__all__ = [\"func1\", \"func2\"]\n",
      "\n",
      "def func1():\n",
      "    return \"Fonction 1\"\n",
      "\n",
      "def func2():\n",
      "    return \"Fonction 2\"\n",
      "    \n",
      "def func3():\n",
      "    return \"Fonction 3\""
     ]
    }
   ],
   "source": [
    "!cat all_example.py"
   ]
  },
  {
   "cell_type": "code",
   "execution_count": 6,
   "id": "5c1298a8-730d-4ec9-995b-2df188e91798",
   "metadata": {},
   "outputs": [],
   "source": [
    "from all_example import *"
   ]
  },
  {
   "cell_type": "code",
   "execution_count": 8,
   "id": "7d40a91e-6cff-46f7-aa23-e9ee392e8182",
   "metadata": {},
   "outputs": [
    {
     "data": {
      "text/plain": [
       "'Fonction 1'"
      ]
     },
     "execution_count": 8,
     "metadata": {},
     "output_type": "execute_result"
    }
   ],
   "source": [
    "func1()"
   ]
  },
  {
   "cell_type": "code",
   "execution_count": 10,
   "id": "0b676ac7-3b0e-45e5-b170-c0bff01089ac",
   "metadata": {},
   "outputs": [
    {
     "data": {
      "text/plain": [
       "'Fonction 2'"
      ]
     },
     "execution_count": 10,
     "metadata": {},
     "output_type": "execute_result"
    }
   ],
   "source": [
    "func2()"
   ]
  },
  {
   "cell_type": "code",
   "execution_count": 12,
   "id": "fe0df782-c162-470a-b8ea-3c99a9cc7af0",
   "metadata": {},
   "outputs": [
    {
     "ename": "NameError",
     "evalue": "name 'func3' is not defined",
     "output_type": "error",
     "traceback": [
      "\u001b[0;31m---------------------------------------------------------------------------\u001b[0m",
      "\u001b[0;31mNameError\u001b[0m                                 Traceback (most recent call last)",
      "Cell \u001b[0;32mIn[12], line 1\u001b[0m\n\u001b[0;32m----> 1\u001b[0m func3()\n",
      "\u001b[0;31mNameError\u001b[0m: name 'func3' is not defined"
     ]
    }
   ],
   "source": [
    "func3()"
   ]
  }
 ],
 "metadata": {
  "kernelspec": {
   "display_name": "Python 3 (ipykernel)",
   "language": "python",
   "name": "python3"
  },
  "language_info": {
   "codemirror_mode": {
    "name": "ipython",
    "version": 3
   },
   "file_extension": ".py",
   "mimetype": "text/x-python",
   "name": "python",
   "nbconvert_exporter": "python",
   "pygments_lexer": "ipython3",
   "version": "3.11.7"
  }
 },
 "nbformat": 4,
 "nbformat_minor": 5
}
