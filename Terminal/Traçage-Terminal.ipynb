{
 "cells": [
  {
   "cell_type": "markdown",
   "id": "9f96d40b-185c-4e76-964f-cef377925eb1",
   "metadata": {},
   "source": [
    "# Créer des graphiques de données à partir du Terminal"
   ]
  },
  {
   "cell_type": "code",
   "execution_count": null,
   "id": "cb227418-a21f-4645-9d25-74c42e08d3ec",
   "metadata": {},
   "outputs": [],
   "source": [
    "!pip install bashplotlib"
   ]
  },
  {
   "cell_type": "markdown",
   "id": "061899fd-8b80-474a-a91a-e0604f122bb6",
   "metadata": {},
   "source": [
    "## Terminal"
   ]
  },
  {
   "cell_type": "code",
   "execution_count": 1,
   "id": "93497710-5349-4b70-9c02-d3ddcabfc73d",
   "metadata": {},
   "outputs": [],
   "source": [
    "## >>> from bashplotlib.histogram import plot_hist\n",
    "## >>> np_arr = np.random.normal(size=1000)\n",
    "## >>> plot_hist(np_arr, bincount=50)"
   ]
  }
 ],
 "metadata": {
  "kernelspec": {
   "display_name": "Python 3 (ipykernel)",
   "language": "python",
   "name": "python3"
  },
  "language_info": {
   "codemirror_mode": {
    "name": "ipython",
    "version": 3
   },
   "file_extension": ".py",
   "mimetype": "text/x-python",
   "name": "python",
   "nbconvert_exporter": "python",
   "pygments_lexer": "ipython3",
   "version": "3.12.4"
  }
 },
 "nbformat": 4,
 "nbformat_minor": 5
}
