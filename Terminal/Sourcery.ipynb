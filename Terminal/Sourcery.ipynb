{
 "cells": [
  {
   "cell_type": "markdown",
   "id": "8bc01683-666b-4d57-b0b6-f5575c53cf1a",
   "metadata": {},
   "source": [
    "# Refactorisation automatisée du code avec Sourcery"
   ]
  },
  {
   "cell_type": "code",
   "execution_count": null,
   "id": "f8415a14-5c5e-4115-a0da-81caf239f761",
   "metadata": {},
   "outputs": [],
   "source": [
    "!pip install sourcery-cli"
   ]
  },
  {
   "cell_type": "code",
   "execution_count": 1,
   "id": "8f029a7c-8f35-486c-8aa3-b3aeefea295a",
   "metadata": {},
   "outputs": [
    {
     "name": "stdout",
     "output_type": "stream",
     "text": [
      "Your browser will be opened to visit: https://auth.sourcery.ai/activate?user_code=CZNT-NQVQ\n",
      "\n",
      "Ensure that the following code is displayed: \u001b[32mCZNT-NQVQ\u001b[0m\n",
      "\n",
      "\u001b[32mSuccessfully logged in!\u001b[0m\n",
      "\u001b[90m╭─\u001b[0m\u001b[90m───────────────────────────────────\u001b[0m\u001b[90m tip \u001b[0m\u001b[90m────────────────────────────────────\u001b[0m\u001b[90m─╮\u001b[0m\n",
      "\u001b[90m│\u001b[0m\u001b[90m \u001b[0m\u001b[90mNext steps:                                                                 \u001b[0m\u001b[90m \u001b[0m\u001b[90m│\u001b[0m\n",
      "\u001b[90m│\u001b[0m\u001b[90m \u001b[0m\u001b[90m                                                                            \u001b[0m\u001b[90m \u001b[0m\u001b[90m│\u001b[0m\n",
      "\u001b[90m│\u001b[0m\u001b[90m \u001b[0m\u001b[1;33m • \u001b[0m\u001b[90mRun \u001b[0m\u001b[1;36;40msourcery init\u001b[0m\u001b[90m to set up your repo with a config file.                \u001b[0m\u001b[90m \u001b[0m\u001b[90m│\u001b[0m\n",
      "\u001b[90m│\u001b[0m\u001b[90m \u001b[0m\u001b[1;33m • \u001b[0m\u001b[90mRun \u001b[0m\u001b[1;36;40msourcery review .\u001b[0m\u001b[90m to scan the current directory for Sourcery issues. \u001b[0m\u001b[90m \u001b[0m\u001b[90m│\u001b[0m\n",
      "\u001b[90m│\u001b[0m\u001b[90m \u001b[0m\u001b[1;33m • \u001b[0m\u001b[90mCheck out our docs to see how to set up Sourcery as a \u001b[0m\u001b]8;id=505365;https://docs.sourcery.ai/Guides/Getting-Started/Pre-Commit/\u001b\\\u001b[4;34mpre-commit hook\u001b[0m\u001b]8;;\u001b\\\u001b[90m or \u001b[0m\u001b[90m \u001b[0m\u001b[90m│\u001b[0m\n",
      "\u001b[90m│\u001b[0m\u001b[90m \u001b[0m\u001b[1;33m   \u001b[0m\u001b[90min \u001b[0m\u001b]8;id=547376;https://docs.sourcery.ai/Guides/Getting-Started/CI/\u001b\\\u001b[4;34mCI\u001b[0m\u001b]8;;\u001b\\\u001b[90m                                                                    \u001b[0m\u001b[90m \u001b[0m\u001b[90m│\u001b[0m\n",
      "\u001b[90m╰──────────────────────────────────────────────────────────────────────────────╯\u001b[0m\n"
     ]
    }
   ],
   "source": [
    "!sourcery login"
   ]
  },
  {
   "cell_type": "code",
   "execution_count": 2,
   "id": "48dc2faa-7a4c-4588-8f0f-63b34faea6c6",
   "metadata": {},
   "outputs": [
    {
     "name": "stdout",
     "output_type": "stream",
     "text": [
      "def set_my_var(condition):\n",
      "    if condition:\n",
      "        my_var = 1\n",
      "    else:\n",
      "        my_var = 2\n",
      "    return my_var"
     ]
    }
   ],
   "source": [
    "!cat my_code.py"
   ]
  },
  {
   "cell_type": "code",
   "execution_count": 3,
   "id": "be728950-8e41-4fec-a1fb-ed9e60dd1c25",
   "metadata": {},
   "outputs": [
    {
     "name": "stdout",
     "output_type": "stream",
     "text": [
      "\u001b[2K\u001b[32m⠧\u001b[0m Authenticatingng\n",
      "\u001b[1A\u001b[2K\u001b[?25l\u001b[32m⠋\u001b[0m Collecting files\n",
      "\u001b[2Kmy_code.py:2-5 \u001b]8;id=11387;https://docs.sourcery.ai/Reference/Default-Rules/refactorings/assign-if-exp/\u001b\\\u001b[1;4;36;40massign-if-exp\u001b[0m\u001b]8;;\u001b\\\n",
      "\u001b[2Kmy_code.py:2-5 \u001b]8;id=849711;https://docs.sourcery.ai/Reference/Default-Rules/refactorings/inline-immediately-returned-variable/\u001b\\\u001b[1;4;36;40minline-immediately-returned-variable\u001b[0m\u001b]8;;\u001b\\\n",
      "\u001b[2KReviewing Python files     \u001b[90m━\u001b[0m\u001b[90m━\u001b[0m\u001b[90m━\u001b[0m\u001b[90m━\u001b[0m\u001b[90m━\u001b[0m\u001b[35m━\u001b[0m\u001b[91m━\u001b[0m\u001b[91m━\u001b[0m\u001b[91m━\u001b[0m\u001b[91m━\u001b[0m\u001b[91m━\u001b[0m\u001b[91m━\u001b[0m\u001b[91m━\u001b[0m\u001b[35m━\u001b[0m\u001b[90m━\u001b[0m\u001b[90m━\u001b[0m\u001b[90m━\u001b[0m\u001b[90m━\u001b[0m\u001b[90m━\u001b[0m\u001b[90m━\u001b[0m\u001b[90m━\u001b[0m\u001b[90m━\u001b[0m\u001b[90m━\u001b[0m\u001b[90m━\u001b[0m\u001b[90m━\u001b[0m\u001b[35m━\u001b[0m\u001b[91m━\u001b[0m\u001b[91m━\u001b[0m\u001b[91m━\u001b[0m\u001b[91m━\u001b[0m\u001b[91m━\u001b[0m\u001b[91m━\u001b[0m\u001b[91m━\u001b[0m\u001b[35m━\u001b[0m\u001b[90m━\u001b[0m\u001b[90m━\u001b[0m\u001b[90m━\u001b[0m\u001b[90m━\u001b[0m\u001b[90m━\u001b[0m\u001b[90m━\u001b[0m        \u001b[32m0/?\u001b[0m \u001b[36m \u001b[0m\n",
      "\u001b[?25h\n",
      "\u001b[92m─────────────────────────────────── \u001b[0mOverview\u001b[92m ───────────────────────────────────\u001b[0m\n",
      "\n",
      "\u001b[1;33m • \u001b[0m1 file scanned.                                                              \n",
      "\u001b[1;33m • \u001b[0m2 issues detected.                                                           \n",
      "\n",
      "\u001b[1mIssues by Type\u001b[0m                                                                  \n",
      "\n",
      "\u001b[1;33m • \u001b[0m2 issues were fixed by Sourcery. ✅                                          \n",
      "\u001b[1;33m • \u001b[0m0 issues need to be fixed manually.                                          \n",
      "\n",
      "\u001b[1mIssues by Rule ID                               \u001b[0m\n",
      "┏━━━━━━━━━━━━━━━━━━━━━━━━━━━━━━━━━━━━━━┳━━━━━━━┓\n",
      "┃\u001b[1m \u001b[0m\u001b[1mRule ID                             \u001b[0m\u001b[1m \u001b[0m┃\u001b[1m \u001b[0m\u001b[1mCount\u001b[0m\u001b[1m \u001b[0m┃\n",
      "┡━━━━━━━━━━━━━━━━━━━━━━━━━━━━━━━━━━━━━━╇━━━━━━━┩\n",
      "│ assign-if-exp                        │     1 │\n",
      "│ inline-immediately-returned-variable │     1 │\n",
      "├──────────────────────────────────────┼───────┤\n",
      "│ Total                                │     2 │\n",
      "└──────────────────────────────────────┴───────┘\n"
     ]
    }
   ],
   "source": [
    "!sourcery review --fix my_code.py"
   ]
  },
  {
   "cell_type": "code",
   "execution_count": 4,
   "id": "46927a09-3f52-4dc6-9501-9a7bc5b31c7a",
   "metadata": {},
   "outputs": [
    {
     "name": "stdout",
     "output_type": "stream",
     "text": [
      "def set_my_var(condition):\n",
      "    return 1 if condition else 2"
     ]
    }
   ],
   "source": [
    "!cat my_code.py"
   ]
  }
 ],
 "metadata": {
  "kernelspec": {
   "display_name": "Python 3 (ipykernel)",
   "language": "python",
   "name": "python3"
  },
  "language_info": {
   "codemirror_mode": {
    "name": "ipython",
    "version": 3
   },
   "file_extension": ".py",
   "mimetype": "text/x-python",
   "name": "python",
   "nbconvert_exporter": "python",
   "pygments_lexer": "ipython3",
   "version": "3.12.4"
  }
 },
 "nbformat": 4,
 "nbformat_minor": 5
}
