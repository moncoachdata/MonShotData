{
 "cells": [
  {
   "cell_type": "markdown",
   "id": "5cba4efc-5692-4ffe-8572-ffbb4ad2a942",
   "metadata": {},
   "source": [
    "# Ne cherche plus jamais manuellement dans les Notebooks Jupyter pour trouver ton code"
   ]
  },
  {
   "cell_type": "code",
   "execution_count": null,
   "id": "6c9031d1-f0d0-4583-9ac7-c28efb95a09b",
   "metadata": {},
   "outputs": [],
   "source": [
    "!pip install nbcommands"
   ]
  },
  {
   "cell_type": "code",
   "execution_count": null,
   "id": "6056381d-b84a-4cbf-a94d-b8267a8070d8",
   "metadata": {},
   "outputs": [],
   "source": [
    "## Exécuter dans la ligne de commande\n",
    "nbgrep \"import os\" ./"
   ]
  }
 ],
 "metadata": {
  "kernelspec": {
   "display_name": "Python 3 (ipykernel)",
   "language": "python",
   "name": "python3"
  },
  "language_info": {
   "codemirror_mode": {
    "name": "ipython",
    "version": 3
   },
   "file_extension": ".py",
   "mimetype": "text/x-python",
   "name": "python",
   "nbconvert_exporter": "python",
   "pygments_lexer": "ipython3",
   "version": "3.12.4"
  }
 },
 "nbformat": 4,
 "nbformat_minor": 5
}
