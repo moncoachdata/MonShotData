{
 "cells": [
  {
   "cell_type": "markdown",
   "id": "189573cb-a8b1-457e-9962-36c709f3e67d",
   "metadata": {},
   "source": [
    "# KMeans : cette limitation qui ralentit tes analyses\n",
    "\n",
    "[Lien du post MonShotData](https://www.monshotdata.com/p/kmeans-faiss)"
   ]
  },
  {
   "cell_type": "code",
   "execution_count": null,
   "id": "ae3e8892-60a3-468a-9ebd-44f91a6f37b2",
   "metadata": {},
   "outputs": [],
   "source": [
    "!pip install faiss-cpu"
   ]
  },
  {
   "cell_type": "code",
   "execution_count": null,
   "id": "fefe0b5e-8c42-4e42-a83b-6271f2bfc45e",
   "metadata": {},
   "outputs": [],
   "source": [
    "import pandas as pd\n",
    "import faiss\n",
    "from sklearn.cluster import KMeans"
   ]
  },
  {
   "cell_type": "markdown",
   "id": "4438d15e-32aa-41f6-852c-7c18099e4f0e",
   "metadata": {},
   "source": [
    "## Charger les données"
   ]
  },
  {
   "cell_type": "code",
   "execution_count": 2,
   "id": "deb61673-24f2-4d9c-8be2-855326079a53",
   "metadata": {},
   "outputs": [],
   "source": [
    "data = pd.read_csv(\"mnist_train.csv\")\n",
    "\n",
    "x = data.drop(columns = [\"label\"]).values\n",
    "y = data[\"label\"].values"
   ]
  },
  {
   "cell_type": "markdown",
   "id": "f31f7a4d-355f-4eea-83f9-375150c2a370",
   "metadata": {},
   "source": [
    "## KMeans de Sklearn"
   ]
  },
  {
   "cell_type": "code",
   "execution_count": 3,
   "id": "ab155b30-868f-4718-9cef-9b5e3721569d",
   "metadata": {},
   "outputs": [
    {
     "name": "stdout",
     "output_type": "stream",
     "text": [
      "1.37 s ± 496 ms per loop (mean ± std. dev. of 5 runs, 1 loop each)\n"
     ]
    }
   ],
   "source": [
    "%%timeit -n1 -r5\n",
    "\n",
    "kmeans = KMeans(n_clusters=10).fit(x)"
   ]
  },
  {
   "cell_type": "markdown",
   "id": "34052866-f09f-402f-bb0a-e4800b7b021c",
   "metadata": {},
   "source": [
    "## KMeans de Faiss"
   ]
  },
  {
   "cell_type": "code",
   "execution_count": 4,
   "id": "eae17cdf-3d6d-4e48-ad16-13427185bd39",
   "metadata": {},
   "outputs": [
    {
     "name": "stdout",
     "output_type": "stream",
     "text": [
      "83.3 ms ± 8.86 ms per loop (mean ± std. dev. of 5 runs, 1 loop each)\n"
     ]
    }
   ],
   "source": [
    "%%timeit -n1 -r5\n",
    "\n",
    "kmeans = faiss.Kmeans(d=x.shape[1], k=10)\n",
    "kmeans.train(x)"
   ]
  }
 ],
 "metadata": {
  "kernelspec": {
   "display_name": "Python 3 (ipykernel)",
   "language": "python",
   "name": "python3"
  },
  "language_info": {
   "codemirror_mode": {
    "name": "ipython",
    "version": 3
   },
   "file_extension": ".py",
   "mimetype": "text/x-python",
   "name": "python",
   "nbconvert_exporter": "python",
   "pygments_lexer": "ipython3",
   "version": "3.11.11"
  }
 },
 "nbformat": 4,
 "nbformat_minor": 5
}
