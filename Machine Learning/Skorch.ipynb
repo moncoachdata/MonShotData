{
 "cells": [
  {
   "cell_type": "markdown",
   "id": "75f6f714-4571-4623-bd11-07adfd286d7e",
   "metadata": {},
   "source": [
    "# Skorch : Utiliser l'API Scikit-learn sur les modèles PyTorch"
   ]
  },
  {
   "cell_type": "code",
   "execution_count": null,
   "id": "350ab9d2-78dc-44e3-9aaf-85233ada3c59",
   "metadata": {},
   "outputs": [],
   "source": [
    "!pip install skorch"
   ]
  },
  {
   "cell_type": "code",
   "execution_count": 3,
   "id": "4292b118-ef3c-47f8-bd50-7fd01a1d942e",
   "metadata": {},
   "outputs": [],
   "source": [
    "import torch\n",
    "import numpy as np\n",
    "from skorch import NeuralNetClassifier"
   ]
  },
  {
   "cell_type": "code",
   "execution_count": 5,
   "id": "f888f835-eb21-41e5-a9c3-ba5931eacff0",
   "metadata": {},
   "outputs": [],
   "source": [
    "# Générer des données synthétiques\n",
    "X = np.random.randn(10, 3).astype(np.float32)\n",
    "y = np.random.randint(0, 2, (10,)).astype(np.float32)\n",
    "\n",
    "X = torch.from_numpy(X)   # convertir en tenseurs\n",
    "y = torch.from_numpy(y).type(torch.LongTensor)"
   ]
  },
  {
   "cell_type": "code",
   "execution_count": 7,
   "id": "6ce593e5-7e72-45ed-8ce7-958fac3b9dfb",
   "metadata": {},
   "outputs": [],
   "source": [
    "# Définir un modèle PyTorch simple\n",
    "class MyModel(torch.nn.Module):\n",
    "    def __init__(self):\n",
    "        super(MyModel, self).__init__()\n",
    "        self.fc1 = torch.nn.Linear(3, 20)\n",
    "        self.fc2 = torch.nn.Linear(20, 2)\n",
    "    \n",
    "    def forward(self, x):\n",
    "        x = self.fc1(x)\n",
    "        x = torch.nn.functional.relu(x)\n",
    "        x = self.fc2(x)\n",
    "        return x"
   ]
  },
  {
   "cell_type": "code",
   "execution_count": 9,
   "id": "162978e2-91e8-46e8-a3be-bc481c9ba8d7",
   "metadata": {},
   "outputs": [],
   "source": [
    "# Créer un classificateur NeuralNet à l'aide de skorch\n",
    "model = NeuralNetClassifier(\n",
    "    MyModel,\n",
    "    max_epochs = 10,\n",
    "    lr = 0.1,\n",
    "    criterion = torch.nn.CrossEntropyLoss\n",
    ")"
   ]
  },
  {
   "cell_type": "code",
   "execution_count": 11,
   "id": "7ae170c8-5171-4e38-a74d-8aaa3fa0a8e0",
   "metadata": {},
   "outputs": [
    {
     "name": "stdout",
     "output_type": "stream",
     "text": [
      "  epoch    train_loss    valid_acc    valid_loss     dur\n",
      "-------  ------------  -----------  ------------  ------\n",
      "      1        \u001b[36m0.7003\u001b[0m       \u001b[32m1.0000\u001b[0m        \u001b[35m0.6092\u001b[0m  0.0149\n",
      "      2        \u001b[36m0.5568\u001b[0m       1.0000        \u001b[35m0.4970\u001b[0m  0.0037\n",
      "      3        \u001b[36m0.4657\u001b[0m       1.0000        \u001b[35m0.4222\u001b[0m  0.0031\n",
      "      4        \u001b[36m0.4049\u001b[0m       1.0000        \u001b[35m0.3705\u001b[0m  0.0040\n",
      "      5        \u001b[36m0.3620\u001b[0m       1.0000        \u001b[35m0.3335\u001b[0m  0.0025\n",
      "      6        \u001b[36m0.3300\u001b[0m       1.0000        \u001b[35m0.3064\u001b[0m  0.0034\n",
      "      7        \u001b[36m0.3048\u001b[0m       1.0000        \u001b[35m0.2860\u001b[0m  0.0041\n",
      "      8        \u001b[36m0.2842\u001b[0m       1.0000        \u001b[35m0.2704\u001b[0m  0.0098\n",
      "      9        \u001b[36m0.2668\u001b[0m       1.0000        \u001b[35m0.2583\u001b[0m  0.0089\n",
      "     10        \u001b[36m0.2517\u001b[0m       1.0000        \u001b[35m0.2489\u001b[0m  0.0067\n"
     ]
    },
    {
     "name": "stderr",
     "output_type": "stream",
     "text": [
      "/opt/anaconda3/lib/python3.11/site-packages/sklearn/model_selection/_split.py:776: UserWarning: The least populated class in y has only 1 members, which is less than n_splits=5.\n",
      "  warnings.warn(\n"
     ]
    }
   ],
   "source": [
    "# Utiliser l'API familière de scikit-learn pour l'entraînement et la prédiction\n",
    "model.fit(X, y)\n",
    "predictions = model.predict(X)"
   ]
  }
 ],
 "metadata": {
  "kernelspec": {
   "display_name": "Python 3 (ipykernel)",
   "language": "python",
   "name": "python3"
  },
  "language_info": {
   "codemirror_mode": {
    "name": "ipython",
    "version": 3
   },
   "file_extension": ".py",
   "mimetype": "text/x-python",
   "name": "python",
   "nbconvert_exporter": "python",
   "pygments_lexer": "ipython3",
   "version": "3.11.7"
  }
 },
 "nbformat": 4,
 "nbformat_minor": 5
}
