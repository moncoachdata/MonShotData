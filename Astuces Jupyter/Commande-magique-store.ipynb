{
 "cells": [
  {
   "cell_type": "markdown",
   "id": "03b2a8c9-f2f2-4e4d-836e-f9da51cce306",
   "metadata": {},
   "source": [
    "# Redémarrer le noyau Jupyter sans perdre les variables"
   ]
  },
  {
   "cell_type": "code",
   "execution_count": 1,
   "id": "969d60be-5d6b-4f54-88b8-93ad8e684953",
   "metadata": {},
   "outputs": [],
   "source": [
    "# Définir la variable\n",
    "valeur = 2024"
   ]
  },
  {
   "cell_type": "code",
   "execution_count": 2,
   "id": "f0d51e48-5e43-4019-b047-894af1c87058",
   "metadata": {},
   "outputs": [
    {
     "name": "stdout",
     "output_type": "stream",
     "text": [
      "Stored 'valeur' (int)\n"
     ]
    }
   ],
   "source": [
    "# Stocker la valeur à l'aide de la commande magique\n",
    "%store valeur"
   ]
  },
  {
   "cell_type": "markdown",
   "id": "17035ef6-b5af-472e-93d9-6c6b7ed6eae4",
   "metadata": {},
   "source": [
    "## Redémarrer le noyau"
   ]
  },
  {
   "cell_type": "code",
   "execution_count": 1,
   "id": "e1a02e6b-de61-4178-901c-36754397cacb",
   "metadata": {},
   "outputs": [],
   "source": [
    "# Restauration de la variable\n",
    "%store -r valeur"
   ]
  },
  {
   "cell_type": "code",
   "execution_count": 2,
   "id": "5756b8a0-7628-4890-b0fb-e1b372fc25e8",
   "metadata": {},
   "outputs": [
    {
     "data": {
      "text/plain": [
       "2024"
      ]
     },
     "execution_count": 2,
     "metadata": {},
     "output_type": "execute_result"
    }
   ],
   "source": [
    "valeur"
   ]
  }
 ],
 "metadata": {
  "kernelspec": {
   "display_name": "Python 3 (ipykernel)",
   "language": "python",
   "name": "python3"
  },
  "language_info": {
   "codemirror_mode": {
    "name": "ipython",
    "version": 3
   },
   "file_extension": ".py",
   "mimetype": "text/x-python",
   "name": "python",
   "nbconvert_exporter": "python",
   "pygments_lexer": "ipython3",
   "version": "3.10.13"
  }
 },
 "nbformat": 4,
 "nbformat_minor": 5
}
