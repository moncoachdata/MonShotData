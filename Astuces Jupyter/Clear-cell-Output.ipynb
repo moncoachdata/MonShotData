{
 "cells": [
  {
   "cell_type": "markdown",
   "id": "1266bd38",
   "metadata": {},
   "source": [
    "# Efface la sortie des cellules dans Jupyter Notebook pendant l'exécution"
   ]
  },
  {
   "cell_type": "code",
   "execution_count": 1,
   "id": "d1dcd951",
   "metadata": {},
   "outputs": [],
   "source": [
    "import time\n",
    "from IPython.display import clear_output"
   ]
  },
  {
   "cell_type": "code",
   "execution_count": 3,
   "id": "edc8a3a8",
   "metadata": {},
   "outputs": [
    {
     "name": "stdout",
     "output_type": "stream",
     "text": [
      "Output numéro : 1\n",
      "Output numéro : 2\n",
      "Output numéro : 3\n",
      "Output numéro : 4\n",
      "Output numéro : 5\n",
      "Output numéro : 6\n",
      "Output numéro : 7\n",
      "Output numéro : 8\n",
      "Output numéro : 9\n"
     ]
    }
   ],
   "source": [
    "for i in range(9):\n",
    "    \n",
    "    print(f'Output numéro : {i+1}')\n",
    "    time.sleep(1)"
   ]
  },
  {
   "cell_type": "code",
   "execution_count": 4,
   "id": "12e2beb5",
   "metadata": {},
   "outputs": [
    {
     "name": "stdout",
     "output_type": "stream",
     "text": [
      "Output numéro : 100\n"
     ]
    }
   ],
   "source": [
    "for i in range(100):\n",
    "\n",
    "    ## Attendre le prochain\n",
    "    ## output avant de nettoyer\n",
    "    clear_output(wait=True) \n",
    "    \n",
    "    print(f'Output numéro : {i+1}')\n",
    "    time.sleep(1)"
   ]
  }
 ],
 "metadata": {
  "kernelspec": {
   "display_name": "Python 3 (ipykernel)",
   "language": "python",
   "name": "python3"
  },
  "language_info": {
   "codemirror_mode": {
    "name": "ipython",
    "version": 3
   },
   "file_extension": ".py",
   "mimetype": "text/x-python",
   "name": "python",
   "nbconvert_exporter": "python",
   "pygments_lexer": "ipython3",
   "version": "3.10.14"
  }
 },
 "nbformat": 4,
 "nbformat_minor": 5
}
