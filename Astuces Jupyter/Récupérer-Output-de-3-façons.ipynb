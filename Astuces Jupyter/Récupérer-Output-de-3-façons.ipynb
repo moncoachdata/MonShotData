{
 "cells": [
  {
   "cell_type": "markdown",
   "id": "400ebde1-e212-4e95-8dd9-90d9c094fb8f",
   "metadata": {},
   "source": [
    "# Le hack le plus cool de Jupyter Notebook"
   ]
  },
  {
   "cell_type": "code",
   "execution_count": 1,
   "id": "80f92048-62a8-4136-99bd-e49ce92302eb",
   "metadata": {},
   "outputs": [],
   "source": [
    "import numpy as np"
   ]
  },
  {
   "cell_type": "code",
   "execution_count": 3,
   "id": "52630521-af89-4191-89ff-7abe52b40abc",
   "metadata": {},
   "outputs": [
    {
     "data": {
      "text/plain": [
       "array([1, 2, 3])"
      ]
     },
     "execution_count": 3,
     "metadata": {},
     "output_type": "execute_result"
    }
   ],
   "source": [
    "np.array([1,2,3])"
   ]
  },
  {
   "cell_type": "markdown",
   "id": "310c0741-5b86-4ccd-bd34-b06b425198a8",
   "metadata": {},
   "source": [
    "## Méthode 1"
   ]
  },
  {
   "cell_type": "code",
   "execution_count": 5,
   "id": "8f2e3a7b-e685-4f95-a8ae-055659133327",
   "metadata": {},
   "outputs": [
    {
     "data": {
      "text/plain": [
       "array([1, 2, 3])"
      ]
     },
     "execution_count": 5,
     "metadata": {},
     "output_type": "execute_result"
    }
   ],
   "source": [
    "_3"
   ]
  },
  {
   "cell_type": "markdown",
   "id": "b9e204af-4c4d-4b25-b957-4fad9c281356",
   "metadata": {},
   "source": [
    "## Méthode 2"
   ]
  },
  {
   "cell_type": "code",
   "execution_count": 7,
   "id": "2214b2a6-fccd-479f-b2b6-cf934bc20abc",
   "metadata": {},
   "outputs": [
    {
     "data": {
      "text/plain": [
       "array([1, 2, 3])"
      ]
     },
     "execution_count": 7,
     "metadata": {},
     "output_type": "execute_result"
    }
   ],
   "source": [
    "Out[3]"
   ]
  },
  {
   "cell_type": "markdown",
   "id": "0554e564-c1b8-477c-b749-926774e74b67",
   "metadata": {},
   "source": [
    "## Méthode 3"
   ]
  },
  {
   "cell_type": "code",
   "execution_count": 9,
   "id": "226919ba-0ffc-4575-9b46-baee72d57909",
   "metadata": {},
   "outputs": [
    {
     "data": {
      "text/plain": [
       "array([1, 2, 3])"
      ]
     },
     "execution_count": 9,
     "metadata": {},
     "output_type": "execute_result"
    }
   ],
   "source": [
    "_oh[3]"
   ]
  }
 ],
 "metadata": {
  "kernelspec": {
   "display_name": "Python 3 (ipykernel)",
   "language": "python",
   "name": "python3"
  },
  "language_info": {
   "codemirror_mode": {
    "name": "ipython",
    "version": 3
   },
   "file_extension": ".py",
   "mimetype": "text/x-python",
   "name": "python",
   "nbconvert_exporter": "python",
   "pygments_lexer": "ipython3",
   "version": "3.11.7"
  }
 },
 "nbformat": 4,
 "nbformat_minor": 5
}
