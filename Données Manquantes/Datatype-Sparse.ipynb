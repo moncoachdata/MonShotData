{
 "cells": [
  {
   "cell_type": "markdown",
   "id": "ba266498-325d-41ac-b251-c8f160234d1c",
   "metadata": {},
   "source": [
    "# Type de données pour gérer les colonnes de valeurs manquantes avec Pandas"
   ]
  },
  {
   "cell_type": "code",
   "execution_count": 1,
   "id": "bd09141a-f316-4578-ba9e-e9dad681c9b6",
   "metadata": {},
   "outputs": [],
   "source": [
    "import pandas as pd\n",
    "import numpy as np"
   ]
  },
  {
   "cell_type": "code",
   "execution_count": 2,
   "id": "37254d8c-6f40-4549-a67b-b860d7b9bda6",
   "metadata": {},
   "outputs": [],
   "source": [
    "df = pd.DataFrame(np.random.randint(1, 1000000, size = (10**6, 3)), \n",
    "                  columns = [\"col1\", \"col2\", \"col3\"])\n",
    "\n",
    "df[\"col1\"] = df.col1.astype(np.float64)"
   ]
  },
  {
   "cell_type": "code",
   "execution_count": 3,
   "id": "3845e7c3-07d9-4ee7-86bc-4411b756d660",
   "metadata": {},
   "outputs": [],
   "source": [
    "df.loc[::2, \"col1\"] = np.nan\n",
    "df.loc[::3, \"col1\"] = np.nan\n",
    "df.loc[::5, \"col1\"] = np.nan"
   ]
  },
  {
   "cell_type": "code",
   "execution_count": 4,
   "id": "9c479c1a-60b1-4d4c-91e2-11ef99cc634b",
   "metadata": {},
   "outputs": [
    {
     "data": {
      "text/plain": [
       "(733334, 3)"
      ]
     },
     "execution_count": 4,
     "metadata": {},
     "output_type": "execute_result"
    }
   ],
   "source": [
    "df[df.col1.isna()].shape"
   ]
  },
  {
   "cell_type": "code",
   "execution_count": 5,
   "id": "c32a6116-ff2a-4320-bd9a-2184a4dc7699",
   "metadata": {},
   "outputs": [
    {
     "name": "stdout",
     "output_type": "stream",
     "text": [
      "<class 'pandas.core.series.Series'>\n",
      "RangeIndex: 1000000 entries, 0 to 999999\n",
      "Series name: col1\n",
      "Non-Null Count   Dtype  \n",
      "--------------   -----  \n",
      "266666 non-null  float64\n",
      "dtypes: float64(1)\n",
      "memory usage: 7.6 MB\n"
     ]
    }
   ],
   "source": [
    "df.col1.info()"
   ]
  },
  {
   "cell_type": "markdown",
   "id": "f6835701-e587-472a-93e5-09487cacc55f",
   "metadata": {},
   "source": [
    "## Conversion de la colonne en Datatype Sparse"
   ]
  },
  {
   "cell_type": "code",
   "execution_count": 6,
   "id": "cacaf016-2bf3-4fbe-bdfd-acf1a5d9ec3a",
   "metadata": {},
   "outputs": [],
   "source": [
    "df[\"col1\"] = df.col1.astype(\"Sparse[float32]\")"
   ]
  },
  {
   "cell_type": "code",
   "execution_count": 7,
   "id": "85c16342-873d-49a8-a5f0-a15d1d9fc50a",
   "metadata": {},
   "outputs": [
    {
     "name": "stdout",
     "output_type": "stream",
     "text": [
      "<class 'pandas.core.series.Series'>\n",
      "RangeIndex: 1000000 entries, 0 to 999999\n",
      "Series name: col1\n",
      "Non-Null Count   Dtype               \n",
      "--------------   -----               \n",
      "266666 non-null  Sparse[float32, nan]\n",
      "dtypes: Sparse[float32, nan](1)\n",
      "memory usage: 2.0 MB\n"
     ]
    }
   ],
   "source": [
    "df.col1.info()"
   ]
  }
 ],
 "metadata": {
  "kernelspec": {
   "display_name": "Python 3 (ipykernel)",
   "language": "python",
   "name": "python3"
  },
  "language_info": {
   "codemirror_mode": {
    "name": "ipython",
    "version": 3
   },
   "file_extension": ".py",
   "mimetype": "text/x-python",
   "name": "python",
   "nbconvert_exporter": "python",
   "pygments_lexer": "ipython3",
   "version": "3.10.14"
  }
 },
 "nbformat": 4,
 "nbformat_minor": 5
}
